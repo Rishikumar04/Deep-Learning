{
 "cells": [
  {
   "cell_type": "code",
   "execution_count": 10,
   "metadata": {
    "id": "I3CrRhyCsMw1"
   },
   "outputs": [],
   "source": [
    "import pandas as pd\n",
    "import numpy as np\n",
    "from tqdm import tqdm\n",
    "from sklearn.ensemble import VotingClassifier\n",
    "\n",
    "#Reading images\n",
    "from skimage.io import imread\n",
    "from skimage.transform import resize\n",
    "from matplotlib import pyplot as plt\n",
    "\n",
    "\n",
    "#For spliting data\n",
    "from sklearn.model_selection import train_test_split\n",
    "\n",
    "#evaluation\n",
    "from sklearn.metrics import accuracy_score, confusion_matrix, classification_report\n",
    "\n",
    "from keras.utils.np_utils import to_categorical\n",
    "from keras.layers import BatchNormalization, Dense, Activation, Dropout, Conv2D, MaxPooling2D, Flatten\n",
    "from keras.models import Sequential\n",
    "from keras.datasets import fashion_mnist\n",
    "from keras.callbacks import EarlyStopping\n",
    "from keras import optimizers\n",
    "#from google.colab import files\n",
    "\n",
    "from keras.layers import Input, Lambda, Dense, Flatten\n",
    "from keras.models import Model\n",
    "from keras.applications.vgg16 import preprocess_input, VGG16\n",
    "import tensorflow as tf"
   ]
  },
  {
   "cell_type": "code",
   "execution_count": 9,
   "metadata": {},
   "outputs": [
    {
     "data": {
      "text/html": [
       "<div>\n",
       "<style scoped>\n",
       "    .dataframe tbody tr th:only-of-type {\n",
       "        vertical-align: middle;\n",
       "    }\n",
       "\n",
       "    .dataframe tbody tr th {\n",
       "        vertical-align: top;\n",
       "    }\n",
       "\n",
       "    .dataframe thead th {\n",
       "        text-align: right;\n",
       "    }\n",
       "</style>\n",
       "<table border=\"1\" class=\"dataframe\">\n",
       "  <thead>\n",
       "    <tr style=\"text-align: right;\">\n",
       "      <th></th>\n",
       "      <th>id</th>\n",
       "      <th>label</th>\n",
       "    </tr>\n",
       "  </thead>\n",
       "  <tbody>\n",
       "    <tr>\n",
       "      <th>0</th>\n",
       "      <td>1</td>\n",
       "      <td>9</td>\n",
       "    </tr>\n",
       "    <tr>\n",
       "      <th>1</th>\n",
       "      <td>2</td>\n",
       "      <td>0</td>\n",
       "    </tr>\n",
       "    <tr>\n",
       "      <th>2</th>\n",
       "      <td>3</td>\n",
       "      <td>0</td>\n",
       "    </tr>\n",
       "    <tr>\n",
       "      <th>3</th>\n",
       "      <td>4</td>\n",
       "      <td>3</td>\n",
       "    </tr>\n",
       "    <tr>\n",
       "      <th>4</th>\n",
       "      <td>5</td>\n",
       "      <td>0</td>\n",
       "    </tr>\n",
       "    <tr>\n",
       "      <th>...</th>\n",
       "      <td>...</td>\n",
       "      <td>...</td>\n",
       "    </tr>\n",
       "    <tr>\n",
       "      <th>59995</th>\n",
       "      <td>59996</td>\n",
       "      <td>5</td>\n",
       "    </tr>\n",
       "    <tr>\n",
       "      <th>59996</th>\n",
       "      <td>59997</td>\n",
       "      <td>1</td>\n",
       "    </tr>\n",
       "    <tr>\n",
       "      <th>59997</th>\n",
       "      <td>59998</td>\n",
       "      <td>3</td>\n",
       "    </tr>\n",
       "    <tr>\n",
       "      <th>59998</th>\n",
       "      <td>59999</td>\n",
       "      <td>0</td>\n",
       "    </tr>\n",
       "    <tr>\n",
       "      <th>59999</th>\n",
       "      <td>60000</td>\n",
       "      <td>5</td>\n",
       "    </tr>\n",
       "  </tbody>\n",
       "</table>\n",
       "<p>60000 rows × 2 columns</p>\n",
       "</div>"
      ],
      "text/plain": [
       "          id  label\n",
       "0          1      9\n",
       "1          2      0\n",
       "2          3      0\n",
       "3          4      3\n",
       "4          5      0\n",
       "...      ...    ...\n",
       "59995  59996      5\n",
       "59996  59997      1\n",
       "59997  59998      3\n",
       "59998  59999      0\n",
       "59999  60000      5\n",
       "\n",
       "[60000 rows x 2 columns]"
      ]
     },
     "execution_count": 9,
     "metadata": {},
     "output_type": "execute_result"
    }
   ],
   "source": [
    "pd.read_csv('../Fashion mnist/train_LbELtWX/train.c')"
   ]
  },
  {
   "cell_type": "code",
   "execution_count": 16,
   "metadata": {},
   "outputs": [
    {
     "name": "stdout",
     "output_type": "stream",
     "text": [
      "fashion_mnsit_pre.ipynb  \u001b[34mtest_ScVgIM0\u001b[m\u001b[m/            \u001b[34mtrain_LbELtWX\u001b[m\u001b[m/\r\n"
     ]
    }
   ],
   "source": [
    "ls"
   ]
  },
  {
   "cell_type": "code",
   "execution_count": 30,
   "metadata": {},
   "outputs": [],
   "source": [
    "X_train = pd.read_csv('train_LbELtWX/train.csv')#Reading Train Data\n",
    "X_test = pd.read_csv('test_ScVgIM0/test.csv')#Reading test data\n",
    "\n",
    "X_train_path = '../Fashion mnist/train_LbELtWX/train/'#Train images path\n",
    "X_test_path =  '../Fashion mnist/test_ScVgIM0/test/'#Test images path"
   ]
  },
  {
   "cell_type": "code",
   "execution_count": 7,
   "metadata": {},
   "outputs": [
    {
     "data": {
      "text/html": [
       "<div>\n",
       "<style scoped>\n",
       "    .dataframe tbody tr th:only-of-type {\n",
       "        vertical-align: middle;\n",
       "    }\n",
       "\n",
       "    .dataframe tbody tr th {\n",
       "        vertical-align: top;\n",
       "    }\n",
       "\n",
       "    .dataframe thead th {\n",
       "        text-align: right;\n",
       "    }\n",
       "</style>\n",
       "<table border=\"1\" class=\"dataframe\">\n",
       "  <thead>\n",
       "    <tr style=\"text-align: right;\">\n",
       "      <th></th>\n",
       "      <th>id</th>\n",
       "      <th>label</th>\n",
       "    </tr>\n",
       "  </thead>\n",
       "  <tbody>\n",
       "    <tr>\n",
       "      <th>0</th>\n",
       "      <td>1</td>\n",
       "      <td>9</td>\n",
       "    </tr>\n",
       "    <tr>\n",
       "      <th>1</th>\n",
       "      <td>2</td>\n",
       "      <td>0</td>\n",
       "    </tr>\n",
       "    <tr>\n",
       "      <th>2</th>\n",
       "      <td>3</td>\n",
       "      <td>0</td>\n",
       "    </tr>\n",
       "    <tr>\n",
       "      <th>3</th>\n",
       "      <td>4</td>\n",
       "      <td>3</td>\n",
       "    </tr>\n",
       "    <tr>\n",
       "      <th>4</th>\n",
       "      <td>5</td>\n",
       "      <td>0</td>\n",
       "    </tr>\n",
       "  </tbody>\n",
       "</table>\n",
       "</div>"
      ],
      "text/plain": [
       "   id  label\n",
       "0   1      9\n",
       "1   2      0\n",
       "2   3      0\n",
       "3   4      3\n",
       "4   5      0"
      ]
     },
     "execution_count": 7,
     "metadata": {},
     "output_type": "execute_result"
    }
   ],
   "source": [
    "X_train.head()"
   ]
  },
  {
   "cell_type": "code",
   "execution_count": 11,
   "metadata": {},
   "outputs": [
    {
     "data": {
      "text/plain": [
       "(60000, 28, 28, 1)"
      ]
     },
     "execution_count": 11,
     "metadata": {},
     "output_type": "execute_result"
    }
   ],
   "source": [
    "#Coverting images into numpy array.\n",
    "\n",
    "train_img = []\n",
    "for img in X_train['id']:\n",
    "    #Defining image path\n",
    "    image_path = X_train_path + str(img) +'.png'\n",
    "    \n",
    "    #Reading Image\n",
    "    img = imread(image_path)\n",
    "    \n",
    "    #Normalizing the image\n",
    "    img = img/255\n",
    "    \n",
    "    #resizing the image to (28, 28, 1)\n",
    "    img = resize(img, output_shape = (28, 28, 1), mode = 'constant', anti_aliasing = True)\n",
    "    \n",
    "    #Converting the type of pixel to float 32\n",
    "    img = img.astype('float32')\n",
    "    \n",
    "    #Appending the image\n",
    "    train_img.append(img)\n",
    "    \n",
    "#Converting list to numpy array\n",
    "train_x = np.array(train_img)\n",
    "train_x.shape"
   ]
  },
  {
   "cell_type": "code",
   "execution_count": 18,
   "metadata": {},
   "outputs": [
    {
     "data": {
      "text/plain": [
       "(10000, 28, 28, 1)"
      ]
     },
     "execution_count": 18,
     "metadata": {},
     "output_type": "execute_result"
    }
   ],
   "source": [
    "test_img = []\n",
    "for img in X_test['id']:\n",
    "    #Defining image path\n",
    "    image_path = X_test_path + str(img) +'.png'\n",
    "    \n",
    "    #Reading Image\n",
    "    img = imread(image_path)\n",
    "    \n",
    "    #Normalizing the image\n",
    "    img = img/255\n",
    "    \n",
    "    #resizing the image to (28, 28, 1)\n",
    "    img = resize(img, output_shape = (28, 28, 1), mode = 'constant', anti_aliasing = True)\n",
    "    \n",
    "    #Converting the type of pixel to float 32\n",
    "    img = img.astype('float32')\n",
    "    \n",
    "    #Appending the image\n",
    "    test_img.append(img)\n",
    "    \n",
    "#Converting list to numpy array\n",
    "test_x = np.array(test_img)\n",
    "test_x.shape"
   ]
  },
  {
   "cell_type": "code",
   "execution_count": 19,
   "metadata": {},
   "outputs": [],
   "source": [
    "#Saving the numpy array format\n",
    "np.save('X_train.npy', train_x)\n",
    "np.save('X_test.npy', test_x)"
   ]
  },
  {
   "cell_type": "code",
   "execution_count": 24,
   "metadata": {},
   "outputs": [
    {
     "data": {
      "image/png": "[encoded data removed]",
      "text/plain": [
       "<Figure size 432x288 with 1 Axes>"
      ]
     },
     "metadata": {
      "needs_background": "light"
     },
     "output_type": "display_data"
    },
    {
     "name": "stdout",
     "output_type": "stream",
     "text": [
      "Label: 9\n"
     ]
    },
    {
     "data": {
      "image/png": "[encoded data removed]",
      "text/plain": [
       "<Figure size 432x288 with 1 Axes>"
      ]
     },
     "metadata": {
      "needs_background": "light"
     },
     "output_type": "display_data"
    },
    {
     "name": "stdout",
     "output_type": "stream",
     "text": [
      "Label: 0\n"
     ]
    },
    {
     "data": {
      "image/png": "[encoded data removed]",
      "text/plain": [
       "<Figure size 432x288 with 1 Axes>"
      ]
     },
     "metadata": {
      "needs_background": "light"
     },
     "output_type": "display_data"
    },
    {
     "name": "stdout",
     "output_type": "stream",
     "text": [
      "Label: 0\n"
     ]
    },
    {
     "data": {
      "image/png": "[encoded data removed]",
      "text/plain": [
       "<Figure size 432x288 with 1 Axes>"
      ]
     },
     "metadata": {
      "needs_background": "light"
     },
     "output_type": "display_data"
    },
    {
     "name": "stdout",
     "output_type": "stream",
     "text": [
      "Label: 3\n"
     ]
    },
    {
     "data": {
      "image/png": "[encoded data removed]",
      "text/plain": [
       "<Figure size 432x288 with 1 Axes>"
      ]
     },
     "metadata": {
      "needs_background": "light"
     },
     "output_type": "display_data"
    },
    {
     "name": "stdout",
     "output_type": "stream",
     "text": [
      "Label: 0\n"
     ]
    },
    {
     "data": {
      "image/png": "[encoded data removed]",
      "text/plain": [
       "<Figure size 432x288 with 1 Axes>"
      ]
     },
     "metadata": {
      "needs_background": "light"
     },
     "output_type": "display_data"
    },
    {
     "name": "stdout",
     "output_type": "stream",
     "text": [
      "Label: 2\n"
     ]
    },
    {
     "data": {
      "image/png": "[encoded data removed]",
      "text/plain": [
       "<Figure size 432x288 with 1 Axes>"
      ]
     },
     "metadata": {
      "needs_background": "light"
     },
     "output_type": "display_data"
    },
    {
     "name": "stdout",
     "output_type": "stream",
     "text": [
      "Label: 7\n"
     ]
    },
    {
     "data": {
      "image/png": "[encoded data removed]",
      "text/plain": [
       "<Figure size 432x288 with 1 Axes>"
      ]
     },
     "metadata": {
      "needs_background": "light"
     },
     "output_type": "display_data"
    },
    {
     "name": "stdout",
     "output_type": "stream",
     "text": [
      "Label: 2\n"
     ]
    },
    {
     "data": {
      "image/png": "[encoded data removed]",
      "text/plain": [
       "<Figure size 432x288 with 1 Axes>"
      ]
     },
     "metadata": {
      "needs_background": "light"
     },
     "output_type": "display_data"
    },
    {
     "name": "stdout",
     "output_type": "stream",
     "text": [
      "Label: 5\n"
     ]
    },
    {
     "data": {
      "image/png": "[encoded data removed]",
      "text/plain": [
       "<Figure size 432x288 with 1 Axes>"
      ]
     },
     "metadata": {
      "needs_background": "light"
     },
     "output_type": "display_data"
    },
    {
     "name": "stdout",
     "output_type": "stream",
     "text": [
      "Label: 5\n"
     ]
    }
   ],
   "source": [
    "\n",
    "for i in range(10):\n",
    "    plt.imshow(X_train_[i])\n",
    "    plt.show()\n",
    "    print('Label:',X_train.loc[i,'label'])"
   ]
  },
  {
   "cell_type": "code",
   "execution_count": 31,
   "metadata": {},
   "outputs": [
    {
     "data": {
      "text/plain": [
       "((60000,), (60000, 10))"
      ]
     },
     "execution_count": 31,
     "metadata": {},
     "output_type": "execute_result"
    }
   ],
   "source": [
    "y = X_train['label'].values\n",
    "y_train = to_categorical(y, num_classes=10)\n",
    "y.shape, y_train.shape"
   ]
  },
  {
   "cell_type": "code",
   "execution_count": 37,
   "metadata": {},
   "outputs": [],
   "source": [
    "#Reading the array\n",
    "X_train = np.load('X_train.npy', allow_pickle = True)\n",
    "X_test = np.load('X_test.npy', allow_pickle = True)"
   ]
  },
  {
   "cell_type": "code",
   "execution_count": 38,
   "metadata": {},
   "outputs": [
    {
     "data": {
      "text/plain": [
       "((60000, 28, 28, 1), (10000, 28, 28, 1))"
      ]
     },
     "execution_count": 38,
     "metadata": {},
     "output_type": "execute_result"
    }
   ],
   "source": [
    "X_train_.shape, X_test_.shape"
   ]
  },
  {
   "cell_type": "code",
   "execution_count": null,
   "metadata": {},
   "outputs": [],
   "source": [
    "def basic_cnn():\n",
    "\n",
    "  '''\n",
    "  Function to build a simple Convolution Neural Network\n",
    "  '''\n",
    "  model = Sequential()\n",
    "\n",
    "\n",
    "  #Adding CNN layers + Max_pooling and Activation \n",
    "  model.add(Conv2D(input_shape = (X_train.shape[1],X_train.shape[2],X_train.shape[3]),filters = 50,kernel_size = (3,3),strides = (1,1),padding = 'same'))\n",
    "  model.add(Activation('relu'))\n",
    "  model.add(MaxPooling2D(pool_size = (2,2)))\n",
    "\n",
    "  #Flattening Layer before the Dense Layer \n",
    "  model.add(Flatten())\n",
    "\n",
    "  #Dense Layer with 50neurons\n",
    "  model.add(Dense(50,activation = 'relu'))\n",
    "  #Classification or the o/p layer \n",
    "  model.add(Dense(10,activation = 'softmax'))\n",
    "\n",
    "  adam = optimizers.Adam(lr = 0.001)\n",
    "  model.compile(loss = 'categorical_crossentropy',optimizer = adam,metrics = ['accuracy'])\n",
    "\n",
    "  return model"
   ]
  },
  {
   "cell_type": "code",
   "execution_count": null,
   "metadata": {},
   "outputs": [],
   "source": [
    "model = basic_cnn()"
   ]
  },
  {
   "cell_type": "code",
   "execution_count": null,
   "metadata": {},
   "outputs": [],
   "source": [
    "model.fit(X_train, y_train, validation_split=0.3, epochs = 100, batch_size=1024, verbose=1)"
   ]
  },
  {
   "cell_type": "code",
   "execution_count": null,
   "metadata": {},
   "outputs": [],
   "source": [
    "#To covert the one hot encoded values to 1-D label.\n",
    "\n",
    "train_val = []\n",
    "for i in range(y_train.shape[0]):\n",
    "    for ind in range(0,10):\n",
    "        if y_train[i][ind] == 1.0:\n",
    "            train_val.append(ind)\n",
    "train_val = pd.Series(np.array(train_val))"
   ]
  },
  {
   "cell_type": "code",
   "execution_count": null,
   "metadata": {},
   "outputs": [],
   "source": [
    "test_pred = model.predict_classes(X_test)"
   ]
  },
  {
   "cell_type": "code",
   "execution_count": null,
   "metadata": {},
   "outputs": [],
   "source": [
    "sample_df = pd.read_csv('sample_submission_I5njJSF.csv')\n",
    "sample_df['label'] = test_pred\n",
    "sample_df.to_csv('First_tial_pred.csv', index = None)\n",
    "files.download('First_tial_pred.csv')"
   ]
  },
  {
   "cell_type": "code",
   "execution_count": 5,
   "metadata": {
    "id": "HU0Pi1X7sVYm"
   },
   "outputs": [],
   "source": [
    "## Deeper CNN\n",
    "def deep_cnn():\n",
    "\n",
    "  '''\n",
    "  Function to build a simple Convolution Neural Network\n",
    "  '''\n",
    "  model = Sequential()\n",
    "\n",
    "\n",
    "  #Adding CNN layers + Max_pooling and Activation \n",
    "  model.add(Conv2D(input_shape = (X_train.shape[1],X_train.shape[2],X_train.shape[3]),filters = 50,kernel_size = (3,3),strides = (1,1),padding = 'same'))\n",
    "  model.add(Activation('relu'))\n",
    "  model.add(Conv2D(filters = 50,kernel_size = (3,3),strides = (1,1),padding = 'same'))\n",
    "  model.add(Activation('relu'))\n",
    "  model.add(MaxPooling2D(pool_size = (2,2)))\n",
    "\n",
    "  model.add(Conv2D(filters = 50,kernel_size = (3,3),strides = (1,1),padding = 'same'))\n",
    "  model.add(Activation('relu'))\n",
    "  model.add(Conv2D(filters = 50,kernel_size = (3,3),strides = (1,1),padding = 'same'))\n",
    "  model.add(Activation('relu'))\n",
    "  model.add(MaxPooling2D(pool_size = (2,2)))\n",
    "\n",
    "  model.add(Conv2D(filters = 50,kernel_size = (3,3),strides = (1,1),padding = 'same'))\n",
    "  model.add(BatchNormalization())\n",
    "  model.add(Activation('relu'))\n",
    "  model.add(Conv2D(filters = 50,kernel_size = (3,3),strides = (1,1),padding = 'same',kernel_initializer = 'he_normal'))\n",
    "  model.add(Activation('relu'))\n",
    "  model.add(MaxPooling2D(pool_size = (2,2)))\n",
    "\n",
    "  #Flattening Layer before the Dense Layer \n",
    "  model.add(Flatten())\n",
    "\n",
    "  #Dense Layer with 50neurons\n",
    "  model.add(Dense(50,activation = 'relu'))\n",
    "  model.add(Dropout(0.5))\n",
    "  #Classification or the o/p layer \n",
    "  model.add(Dense(10,activation = 'softmax'))\n",
    "\n",
    "  adam = optimizers.Adam(lr = 0.001)\n",
    "  model.compile(loss = 'categorical_crossentropy',optimizer = adam,metrics = ['accuracy'])\n",
    "\n",
    "  return model"
   ]
  },
  {
   "cell_type": "code",
   "execution_count": 17,
   "metadata": {
    "colab": {
     "base_uri": "https://localhost:8080/"
    },
    "id": "iO-LG7PYsjJU",
    "outputId": "26c1acc5-ef15-4ce5-9fc9-249258f8c643"
   },
   "outputs": [
    {
     "name": "stderr",
     "output_type": "stream",
     "text": [
      "/usr/local/lib/python3.7/dist-packages/tensorflow/python/keras/optimizer_v2/optimizer_v2.py:375: UserWarning: The `lr` argument is deprecated, use `learning_rate` instead.\n",
      "  \"The `lr` argument is deprecated, use `learning_rate` instead.\")\n"
     ]
    }
   ],
   "source": [
    "model = deep_cnn()"
   ]
  },
  {
   "cell_type": "code",
   "execution_count": 18,
   "metadata": {
    "colab": {
     "base_uri": "https://localhost:8080/"
    },
    "id": "PR6uowNdso0B",
    "outputId": "91443f25-5d6b-4a80-e54e-c79e0be7acc5"
   },
   "outputs": [
    {
     "name": "stdout",
     "output_type": "stream",
     "text": [
      "Epoch 1/100\n",
      "42/42 [==============================] - 6s 112ms/step - loss: 1.6661 - accuracy: 0.4257 - val_loss: 0.8935 - val_accuracy: 0.6823\n",
      "Epoch 2/100\n",
      "42/42 [==============================] - 3s 80ms/step - loss: 0.7776 - accuracy: 0.7295 - val_loss: 0.6180 - val_accuracy: 0.7562\n",
      "Epoch 3/100\n",
      "42/42 [==============================] - 3s 80ms/step - loss: 0.6402 - accuracy: 0.7785 - val_loss: 0.4049 - val_accuracy: 0.8538\n",
      "Epoch 4/100\n",
      "42/42 [==============================] - 3s 81ms/step - loss: 0.5176 - accuracy: 0.8201 - val_loss: 0.3776 - val_accuracy: 0.8594\n",
      "Epoch 5/100\n",
      "42/42 [==============================] - 3s 81ms/step - loss: 0.4633 - accuracy: 0.8410 - val_loss: 0.3375 - val_accuracy: 0.8778\n",
      "Epoch 6/100\n",
      "42/42 [==============================] - 3s 82ms/step - loss: 0.4454 - accuracy: 0.8451 - val_loss: 0.4182 - val_accuracy: 0.8334\n",
      "Epoch 7/100\n",
      "42/42 [==============================] - 3s 82ms/step - loss: 0.5214 - accuracy: 0.8149 - val_loss: 0.4243 - val_accuracy: 0.8407\n",
      "Epoch 8/100\n",
      "42/42 [==============================] - 3s 83ms/step - loss: 0.4593 - accuracy: 0.8405 - val_loss: 0.3362 - val_accuracy: 0.8765\n",
      "Epoch 9/100\n",
      "42/42 [==============================] - 3s 83ms/step - loss: 0.4267 - accuracy: 0.8492 - val_loss: 0.2938 - val_accuracy: 0.8921\n",
      "Epoch 10/100\n",
      "42/42 [==============================] - 3s 83ms/step - loss: 0.3616 - accuracy: 0.8720 - val_loss: 0.2879 - val_accuracy: 0.8922\n",
      "Epoch 11/100\n",
      "42/42 [==============================] - 3s 84ms/step - loss: 0.3678 - accuracy: 0.8717 - val_loss: 0.2690 - val_accuracy: 0.9027\n",
      "Epoch 12/100\n",
      "42/42 [==============================] - 4s 84ms/step - loss: 0.3339 - accuracy: 0.8828 - val_loss: 0.3351 - val_accuracy: 0.8769\n",
      "Epoch 13/100\n",
      "42/42 [==============================] - 4s 85ms/step - loss: 0.3554 - accuracy: 0.8746 - val_loss: 0.2725 - val_accuracy: 0.9001\n",
      "Epoch 14/100\n",
      "42/42 [==============================] - 4s 86ms/step - loss: 0.3009 - accuracy: 0.8957 - val_loss: 0.2464 - val_accuracy: 0.9099\n",
      "Epoch 15/100\n",
      "42/42 [==============================] - 4s 86ms/step - loss: 0.2818 - accuracy: 0.9011 - val_loss: 0.2628 - val_accuracy: 0.9011\n",
      "Epoch 16/100\n",
      "42/42 [==============================] - 4s 88ms/step - loss: 0.3512 - accuracy: 0.8740 - val_loss: 0.2515 - val_accuracy: 0.9109\n",
      "Epoch 17/100\n",
      "42/42 [==============================] - 4s 89ms/step - loss: 0.2814 - accuracy: 0.9014 - val_loss: 0.2633 - val_accuracy: 0.9024\n",
      "Epoch 18/100\n",
      "42/42 [==============================] - 4s 90ms/step - loss: 0.2592 - accuracy: 0.9094 - val_loss: 0.2420 - val_accuracy: 0.9133\n",
      "Epoch 19/100\n",
      "42/42 [==============================] - 4s 91ms/step - loss: 0.2882 - accuracy: 0.8993 - val_loss: 0.2316 - val_accuracy: 0.9183\n",
      "Epoch 20/100\n",
      "42/42 [==============================] - 4s 91ms/step - loss: 0.2400 - accuracy: 0.9156 - val_loss: 0.3133 - val_accuracy: 0.8978\n",
      "Epoch 21/100\n",
      "42/42 [==============================] - 4s 91ms/step - loss: 0.2609 - accuracy: 0.9091 - val_loss: 0.2636 - val_accuracy: 0.9074\n",
      "Epoch 22/100\n",
      "42/42 [==============================] - 4s 91ms/step - loss: 0.2429 - accuracy: 0.9148 - val_loss: 0.2319 - val_accuracy: 0.9191\n",
      "Epoch 23/100\n",
      "42/42 [==============================] - 4s 91ms/step - loss: 0.2059 - accuracy: 0.9270 - val_loss: 0.3648 - val_accuracy: 0.8714\n",
      "Epoch 24/100\n",
      "42/42 [==============================] - 4s 89ms/step - loss: 0.2994 - accuracy: 0.8917 - val_loss: 0.2648 - val_accuracy: 0.9073\n",
      "Epoch 25/100\n",
      "42/42 [==============================] - 4s 91ms/step - loss: 0.2244 - accuracy: 0.9197 - val_loss: 0.2432 - val_accuracy: 0.9153\n",
      "Epoch 26/100\n",
      "42/42 [==============================] - 4s 88ms/step - loss: 0.1992 - accuracy: 0.9275 - val_loss: 0.2636 - val_accuracy: 0.9126\n",
      "Epoch 27/100\n",
      "42/42 [==============================] - 4s 87ms/step - loss: 0.1957 - accuracy: 0.9317 - val_loss: 0.2852 - val_accuracy: 0.9072\n",
      "Epoch 28/100\n",
      "42/42 [==============================] - 4s 87ms/step - loss: 0.2138 - accuracy: 0.9253 - val_loss: 0.2379 - val_accuracy: 0.9177\n",
      "Epoch 29/100\n",
      "42/42 [==============================] - 4s 87ms/step - loss: 0.1718 - accuracy: 0.9415 - val_loss: 0.2221 - val_accuracy: 0.9258\n",
      "Epoch 30/100\n",
      "42/42 [==============================] - 4s 91ms/step - loss: 0.1563 - accuracy: 0.9425 - val_loss: 0.2930 - val_accuracy: 0.9056\n",
      "Epoch 31/100\n",
      "42/42 [==============================] - 4s 86ms/step - loss: 0.2076 - accuracy: 0.9233 - val_loss: 0.2279 - val_accuracy: 0.9254\n",
      "Epoch 32/100\n",
      "42/42 [==============================] - 4s 86ms/step - loss: 0.1532 - accuracy: 0.9450 - val_loss: 0.2700 - val_accuracy: 0.9180\n",
      "Epoch 33/100\n",
      "42/42 [==============================] - 4s 86ms/step - loss: 0.1847 - accuracy: 0.9352 - val_loss: 0.2789 - val_accuracy: 0.9036\n",
      "Epoch 34/100\n",
      "42/42 [==============================] - 4s 86ms/step - loss: 0.2138 - accuracy: 0.9222 - val_loss: 0.2379 - val_accuracy: 0.9228\n",
      "Epoch 35/100\n",
      "42/42 [==============================] - 4s 86ms/step - loss: 0.1555 - accuracy: 0.9440 - val_loss: 0.2423 - val_accuracy: 0.9220\n",
      "Epoch 36/100\n",
      "42/42 [==============================] - 4s 86ms/step - loss: 0.1602 - accuracy: 0.9392 - val_loss: 0.2485 - val_accuracy: 0.9257\n",
      "Epoch 37/100\n",
      "42/42 [==============================] - 4s 86ms/step - loss: 0.1257 - accuracy: 0.9552 - val_loss: 0.2475 - val_accuracy: 0.9269\n",
      "Epoch 38/100\n",
      "42/42 [==============================] - 4s 86ms/step - loss: 0.1221 - accuracy: 0.9555 - val_loss: 0.2705 - val_accuracy: 0.9166\n",
      "Epoch 39/100\n",
      "42/42 [==============================] - 4s 91ms/step - loss: 0.1121 - accuracy: 0.9594 - val_loss: 0.2500 - val_accuracy: 0.9232\n",
      "Epoch 40/100\n",
      "42/42 [==============================] - 4s 86ms/step - loss: 0.1093 - accuracy: 0.9596 - val_loss: 0.2735 - val_accuracy: 0.9277\n",
      "Epoch 41/100\n",
      "42/42 [==============================] - 4s 91ms/step - loss: 0.0976 - accuracy: 0.9662 - val_loss: 0.5358 - val_accuracy: 0.8613\n",
      "Epoch 42/100\n",
      "42/42 [==============================] - 4s 86ms/step - loss: 0.3087 - accuracy: 0.8932 - val_loss: 0.3520 - val_accuracy: 0.8778\n",
      "Epoch 43/100\n",
      "42/42 [==============================] - 4s 87ms/step - loss: 0.2500 - accuracy: 0.9107 - val_loss: 0.2483 - val_accuracy: 0.9197\n",
      "Epoch 44/100\n",
      "42/42 [==============================] - 4s 87ms/step - loss: 0.1629 - accuracy: 0.9406 - val_loss: 0.2865 - val_accuracy: 0.9123\n",
      "Epoch 45/100\n",
      "42/42 [==============================] - 4s 87ms/step - loss: 0.2158 - accuracy: 0.9193 - val_loss: 0.2520 - val_accuracy: 0.9191\n",
      "Epoch 46/100\n",
      "42/42 [==============================] - 4s 87ms/step - loss: 0.1447 - accuracy: 0.9480 - val_loss: 0.2637 - val_accuracy: 0.9228\n",
      "Epoch 47/100\n",
      "42/42 [==============================] - 4s 88ms/step - loss: 0.1136 - accuracy: 0.9588 - val_loss: 0.2813 - val_accuracy: 0.9233\n",
      "Epoch 48/100\n",
      "42/42 [==============================] - 4s 87ms/step - loss: 0.1367 - accuracy: 0.9523 - val_loss: 0.2875 - val_accuracy: 0.9199\n",
      "Epoch 49/100\n",
      "42/42 [==============================] - 4s 88ms/step - loss: 0.1635 - accuracy: 0.9417 - val_loss: 0.2704 - val_accuracy: 0.9242\n",
      "Epoch 50/100\n",
      "42/42 [==============================] - 4s 87ms/step - loss: 0.1386 - accuracy: 0.9489 - val_loss: 0.2747 - val_accuracy: 0.9213\n",
      "Epoch 51/100\n",
      "42/42 [==============================] - 4s 87ms/step - loss: 0.1061 - accuracy: 0.9611 - val_loss: 0.2695 - val_accuracy: 0.9289\n",
      "Epoch 52/100\n",
      "42/42 [==============================] - 4s 87ms/step - loss: 0.0808 - accuracy: 0.9720 - val_loss: 0.2854 - val_accuracy: 0.9236\n",
      "Epoch 53/100\n",
      "42/42 [==============================] - 4s 87ms/step - loss: 0.0811 - accuracy: 0.9714 - val_loss: 0.4308 - val_accuracy: 0.8955\n",
      "Epoch 54/100\n",
      "42/42 [==============================] - 4s 87ms/step - loss: 0.2279 - accuracy: 0.9206 - val_loss: 0.3033 - val_accuracy: 0.9153\n",
      "Epoch 55/100\n",
      "42/42 [==============================] - 4s 87ms/step - loss: 0.1726 - accuracy: 0.9396 - val_loss: 0.3417 - val_accuracy: 0.9036\n",
      "Epoch 56/100\n",
      "42/42 [==============================] - 4s 88ms/step - loss: 0.1581 - accuracy: 0.9430 - val_loss: 0.2696 - val_accuracy: 0.9261\n",
      "Epoch 57/100\n",
      "42/42 [==============================] - 4s 87ms/step - loss: 0.0834 - accuracy: 0.9693 - val_loss: 0.2786 - val_accuracy: 0.9275\n",
      "Epoch 58/100\n",
      "42/42 [==============================] - 4s 87ms/step - loss: 0.0660 - accuracy: 0.9761 - val_loss: 0.3338 - val_accuracy: 0.9205\n",
      "Epoch 59/100\n",
      "42/42 [==============================] - 4s 87ms/step - loss: 0.1368 - accuracy: 0.9511 - val_loss: 0.3024 - val_accuracy: 0.9228\n",
      "Epoch 60/100\n",
      "42/42 [==============================] - 4s 87ms/step - loss: 0.0788 - accuracy: 0.9715 - val_loss: 0.3761 - val_accuracy: 0.9147\n",
      "Epoch 61/100\n",
      "42/42 [==============================] - 4s 87ms/step - loss: 0.1048 - accuracy: 0.9627 - val_loss: 0.3069 - val_accuracy: 0.9264\n",
      "Epoch 62/100\n",
      "42/42 [==============================] - 4s 87ms/step - loss: 0.0594 - accuracy: 0.9792 - val_loss: 0.3709 - val_accuracy: 0.9143\n",
      "Epoch 63/100\n",
      "42/42 [==============================] - 4s 87ms/step - loss: 0.0918 - accuracy: 0.9672 - val_loss: 0.3328 - val_accuracy: 0.9242\n",
      "Epoch 64/100\n",
      "42/42 [==============================] - 4s 87ms/step - loss: 0.0780 - accuracy: 0.9715 - val_loss: 0.3288 - val_accuracy: 0.9264\n",
      "Epoch 65/100\n",
      "42/42 [==============================] - 4s 87ms/step - loss: 0.0658 - accuracy: 0.9768 - val_loss: 0.3884 - val_accuracy: 0.9176\n",
      "Epoch 66/100\n",
      "42/42 [==============================] - 4s 87ms/step - loss: 0.1468 - accuracy: 0.9532 - val_loss: 0.2946 - val_accuracy: 0.9262\n",
      "Epoch 67/100\n",
      "42/42 [==============================] - 4s 86ms/step - loss: 0.0830 - accuracy: 0.9700 - val_loss: 0.3330 - val_accuracy: 0.9247\n",
      "Epoch 68/100\n",
      "42/42 [==============================] - 4s 87ms/step - loss: 0.0488 - accuracy: 0.9820 - val_loss: 0.3414 - val_accuracy: 0.9291\n",
      "Epoch 69/100\n",
      "42/42 [==============================] - 4s 87ms/step - loss: 0.0388 - accuracy: 0.9870 - val_loss: 0.3711 - val_accuracy: 0.9277\n",
      "Epoch 70/100\n",
      "42/42 [==============================] - 4s 87ms/step - loss: 0.0438 - accuracy: 0.9851 - val_loss: 0.3698 - val_accuracy: 0.9284\n",
      "Epoch 71/100\n",
      "42/42 [==============================] - 4s 87ms/step - loss: 0.0379 - accuracy: 0.9865 - val_loss: 0.3877 - val_accuracy: 0.9276\n",
      "Epoch 72/100\n",
      "42/42 [==============================] - 4s 87ms/step - loss: 0.0309 - accuracy: 0.9896 - val_loss: 0.4224 - val_accuracy: 0.9224\n",
      "Epoch 73/100\n",
      "42/42 [==============================] - 4s 87ms/step - loss: 0.0689 - accuracy: 0.9758 - val_loss: 0.3901 - val_accuracy: 0.9218\n",
      "Epoch 74/100\n",
      "42/42 [==============================] - 4s 87ms/step - loss: 0.0952 - accuracy: 0.9678 - val_loss: 0.3693 - val_accuracy: 0.9226\n",
      "Epoch 75/100\n",
      "42/42 [==============================] - 4s 87ms/step - loss: 0.0529 - accuracy: 0.9816 - val_loss: 0.3621 - val_accuracy: 0.9284\n",
      "Epoch 76/100\n",
      "42/42 [==============================] - 4s 87ms/step - loss: 0.0306 - accuracy: 0.9889 - val_loss: 0.3912 - val_accuracy: 0.9259\n",
      "Epoch 77/100\n",
      "42/42 [==============================] - 4s 86ms/step - loss: 0.0264 - accuracy: 0.9904 - val_loss: 0.3840 - val_accuracy: 0.9294\n",
      "Epoch 78/100\n",
      "42/42 [==============================] - 4s 87ms/step - loss: 0.0597 - accuracy: 0.9789 - val_loss: 0.3553 - val_accuracy: 0.9287\n",
      "Epoch 79/100\n",
      "42/42 [==============================] - 4s 87ms/step - loss: 0.0361 - accuracy: 0.9875 - val_loss: 0.3817 - val_accuracy: 0.9300\n",
      "Epoch 80/100\n",
      "42/42 [==============================] - 4s 87ms/step - loss: 0.0268 - accuracy: 0.9913 - val_loss: 0.3900 - val_accuracy: 0.9313\n",
      "Epoch 81/100\n",
      "42/42 [==============================] - 4s 87ms/step - loss: 0.0236 - accuracy: 0.9927 - val_loss: 0.4204 - val_accuracy: 0.9314\n",
      "Epoch 82/100\n",
      "42/42 [==============================] - 4s 86ms/step - loss: 0.0231 - accuracy: 0.9923 - val_loss: 0.4480 - val_accuracy: 0.9279\n",
      "Epoch 83/100\n",
      "42/42 [==============================] - 4s 87ms/step - loss: 0.0224 - accuracy: 0.9926 - val_loss: 0.4422 - val_accuracy: 0.9278\n",
      "Epoch 84/100\n",
      "42/42 [==============================] - 4s 87ms/step - loss: 0.0216 - accuracy: 0.9920 - val_loss: 0.4543 - val_accuracy: 0.9295\n",
      "Epoch 85/100\n",
      "42/42 [==============================] - 4s 92ms/step - loss: 0.0170 - accuracy: 0.9947 - val_loss: 0.4667 - val_accuracy: 0.9289\n",
      "Epoch 86/100\n",
      "42/42 [==============================] - 4s 87ms/step - loss: 0.0160 - accuracy: 0.9954 - val_loss: 0.4596 - val_accuracy: 0.9293\n",
      "Epoch 87/100\n",
      "42/42 [==============================] - 4s 86ms/step - loss: 0.0180 - accuracy: 0.9940 - val_loss: 0.4923 - val_accuracy: 0.9254\n",
      "Epoch 88/100\n",
      "42/42 [==============================] - 4s 87ms/step - loss: 0.0180 - accuracy: 0.9943 - val_loss: 0.5165 - val_accuracy: 0.9206\n",
      "Epoch 89/100\n",
      "42/42 [==============================] - 4s 87ms/step - loss: 0.0182 - accuracy: 0.9944 - val_loss: 0.4788 - val_accuracy: 0.9295\n",
      "Epoch 90/100\n",
      "42/42 [==============================] - 4s 87ms/step - loss: 0.0156 - accuracy: 0.9947 - val_loss: 0.5423 - val_accuracy: 0.9253\n",
      "Epoch 91/100\n",
      "42/42 [==============================] - 4s 86ms/step - loss: 0.0195 - accuracy: 0.9934 - val_loss: 0.4998 - val_accuracy: 0.9244\n",
      "Epoch 92/100\n",
      "42/42 [==============================] - 4s 87ms/step - loss: 0.0203 - accuracy: 0.9936 - val_loss: 0.4723 - val_accuracy: 0.9290\n",
      "Epoch 93/100\n",
      "42/42 [==============================] - 4s 87ms/step - loss: 0.0159 - accuracy: 0.9945 - val_loss: 1.3854 - val_accuracy: 0.8524\n",
      "Epoch 94/100\n",
      "42/42 [==============================] - 4s 87ms/step - loss: 0.3928 - accuracy: 0.8958 - val_loss: 0.2886 - val_accuracy: 0.9048\n",
      "Epoch 95/100\n",
      "42/42 [==============================] - 4s 87ms/step - loss: 0.1943 - accuracy: 0.9320 - val_loss: 0.2892 - val_accuracy: 0.9197\n",
      "Epoch 96/100\n",
      "42/42 [==============================] - 4s 86ms/step - loss: 0.1127 - accuracy: 0.9599 - val_loss: 0.3198 - val_accuracy: 0.9197\n",
      "Epoch 97/100\n",
      "42/42 [==============================] - 4s 87ms/step - loss: 0.0935 - accuracy: 0.9655 - val_loss: 0.3532 - val_accuracy: 0.9214\n",
      "Epoch 98/100\n",
      "42/42 [==============================] - 4s 86ms/step - loss: 0.0706 - accuracy: 0.9744 - val_loss: 0.3617 - val_accuracy: 0.9256\n",
      "Epoch 99/100\n",
      "42/42 [==============================] - 4s 86ms/step - loss: 0.0455 - accuracy: 0.9840 - val_loss: 0.4273 - val_accuracy: 0.9248\n",
      "Epoch 100/100\n",
      "42/42 [==============================] - 4s 87ms/step - loss: 0.0364 - accuracy: 0.9873 - val_loss: 0.4220 - val_accuracy: 0.9267\n"
     ]
    },
    {
     "data": {
      "text/plain": [
       "<keras.callbacks.History at 0x7f31e57499d0>"
      ]
     },
     "execution_count": 18,
     "metadata": {
      "tags": []
     },
     "output_type": "execute_result"
    }
   ],
   "source": [
    "model.fit(X_train, y_train, validation_split=0.3, epochs = 100, batch_size=1024, verbose=1)"
   ]
  },
  {
   "cell_type": "code",
   "execution_count": 19,
   "metadata": {
    "colab": {
     "base_uri": "https://localhost:8080/",
     "height": 513
    },
    "id": "mQ04sujVsxpP",
    "outputId": "eac1972e-c991-4c58-8e8c-e88f476d0349"
   },
   "outputs": [
    {
     "data": {
      "image/png": "[encoded data removed]",
      "text/plain": [
       "<Figure size 432x288 with 1 Axes>"
      ]
     },
     "metadata": {
      "needs_background": "light",
      "tags": []
     },
     "output_type": "display_data"
    },
    {
     "data": {
      "image/png": "[encoded data removed]",
      "text/plain": [
       "<Figure size 432x288 with 1 Axes>"
      ]
     },
     "metadata": {
      "needs_background": "light",
      "tags": []
     },
     "output_type": "display_data"
    }
   ],
   "source": [
    "loss = pd.DataFrame(model.history.history)\n",
    "loss[['accuracy', 'val_accuracy']].plot()\n",
    "plt.show()\n",
    "loss[['loss', 'val_loss']].plot()\n",
    "plt.show()"
   ]
  },
  {
   "cell_type": "code",
   "execution_count": 20,
   "metadata": {
    "colab": {
     "base_uri": "https://localhost:8080/"
    },
    "id": "87t1UiGNurAH",
    "outputId": "e3fede64-0f43-4d90-851e-e4d031b781d2"
   },
   "outputs": [
    {
     "name": "stderr",
     "output_type": "stream",
     "text": [
      "/usr/local/lib/python3.7/dist-packages/keras/engine/sequential.py:450: UserWarning: `model.predict_classes()` is deprecated and will be removed after 2021-01-01. Please use instead:* `np.argmax(model.predict(x), axis=-1)`,   if your model does multi-class classification   (e.g. if it uses a `softmax` last-layer activation).* `(model.predict(x) > 0.5).astype(\"int32\")`,   if your model does binary classification   (e.g. if it uses a `sigmoid` last-layer activation).\n",
      "  warnings.warn('`model.predict_classes()` is deprecated and '\n"
     ]
    }
   ],
   "source": [
    "test_pred = model.predict_classes(X_test)"
   ]
  },
  {
   "cell_type": "code",
   "execution_count": 34,
   "metadata": {
    "id": "PBZ2zLeSuxSW"
   },
   "outputs": [],
   "source": [
    "sample_df = pd.read_csv('sample_submission_I5njJSF.csv')"
   ]
  },
  {
   "cell_type": "code",
   "execution_count": 35,
   "metadata": {
    "id": "EeuVha_vvXbX"
   },
   "outputs": [],
   "source": [
    "sample_df['label'] = test_pred"
   ]
  },
  {
   "cell_type": "code",
   "execution_count": 36,
   "metadata": {
    "id": "ZFzEs-z3vY7V"
   },
   "outputs": [],
   "source": [
    "sample_df.to_csv('google_trial_pred3.csv', index = None)"
   ]
  },
  {
   "cell_type": "code",
   "execution_count": 37,
   "metadata": {
    "colab": {
     "base_uri": "https://localhost:8080/",
     "height": 17
    },
    "id": "RZH7mjQyve5j",
    "outputId": "e245210f-eb25-40d5-fec2-178c33641ce5"
   },
   "outputs": [
    {
     "data": {
      "application/javascript": [
       "\n",
       "    async function download(id, filename, size) {\n",
       "      if (!google.colab.kernel.accessAllowed) {\n",
       "        return;\n",
       "      }\n",
       "      const div = document.createElement('div');\n",
       "      const label = document.createElement('label');\n",
       "      label.textContent = `Downloading \"${filename}\": `;\n",
       "      div.appendChild(label);\n",
       "      const progress = document.createElement('progress');\n",
       "      progress.max = size;\n",
       "      div.appendChild(progress);\n",
       "      document.body.appendChild(div);\n",
       "\n",
       "      const buffers = [];\n",
       "      let downloaded = 0;\n",
       "\n",
       "      const channel = await google.colab.kernel.comms.open(id);\n",
       "      // Send a message to notify the kernel that we're ready.\n",
       "      channel.send({})\n",
       "\n",
       "      for await (const message of channel.messages) {\n",
       "        // Send a message to notify the kernel that we're ready.\n",
       "        channel.send({})\n",
       "        if (message.buffers) {\n",
       "          for (const buffer of message.buffers) {\n",
       "            buffers.push(buffer);\n",
       "            downloaded += buffer.byteLength;\n",
       "            progress.value = downloaded;\n",
       "          }\n",
       "        }\n",
       "      }\n",
       "      const blob = new Blob(buffers, {type: 'application/binary'});\n",
       "      const a = document.createElement('a');\n",
       "      a.href = window.URL.createObjectURL(blob);\n",
       "      a.download = filename;\n",
       "      div.appendChild(a);\n",
       "      a.click();\n",
       "      div.remove();\n",
       "    }\n",
       "  "
      ],
      "text/plain": [
       "<IPython.core.display.Javascript object>"
      ]
     },
     "metadata": {
      "tags": []
     },
     "output_type": "display_data"
    },
    {
     "data": {
      "application/javascript": [
       "download(\"download_0e40877c-40b7-45b1-a982-f8702da6abe9\", \"google_trial_pred3.csv\", 80009)"
      ],
      "text/plain": [
       "<IPython.core.display.Javascript object>"
      ]
     },
     "metadata": {
      "tags": []
     },
     "output_type": "display_data"
    }
   ],
   "source": [
    "files.download('google_trial_pred3.csv')"
   ]
  },
  {
   "cell_type": "code",
   "execution_count": 2,
   "metadata": {
    "id": "N26Jehciv2yE"
   },
   "outputs": [],
   "source": [
    "###Transfer Learning"
   ]
  },
  {
   "cell_type": "code",
   "execution_count": 8,
   "metadata": {
    "id": "cFhsz62bwtRX"
   },
   "outputs": [],
   "source": [
    "#Re-size image \n",
    "image_size = [224, 224]"
   ]
  },
  {
   "cell_type": "code",
   "execution_count": 9,
   "metadata": {
    "colab": {
     "base_uri": "https://localhost:8080/"
    },
    "id": "Y1uxKmKIwvXo",
    "outputId": "8dd100d7-7edc-4d23-a8de-89a29be6f1e6"
   },
   "outputs": [
    {
     "name": "stdout",
     "output_type": "stream",
     "text": [
      "Downloading data from https://storage.googleapis.com/tensorflow/keras-applications/vgg16/vgg16_weights_tf_dim_ordering_tf_kernels_notop.h5\n",
      "58892288/58889256 [==============================] - 1s 0us/step\n",
      "58900480/58889256 [==============================] - 1s 0us/step\n"
     ]
    }
   ],
   "source": [
    "vgg = VGG16(input_shape=image_size + [3], include_top = False)\n",
    "#Cutting the last layer"
   ]
  },
  {
   "cell_type": "code",
   "execution_count": 11,
   "metadata": {
    "id": "dp71NnErwxZb"
   },
   "outputs": [],
   "source": [
    "def squeeze_excite_block(filters,input):                      \n",
    "    se = tf.keras.layers.GlobalAveragePooling2D()(input) #(batch size and channel)\n",
    "    se = tf.keras.layers.Reshape((1, filters))(se) \n",
    "    se = tf.keras.layers.Dense(filters//16, activation='relu')(se)\n",
    "    se = tf.keras.layers.Dense(filters, activation='sigmoid')(se)\n",
    "    se = tf.keras.layers.multiply([input, se])\n",
    "    return se"
   ]
  },
  {
   "cell_type": "code",
   "execution_count": 12,
   "metadata": {
    "id": "HoZlBTXZx4m9"
   },
   "outputs": [],
   "source": [
    "def make_model():\n",
    "        s = tf.keras.Input(shape=X_train.shape[1:]) \n",
    "        x = tf.keras.layers.Conv2D(32,(3,3),activation='relu',padding='same')(s)\n",
    "        x = tf.keras.layers.Conv2D(32,(3,3),activation='relu',padding='same')(x)\n",
    "        x = tf.keras.layers.Conv2D(32,(3,3),activation='relu',padding='same')(x)\n",
    "        x = tf.keras.layers.BatchNormalization()(x)\n",
    "        x = squeeze_excite_block(32,x)\n",
    "\n",
    "        x = tf.keras.layers.Conv2D(32,(3,3),activation='relu',padding='same')(x)\n",
    "        x = tf.keras.layers.Conv2D(32,(3,3),activation='relu',padding='same')(x)\n",
    "        x = tf.keras.layers.Conv2D(32,(3,3),activation='relu',padding='same')(x)\n",
    "        x = tf.keras.layers.BatchNormalization()(x)\n",
    "        x = squeeze_excite_block(32,x)\n",
    "        x = tf.keras.layers.AveragePooling2D(2)(x)\n",
    "\n",
    "        x = tf.keras.layers.Conv2D(32,(3,3),activation='relu',padding='same')(x)\n",
    "        x = tf.keras.layers.Conv2D(32,(3,3),activation='relu',padding='same')(x)\n",
    "        x = tf.keras.layers.Conv2D(32,(3,3),activation='relu',padding='same')(x)\n",
    "        x = tf.keras.layers.BatchNormalization()(x)\n",
    "        x = squeeze_excite_block(32,x)\n",
    "        x = tf.keras.layers.AveragePooling2D(2)(x)\n",
    "\n",
    "        x = tf.keras.layers.Conv2D(32,(3,3),activation='relu',padding='same')(x)\n",
    "        x = tf.keras.layers.Conv2D(32,(3,3),activation='relu',padding='same')(x)\n",
    "        x = tf.keras.layers.Conv2D(32,(3,3),activation='relu',padding='same')(x)\n",
    "        x = tf.keras.layers.BatchNormalization()(x)\n",
    "        x = squeeze_excite_block(32,x)\n",
    "        x = tf.keras.layers.AveragePooling2D(2)(x)          \n",
    "\n",
    "\n",
    "        x = tf.keras.layers.Conv2D(32,(3,3),activation='relu',padding='same')(x)\n",
    "        x = tf.keras.layers.Conv2D(32,(3,3),activation='relu',padding='same')(x)\n",
    "        x = tf.keras.layers.Conv2D(32,(3,3),activation='relu',padding='same')(x)\n",
    "        x = tf.keras.layers.BatchNormalization()(x)\n",
    "        x = squeeze_excite_block(32,x)\n",
    "        x = tf.keras.layers.AveragePooling2D(2)(x)\n",
    "\n",
    "\n",
    "        x = tf.keras.layers.concatenate([tf.keras.layers.GlobalMaxPooling2D()(x),\n",
    "                                         tf.keras.layers.GlobalAveragePooling2D()(x)])\n",
    "\n",
    "        x = tf.keras.layers.Dense(10,activation='softmax',use_bias=False,\n",
    "                                  kernel_regularizer=tf.keras.regularizers.l1(0.00025))(x)\n",
    "        model = tf.keras.Model(inputs=s, outputs=x)\n",
    "        model.compile(optimizer=optimizers.Adam(lr=0.001), loss='categorical_crossentropy',metrics=['accuracy'])\n",
    "        return model"
   ]
  },
  {
   "cell_type": "code",
   "execution_count": 13,
   "metadata": {
    "colab": {
     "base_uri": "https://localhost:8080/"
    },
    "id": "RcpbfQV5yE8A",
    "outputId": "ea392833-a414-4e9c-a214-07de39a2a3ed"
   },
   "outputs": [
    {
     "ename": "NameError",
     "evalue": "name 'X_train' is not defined",
     "output_type": "error",
     "traceback": [
      "\u001b[0;31m---------------------------------------------------------------------------\u001b[0m",
      "\u001b[0;31mNameError\u001b[0m                                 Traceback (most recent call last)",
      "\u001b[0;32m<ipython-input-13-c74547f2c3b3>\u001b[0m in \u001b[0;36m<module>\u001b[0;34m\u001b[0m\n\u001b[1;32m      3\u001b[0m \u001b[0;32mfor\u001b[0m \u001b[0mi\u001b[0m \u001b[0;32min\u001b[0m \u001b[0mrange\u001b[0m\u001b[0;34m(\u001b[0m\u001b[0;36m5\u001b[0m\u001b[0;34m)\u001b[0m\u001b[0;34m:\u001b[0m\u001b[0;34m\u001b[0m\u001b[0;34m\u001b[0m\u001b[0m\n\u001b[1;32m      4\u001b[0m         \u001b[0mnp\u001b[0m\u001b[0;34m.\u001b[0m\u001b[0mrandom\u001b[0m\u001b[0;34m.\u001b[0m\u001b[0mseed\u001b[0m\u001b[0;34m(\u001b[0m\u001b[0mi\u001b[0m\u001b[0;34m)\u001b[0m\u001b[0;34m\u001b[0m\u001b[0;34m\u001b[0m\u001b[0m\n\u001b[0;32m----> 5\u001b[0;31m         \u001b[0mmodel\u001b[0m\u001b[0;34m=\u001b[0m\u001b[0mmake_model\u001b[0m\u001b[0;34m(\u001b[0m\u001b[0;34m)\u001b[0m\u001b[0;34m\u001b[0m\u001b[0;34m\u001b[0m\u001b[0m\n\u001b[0m\u001b[1;32m      6\u001b[0m         \u001b[0mmodel\u001b[0m\u001b[0;34m.\u001b[0m\u001b[0mcompile\u001b[0m\u001b[0;34m(\u001b[0m\u001b[0moptimizer\u001b[0m\u001b[0;34m=\u001b[0m\u001b[0moptimizers\u001b[0m\u001b[0;34m.\u001b[0m\u001b[0mAdam\u001b[0m\u001b[0;34m(\u001b[0m\u001b[0mlr\u001b[0m\u001b[0;34m=\u001b[0m\u001b[0;36m0.001\u001b[0m\u001b[0;34m)\u001b[0m\u001b[0;34m,\u001b[0m \u001b[0mloss\u001b[0m\u001b[0;34m=\u001b[0m\u001b[0;34m'categorical_crossentropy'\u001b[0m\u001b[0;34m,\u001b[0m\u001b[0mmetrics\u001b[0m\u001b[0;34m=\u001b[0m\u001b[0;34m[\u001b[0m\u001b[0;34m'accuracy'\u001b[0m\u001b[0;34m]\u001b[0m\u001b[0;34m)\u001b[0m\u001b[0;34m\u001b[0m\u001b[0;34m\u001b[0m\u001b[0m\n\u001b[1;32m      7\u001b[0m         model.fit(X_train, y_train, batch_size=batch_size,shuffle=True,\n",
      "\u001b[0;32m<ipython-input-12-7eda757b3af4>\u001b[0m in \u001b[0;36mmake_model\u001b[0;34m()\u001b[0m\n\u001b[1;32m      1\u001b[0m \u001b[0;32mdef\u001b[0m \u001b[0mmake_model\u001b[0m\u001b[0;34m(\u001b[0m\u001b[0;34m)\u001b[0m\u001b[0;34m:\u001b[0m\u001b[0;34m\u001b[0m\u001b[0;34m\u001b[0m\u001b[0m\n\u001b[0;32m----> 2\u001b[0;31m         \u001b[0ms\u001b[0m \u001b[0;34m=\u001b[0m \u001b[0mtf\u001b[0m\u001b[0;34m.\u001b[0m\u001b[0mkeras\u001b[0m\u001b[0;34m.\u001b[0m\u001b[0mInput\u001b[0m\u001b[0;34m(\u001b[0m\u001b[0mshape\u001b[0m\u001b[0;34m=\u001b[0m\u001b[0mX_train\u001b[0m\u001b[0;34m.\u001b[0m\u001b[0mshape\u001b[0m\u001b[0;34m[\u001b[0m\u001b[0;36m1\u001b[0m\u001b[0;34m:\u001b[0m\u001b[0;34m]\u001b[0m\u001b[0;34m)\u001b[0m\u001b[0;34m\u001b[0m\u001b[0;34m\u001b[0m\u001b[0m\n\u001b[0m\u001b[1;32m      3\u001b[0m         \u001b[0mx\u001b[0m \u001b[0;34m=\u001b[0m \u001b[0mtf\u001b[0m\u001b[0;34m.\u001b[0m\u001b[0mkeras\u001b[0m\u001b[0;34m.\u001b[0m\u001b[0mlayers\u001b[0m\u001b[0;34m.\u001b[0m\u001b[0mConv2D\u001b[0m\u001b[0;34m(\u001b[0m\u001b[0;36m32\u001b[0m\u001b[0;34m,\u001b[0m\u001b[0;34m(\u001b[0m\u001b[0;36m3\u001b[0m\u001b[0;34m,\u001b[0m\u001b[0;36m3\u001b[0m\u001b[0;34m)\u001b[0m\u001b[0;34m,\u001b[0m\u001b[0mactivation\u001b[0m\u001b[0;34m=\u001b[0m\u001b[0;34m'relu'\u001b[0m\u001b[0;34m,\u001b[0m\u001b[0mpadding\u001b[0m\u001b[0;34m=\u001b[0m\u001b[0;34m'same'\u001b[0m\u001b[0;34m)\u001b[0m\u001b[0;34m(\u001b[0m\u001b[0ms\u001b[0m\u001b[0;34m)\u001b[0m\u001b[0;34m\u001b[0m\u001b[0;34m\u001b[0m\u001b[0m\n\u001b[1;32m      4\u001b[0m         \u001b[0mx\u001b[0m \u001b[0;34m=\u001b[0m \u001b[0mtf\u001b[0m\u001b[0;34m.\u001b[0m\u001b[0mkeras\u001b[0m\u001b[0;34m.\u001b[0m\u001b[0mlayers\u001b[0m\u001b[0;34m.\u001b[0m\u001b[0mConv2D\u001b[0m\u001b[0;34m(\u001b[0m\u001b[0;36m32\u001b[0m\u001b[0;34m,\u001b[0m\u001b[0;34m(\u001b[0m\u001b[0;36m3\u001b[0m\u001b[0;34m,\u001b[0m\u001b[0;36m3\u001b[0m\u001b[0;34m)\u001b[0m\u001b[0;34m,\u001b[0m\u001b[0mactivation\u001b[0m\u001b[0;34m=\u001b[0m\u001b[0;34m'relu'\u001b[0m\u001b[0;34m,\u001b[0m\u001b[0mpadding\u001b[0m\u001b[0;34m=\u001b[0m\u001b[0;34m'same'\u001b[0m\u001b[0;34m)\u001b[0m\u001b[0;34m(\u001b[0m\u001b[0mx\u001b[0m\u001b[0;34m)\u001b[0m\u001b[0;34m\u001b[0m\u001b[0;34m\u001b[0m\u001b[0m\n\u001b[1;32m      5\u001b[0m         \u001b[0mx\u001b[0m \u001b[0;34m=\u001b[0m \u001b[0mtf\u001b[0m\u001b[0;34m.\u001b[0m\u001b[0mkeras\u001b[0m\u001b[0;34m.\u001b[0m\u001b[0mlayers\u001b[0m\u001b[0;34m.\u001b[0m\u001b[0mConv2D\u001b[0m\u001b[0;34m(\u001b[0m\u001b[0;36m32\u001b[0m\u001b[0;34m,\u001b[0m\u001b[0;34m(\u001b[0m\u001b[0;36m3\u001b[0m\u001b[0;34m,\u001b[0m\u001b[0;36m3\u001b[0m\u001b[0;34m)\u001b[0m\u001b[0;34m,\u001b[0m\u001b[0mactivation\u001b[0m\u001b[0;34m=\u001b[0m\u001b[0;34m'relu'\u001b[0m\u001b[0;34m,\u001b[0m\u001b[0mpadding\u001b[0m\u001b[0;34m=\u001b[0m\u001b[0;34m'same'\u001b[0m\u001b[0;34m)\u001b[0m\u001b[0;34m(\u001b[0m\u001b[0mx\u001b[0m\u001b[0;34m)\u001b[0m\u001b[0;34m\u001b[0m\u001b[0;34m\u001b[0m\u001b[0m\n",
      "\u001b[0;31mNameError\u001b[0m: name 'X_train' is not defined"
     ]
    }
   ],
   "source": [
    "batch_size=32\n",
    "supermodel=[]\n",
    "for i in range(5):\n",
    "        np.random.seed(i)\n",
    "        model=make_model()                \n",
    "        model.compile(optimizer=optimizers.Adam(lr=0.001), loss='categorical_crossentropy',metrics=['accuracy'])\n",
    "        model.fit(X_train, y_train, batch_size=batch_size,shuffle=True,\n",
    "                    steps_per_epoch=len(X_train) / batch_size, epochs=15,verbose=0)\n",
    "        model.compile(optimizer=optimizers.Adam(lr=0.0001), loss='categorical_crossentropy',metrics=['accuracy'])\n",
    "        model.fit(X_train, y_train, batch_size=batch_size,shuffle=True,\n",
    "                    steps_per_epoch=len(X_train) / batch_size, epochs=3,verbose=0)\n",
    "        model.compile(optimizer=optimizers.Adam(lr=0.00001), loss='categorical_crossentropy',metrics=['accuracy'])\n",
    "        model.fit(X_train, y_train, batch_size=batch_size,shuffle=True,\n",
    "                    steps_per_epoch=len(X_train) / batch_size, epochs=3,verbose=0)\n",
    "        model.fit(X_train, y_train, batch_size=batch_size,shuffle=True, epochs=1,verbose=0)\n",
    "        supermodel.append(model)\n"
   ]
  },
  {
   "cell_type": "code",
   "execution_count": 44,
   "metadata": {
    "colab": {
     "base_uri": "https://localhost:8080/"
    },
    "id": "MYLHECMS-Fk1",
    "outputId": "6a9d80dd-a628-4a4d-e494-06da551bbb41"
   },
   "outputs": [
    {
     "data": {
      "text/plain": [
       "[<tensorflow.python.keras.engine.functional.Functional at 0x7f309ff6b8d0>,\n",
       " <tensorflow.python.keras.engine.functional.Functional at 0x7f30a021f790>,\n",
       " <tensorflow.python.keras.engine.functional.Functional at 0x7f309e3c4750>,\n",
       " <tensorflow.python.keras.engine.functional.Functional at 0x7f309be669d0>,\n",
       " <tensorflow.python.keras.engine.functional.Functional at 0x7f309bdfba90>]"
      ]
     },
     "execution_count": 44,
     "metadata": {
      "tags": []
     },
     "output_type": "execute_result"
    }
   ],
   "source": [
    "supermodel"
   ]
  },
  {
   "cell_type": "code",
   "execution_count": 45,
   "metadata": {
    "id": "MSzEav5Fyi_j"
   },
   "outputs": [],
   "source": [
    "\n",
    "pred =np.asarray([a.predict(X_test) for a in supermodel])\n",
    "predictions = np.argmax(np.mean(pred,axis=0),axis=1)"
   ]
  },
  {
   "cell_type": "code",
   "execution_count": 46,
   "metadata": {
    "id": "UNcpidYM-HQa"
   },
   "outputs": [],
   "source": [
    "predict = pd.DataFrame(data=predictions ,columns=[\"label\"])"
   ]
  },
  {
   "cell_type": "markdown",
   "metadata": {
    "id": "yYDesCTUiqW_"
   },
   "source": []
  },
  {
   "cell_type": "code",
   "execution_count": 48,
   "metadata": {
    "colab": {
     "base_uri": "https://localhost:8080/",
     "height": 419
    },
    "id": "PfZX9zYx-UNs",
    "outputId": "f46b7d7c-a7aa-4df6-a15f-f7f824c3e126"
   },
   "outputs": [
    {
     "data": {
      "text/html": [
       "<div>\n",
       "<style scoped>\n",
       "    .dataframe tbody tr th:only-of-type {\n",
       "        vertical-align: middle;\n",
       "    }\n",
       "\n",
       "    .dataframe tbody tr th {\n",
       "        vertical-align: top;\n",
       "    }\n",
       "\n",
       "    .dataframe thead th {\n",
       "        text-align: right;\n",
       "    }\n",
       "</style>\n",
       "<table border=\"1\" class=\"dataframe\">\n",
       "  <thead>\n",
       "    <tr style=\"text-align: right;\">\n",
       "      <th></th>\n",
       "      <th>label</th>\n",
       "    </tr>\n",
       "  </thead>\n",
       "  <tbody>\n",
       "    <tr>\n",
       "      <th>0</th>\n",
       "      <td>9</td>\n",
       "    </tr>\n",
       "    <tr>\n",
       "      <th>1</th>\n",
       "      <td>2</td>\n",
       "    </tr>\n",
       "    <tr>\n",
       "      <th>2</th>\n",
       "      <td>1</td>\n",
       "    </tr>\n",
       "    <tr>\n",
       "      <th>3</th>\n",
       "      <td>1</td>\n",
       "    </tr>\n",
       "    <tr>\n",
       "      <th>4</th>\n",
       "      <td>6</td>\n",
       "    </tr>\n",
       "    <tr>\n",
       "      <th>...</th>\n",
       "      <td>...</td>\n",
       "    </tr>\n",
       "    <tr>\n",
       "      <th>9995</th>\n",
       "      <td>9</td>\n",
       "    </tr>\n",
       "    <tr>\n",
       "      <th>9996</th>\n",
       "      <td>1</td>\n",
       "    </tr>\n",
       "    <tr>\n",
       "      <th>9997</th>\n",
       "      <td>8</td>\n",
       "    </tr>\n",
       "    <tr>\n",
       "      <th>9998</th>\n",
       "      <td>1</td>\n",
       "    </tr>\n",
       "    <tr>\n",
       "      <th>9999</th>\n",
       "      <td>5</td>\n",
       "    </tr>\n",
       "  </tbody>\n",
       "</table>\n",
       "<p>10000 rows × 1 columns</p>\n",
       "</div>"
      ],
      "text/plain": [
       "      label\n",
       "0         9\n",
       "1         2\n",
       "2         1\n",
       "3         1\n",
       "4         6\n",
       "...     ...\n",
       "9995      9\n",
       "9996      1\n",
       "9997      8\n",
       "9998      1\n",
       "9999      5\n",
       "\n",
       "[10000 rows x 1 columns]"
      ]
     },
     "execution_count": 48,
     "metadata": {
      "tags": []
     },
     "output_type": "execute_result"
    }
   ],
   "source": [
    "predict"
   ]
  },
  {
   "cell_type": "code",
   "execution_count": 49,
   "metadata": {
    "id": "6hCQdgtK-LG_"
   },
   "outputs": [],
   "source": [
    "sample_df['label'] = predictions"
   ]
  },
  {
   "cell_type": "code",
   "execution_count": 50,
   "metadata": {
    "id": "x13KVcnY-ZRq"
   },
   "outputs": [],
   "source": [
    "sample_df.to_csv('google_trial_pred2.csv', index = None)"
   ]
  },
  {
   "cell_type": "code",
   "execution_count": 51,
   "metadata": {
    "colab": {
     "base_uri": "https://localhost:8080/",
     "height": 17
    },
    "id": "oCLN08RV-fDY",
    "outputId": "41b09421-8ece-4375-e62d-f2617bc3f51b"
   },
   "outputs": [
    {
     "data": {
      "application/javascript": [
       "\n",
       "    async function download(id, filename, size) {\n",
       "      if (!google.colab.kernel.accessAllowed) {\n",
       "        return;\n",
       "      }\n",
       "      const div = document.createElement('div');\n",
       "      const label = document.createElement('label');\n",
       "      label.textContent = `Downloading \"${filename}\": `;\n",
       "      div.appendChild(label);\n",
       "      const progress = document.createElement('progress');\n",
       "      progress.max = size;\n",
       "      div.appendChild(progress);\n",
       "      document.body.appendChild(div);\n",
       "\n",
       "      const buffers = [];\n",
       "      let downloaded = 0;\n",
       "\n",
       "      const channel = await google.colab.kernel.comms.open(id);\n",
       "      // Send a message to notify the kernel that we're ready.\n",
       "      channel.send({})\n",
       "\n",
       "      for await (const message of channel.messages) {\n",
       "        // Send a message to notify the kernel that we're ready.\n",
       "        channel.send({})\n",
       "        if (message.buffers) {\n",
       "          for (const buffer of message.buffers) {\n",
       "            buffers.push(buffer);\n",
       "            downloaded += buffer.byteLength;\n",
       "            progress.value = downloaded;\n",
       "          }\n",
       "        }\n",
       "      }\n",
       "      const blob = new Blob(buffers, {type: 'application/binary'});\n",
       "      const a = document.createElement('a');\n",
       "      a.href = window.URL.createObjectURL(blob);\n",
       "      a.download = filename;\n",
       "      div.appendChild(a);\n",
       "      a.click();\n",
       "      div.remove();\n",
       "    }\n",
       "  "
      ],
      "text/plain": [
       "<IPython.core.display.Javascript object>"
      ]
     },
     "metadata": {
      "tags": []
     },
     "output_type": "display_data"
    },
    {
     "data": {
      "application/javascript": [
       "download(\"download_1ce60958-b20b-423b-b726-8d1b37b17d0a\", \"google_trial_pred2.csv\", 80009)"
      ],
      "text/plain": [
       "<IPython.core.display.Javascript object>"
      ]
     },
     "metadata": {
      "tags": []
     },
     "output_type": "display_data"
    }
   ],
   "source": [
    "files.download('google_trial_pred2.csv')"
   ]
  },
  {
   "cell_type": "code",
   "execution_count": 18,
   "metadata": {
    "id": "khiBM3dg-haI"
   },
   "outputs": [],
   "source": [
    "#Voting Classifier\n",
    "\n",
    "m1 = tf.keras.wrappers.scikit_learn.KerasClassifier(deep_cnn,epochs=50,verbose=False)"
   ]
  },
  {
   "cell_type": "code",
   "execution_count": 19,
   "metadata": {
    "id": "uVn0FmNaJY78"
   },
   "outputs": [],
   "source": [
    "m2 = tf.keras.wrappers.scikit_learn.KerasClassifier(make_model,epochs=50,verbose=False)"
   ]
  },
  {
   "cell_type": "code",
   "execution_count": 20,
   "metadata": {
    "id": "l4pamqS6JeBq"
   },
   "outputs": [],
   "source": [
    "m1._estimator_type = \"classifier\""
   ]
  },
  {
   "cell_type": "code",
   "execution_count": 21,
   "metadata": {
    "id": "kkvaL2MOJj9h"
   },
   "outputs": [],
   "source": [
    "m2._estimator_type = \"classifier\""
   ]
  },
  {
   "cell_type": "code",
   "execution_count": 23,
   "metadata": {
    "id": "4YDTOPpMJmwg"
   },
   "outputs": [],
   "source": [
    "voting2 = VotingClassifier(\n",
    "  estimators=[('Dense',m1),('Dense2',m2)],\n",
    "    voting='soft',flatten_transform=True)"
   ]
  },
  {
   "cell_type": "code",
   "execution_count": 28,
   "metadata": {
    "colab": {
     "base_uri": "https://localhost:8080/"
    },
    "id": "0hnX4_p2Jsal",
    "outputId": "bb2d015c-b9c2-4396-a4b7-c0d626cd1217"
   },
   "outputs": [
    {
     "name": "stderr",
     "output_type": "stream",
     "text": [
      "/usr/local/lib/python3.7/dist-packages/tensorflow/python/keras/optimizer_v2/optimizer_v2.py:375: UserWarning: The `lr` argument is deprecated, use `learning_rate` instead.\n",
      "  \"The `lr` argument is deprecated, use `learning_rate` instead.\")\n"
     ]
    },
    {
     "data": {
      "text/plain": [
       "VotingClassifier(estimators=[('Dense',\n",
       "                              <tensorflow.python.keras.wrappers.scikit_learn.KerasClassifier object at 0x7fbc9812a350>),\n",
       "                             ('Dense2',\n",
       "                              <tensorflow.python.keras.wrappers.scikit_learn.KerasClassifier object at 0x7fbc980bb410>)],\n",
       "                 flatten_transform=True, n_jobs=None, voting='soft',\n",
       "                 weights=None)"
      ]
     },
     "execution_count": 28,
     "metadata": {
      "tags": []
     },
     "output_type": "execute_result"
    }
   ],
   "source": [
    "voting2.fit(X_train, y_train) #Y_train is not to be in one hot encoding format."
   ]
  },
  {
   "cell_type": "code",
   "execution_count": 29,
   "metadata": {
    "id": "dcHmvlsOKTp9"
   },
   "outputs": [],
   "source": [
    "test_pred = voting2.predict(X_test)"
   ]
  },
  {
   "cell_type": "code",
   "execution_count": 30,
   "metadata": {
    "colab": {
     "base_uri": "https://localhost:8080/"
    },
    "id": "M9sEUjLTPFp2",
    "outputId": "0e15f7aa-778f-4e80-ce4d-c75fe6adf188"
   },
   "outputs": [
    {
     "data": {
      "text/plain": [
       "array([9, 2, 1, ..., 8, 1, 5], dtype=uint8)"
      ]
     },
     "execution_count": 30,
     "metadata": {
      "tags": []
     },
     "output_type": "execute_result"
    }
   ],
   "source": [
    "test_pred"
   ]
  },
  {
   "cell_type": "code",
   "execution_count": 33,
   "metadata": {
    "colab": {
     "base_uri": "https://localhost:8080/"
    },
    "id": "Ur1fOBGlPIUa",
    "outputId": "4157fad1-0da8-408c-a331-744ffe6fcd96"
   },
   "outputs": [
    {
     "data": {
      "text/plain": [
       "0.9346"
      ]
     },
     "execution_count": 33,
     "metadata": {
      "tags": []
     },
     "output_type": "execute_result"
    }
   ],
   "source": [
    "accuracy_score(y_test, test_pred)"
   ]
  },
  {
   "cell_type": "code",
   "execution_count": 6,
   "metadata": {},
   "outputs": [],
   "source": [
    "from keras.applications.xception import Xception"
   ]
  },
  {
   "cell_type": "code",
   "execution_count": null,
   "metadata": {},
   "outputs": [],
   "source": [
    "Xception()"
   ]
  }
 ],
 "metadata": {
  "colab": {
   "name": "fashion mnsit pre.ipynb",
   "provenance": []
  },
  "kernelspec": {
   "display_name": "Python 3",
   "language": "python",
   "name": "python3"
  },
  "language_info": {
   "codemirror_mode": {
    "name": "ipython",
    "version": 3
   },
   "file_extension": ".py",
   "mimetype": "text/x-python",
   "name": "python",
   "nbconvert_exporter": "python",
   "pygments_lexer": "ipython3",
   "version": "3.8.5"
  }
 },
 "nbformat": 4,
 "nbformat_minor": 1
}
