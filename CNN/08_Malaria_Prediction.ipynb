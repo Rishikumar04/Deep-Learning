{
 "cells": [
  {
   "cell_type": "markdown",
   "metadata": {
    "id": "3t3-c8diDHEq"
   },
   "source": [
    "### Predicting Malaria using trasnfer learning method - VGG19"
   ]
  },
  {
   "cell_type": "code",
   "execution_count": null,
   "metadata": {
    "id": "JqH1qbqFDMZb"
   },
   "outputs": [],
   "source": [
    "from tensorflow.keras.layers import Input, Lambda, Dense, Flatten, Conv2D, Dropout\n",
    "from tensorflow.keras.models import Sequential , Model\n",
    "from tensorflow.keras.applications.vgg19 import VGG19\n",
    "from tensorflow.keras.applications.resnet50 import preprocess_input\n",
    "from tensorflow.keras.preprocessing import image\n",
    "from tensorflow.keras.preprocessing.image import ImageDataGenerator, load_img\n",
    "from tensorflow.keras.models import Sequential\n",
    "import numpy as np\n",
    "from glob import glob\n",
    "import matplotlib.pyplot as plt\n",
    "from tensorflow.keras.callbacks import EarlyStopping\n",
    "import pandas as pd\n",
    "from sklearn.metrics import classification_report\n",
    "from tensorflow.keras import optimizers"
   ]
  },
  {
   "cell_type": "code",
   "execution_count": null,
   "metadata": {
    "id": "lpRIs6_tICkp"
   },
   "outputs": [],
   "source": [
    "IMAGE_SIZE = [224, 224]"
   ]
  },
  {
   "cell_type": "code",
   "execution_count": null,
   "metadata": {
    "id": "RZYMiA0LIKYv"
   },
   "outputs": [],
   "source": [
    "train_path = '/content/drive/MyDrive/Datasets/Malaria/Train'\n",
    "\n",
    "test_path = '/content/drive/MyDrive/Datasets/Malaria/Test'"
   ]
  },
  {
   "cell_type": "code",
   "execution_count": null,
   "metadata": {
    "id": "iQS1XnkNIi03"
   },
   "outputs": [],
   "source": [
    "vgg19 = VGG19(input_shape=IMAGE_SIZE + [3], weights = 'imagenet',include_top = False)"
   ]
  },
  {
   "cell_type": "code",
   "execution_count": null,
   "metadata": {
    "id": "FFpF2KrHKmYT"
   },
   "outputs": [],
   "source": [
    "###VGG 19"
   ]
  },
  {
   "cell_type": "code",
   "execution_count": null,
   "metadata": {
    "colab": {
     "base_uri": "https://localhost:8080/"
    },
    "id": "V_Kp1FEbKHor",
    "outputId": "d9845a2f-4fe7-4369-b4d6-a9c9c886a632"
   },
   "outputs": [
    {
     "name": "stdout",
     "output_type": "stream",
     "text": [
      "Model: \"vgg19\"\n",
      "_________________________________________________________________\n",
      "Layer (type)                 Output Shape              Param #   \n",
      "=================================================================\n",
      "input_3 (InputLayer)         [(None, 224, 224, 3)]     0         \n",
      "_________________________________________________________________\n",
      "block1_conv1 (Conv2D)        (None, 224, 224, 64)      1792      \n",
      "_________________________________________________________________\n",
      "block1_conv2 (Conv2D)        (None, 224, 224, 64)      36928     \n",
      "_________________________________________________________________\n",
      "block1_pool (MaxPooling2D)   (None, 112, 112, 64)      0         \n",
      "_________________________________________________________________\n",
      "block2_conv1 (Conv2D)        (None, 112, 112, 128)     73856     \n",
      "_________________________________________________________________\n",
      "block2_conv2 (Conv2D)        (None, 112, 112, 128)     147584    \n",
      "_________________________________________________________________\n",
      "block2_pool (MaxPooling2D)   (None, 56, 56, 128)       0         \n",
      "_________________________________________________________________\n",
      "block3_conv1 (Conv2D)        (None, 56, 56, 256)       295168    \n",
      "_________________________________________________________________\n",
      "block3_conv2 (Conv2D)        (None, 56, 56, 256)       590080    \n",
      "_________________________________________________________________\n",
      "block3_conv3 (Conv2D)        (None, 56, 56, 256)       590080    \n",
      "_________________________________________________________________\n",
      "block3_conv4 (Conv2D)        (None, 56, 56, 256)       590080    \n",
      "_________________________________________________________________\n",
      "block3_pool (MaxPooling2D)   (None, 28, 28, 256)       0         \n",
      "_________________________________________________________________\n",
      "block4_conv1 (Conv2D)        (None, 28, 28, 512)       1180160   \n",
      "_________________________________________________________________\n",
      "block4_conv2 (Conv2D)        (None, 28, 28, 512)       2359808   \n",
      "_________________________________________________________________\n",
      "block4_conv3 (Conv2D)        (None, 28, 28, 512)       2359808   \n",
      "_________________________________________________________________\n",
      "block4_conv4 (Conv2D)        (None, 28, 28, 512)       2359808   \n",
      "_________________________________________________________________\n",
      "block4_pool (MaxPooling2D)   (None, 14, 14, 512)       0         \n",
      "_________________________________________________________________\n",
      "block5_conv1 (Conv2D)        (None, 14, 14, 512)       2359808   \n",
      "_________________________________________________________________\n",
      "block5_conv2 (Conv2D)        (None, 14, 14, 512)       2359808   \n",
      "_________________________________________________________________\n",
      "block5_conv3 (Conv2D)        (None, 14, 14, 512)       2359808   \n",
      "_________________________________________________________________\n",
      "block5_conv4 (Conv2D)        (None, 14, 14, 512)       2359808   \n",
      "_________________________________________________________________\n",
      "block5_pool (MaxPooling2D)   (None, 7, 7, 512)         0         \n",
      "=================================================================\n",
      "Total params: 20,024,384\n",
      "Trainable params: 20,024,384\n",
      "Non-trainable params: 0\n",
      "_________________________________________________________________\n"
     ]
    }
   ],
   "source": [
    "vgg19.summary()"
   ]
  },
  {
   "cell_type": "code",
   "execution_count": null,
   "metadata": {
    "id": "aJoMckB0JR2G"
   },
   "outputs": [],
   "source": [
    "\n",
    "for layers in vgg19.layers:\n",
    "  layers.trainable = False"
   ]
  },
  {
   "cell_type": "code",
   "execution_count": null,
   "metadata": {
    "id": "cGhDP1PZJcQr"
   },
   "outputs": [],
   "source": [
    "folders = glob(train_path+'/*')"
   ]
  },
  {
   "cell_type": "code",
   "execution_count": null,
   "metadata": {
    "colab": {
     "base_uri": "https://localhost:8080/"
    },
    "id": "SK786Af7J9q5",
    "outputId": "84c614a1-8128-41c1-e4fd-bd3213f62eac"
   },
   "outputs": [
    {
     "data": {
      "text/plain": [
       "['/content/drive/MyDrive/Datasets/Malaria/Train/Uninfected',\n",
       " '/content/drive/MyDrive/Datasets/Malaria/Train/Parasite']"
      ]
     },
     "execution_count": 9,
     "metadata": {
      "tags": []
     },
     "output_type": "execute_result"
    }
   ],
   "source": [
    "folders"
   ]
  },
  {
   "cell_type": "code",
   "execution_count": null,
   "metadata": {
    "id": "OgdEpbulJ_CT"
   },
   "outputs": [],
   "source": [
    "x = Flatten()(vgg19.output)"
   ]
  },
  {
   "cell_type": "code",
   "execution_count": null,
   "metadata": {
    "id": "F1CSY5hSKyi8"
   },
   "outputs": [],
   "source": [
    "prediction = Dense(len(folders), activation = 'softmax')(x)\n",
    "\n",
    "#Create a model object\n",
    "model = Model(inputs = vgg19.input, outputs = prediction)"
   ]
  },
  {
   "cell_type": "code",
   "execution_count": null,
   "metadata": {
    "colab": {
     "base_uri": "https://localhost:8080/"
    },
    "id": "vusTOBTIL8Zh",
    "outputId": "f40e4939-d73f-4bd4-ae4a-605b1649918c"
   },
   "outputs": [
    {
     "name": "stdout",
     "output_type": "stream",
     "text": [
      "Model: \"model\"\n",
      "_________________________________________________________________\n",
      "Layer (type)                 Output Shape              Param #   \n",
      "=================================================================\n",
      "input_1 (InputLayer)         [(None, 224, 224, 3)]     0         \n",
      "_________________________________________________________________\n",
      "block1_conv1 (Conv2D)        (None, 224, 224, 64)      1792      \n",
      "_________________________________________________________________\n",
      "block1_conv2 (Conv2D)        (None, 224, 224, 64)      36928     \n",
      "_________________________________________________________________\n",
      "block1_pool (MaxPooling2D)   (None, 112, 112, 64)      0         \n",
      "_________________________________________________________________\n",
      "block2_conv1 (Conv2D)        (None, 112, 112, 128)     73856     \n",
      "_________________________________________________________________\n",
      "block2_conv2 (Conv2D)        (None, 112, 112, 128)     147584    \n",
      "_________________________________________________________________\n",
      "block2_pool (MaxPooling2D)   (None, 56, 56, 128)       0         \n",
      "_________________________________________________________________\n",
      "block3_conv1 (Conv2D)        (None, 56, 56, 256)       295168    \n",
      "_________________________________________________________________\n",
      "block3_conv2 (Conv2D)        (None, 56, 56, 256)       590080    \n",
      "_________________________________________________________________\n",
      "block3_conv3 (Conv2D)        (None, 56, 56, 256)       590080    \n",
      "_________________________________________________________________\n",
      "block3_conv4 (Conv2D)        (None, 56, 56, 256)       590080    \n",
      "_________________________________________________________________\n",
      "block3_pool (MaxPooling2D)   (None, 28, 28, 256)       0         \n",
      "_________________________________________________________________\n",
      "block4_conv1 (Conv2D)        (None, 28, 28, 512)       1180160   \n",
      "_________________________________________________________________\n",
      "block4_conv2 (Conv2D)        (None, 28, 28, 512)       2359808   \n",
      "_________________________________________________________________\n",
      "block4_conv3 (Conv2D)        (None, 28, 28, 512)       2359808   \n",
      "_________________________________________________________________\n",
      "block4_conv4 (Conv2D)        (None, 28, 28, 512)       2359808   \n",
      "_________________________________________________________________\n",
      "block4_pool (MaxPooling2D)   (None, 14, 14, 512)       0         \n",
      "_________________________________________________________________\n",
      "block5_conv1 (Conv2D)        (None, 14, 14, 512)       2359808   \n",
      "_________________________________________________________________\n",
      "block5_conv2 (Conv2D)        (None, 14, 14, 512)       2359808   \n",
      "_________________________________________________________________\n",
      "block5_conv3 (Conv2D)        (None, 14, 14, 512)       2359808   \n",
      "_________________________________________________________________\n",
      "block5_conv4 (Conv2D)        (None, 14, 14, 512)       2359808   \n",
      "_________________________________________________________________\n",
      "block5_pool (MaxPooling2D)   (None, 7, 7, 512)         0         \n",
      "_________________________________________________________________\n",
      "flatten (Flatten)            (None, 25088)             0         \n",
      "_________________________________________________________________\n",
      "dense (Dense)                (None, 2)                 50178     \n",
      "=================================================================\n",
      "Total params: 20,074,562\n",
      "Trainable params: 50,178\n",
      "Non-trainable params: 20,024,384\n",
      "_________________________________________________________________\n"
     ]
    }
   ],
   "source": [
    "model.summary()"
   ]
  },
  {
   "cell_type": "code",
   "execution_count": null,
   "metadata": {
    "id": "2SA6QJxMML-Z"
   },
   "outputs": [],
   "source": [
    "model.compile(loss = 'categorical_crossentropy',\n",
    "              optimizer='adam',\n",
    "              metrics=['accuracy'])"
   ]
  },
  {
   "cell_type": "code",
   "execution_count": null,
   "metadata": {
    "id": "8qWHzeBQMpZ6"
   },
   "outputs": [],
   "source": [
    "#Image Data Generator\n",
    "from tensorflow.keras.preprocessing.image import ImageDataGenerator"
   ]
  },
  {
   "cell_type": "code",
   "execution_count": null,
   "metadata": {
    "id": "q9obR4PqNObM"
   },
   "outputs": [],
   "source": [
    "##Data Augmentation\n",
    "train_datagen = ImageDataGenerator(rescale = 1./255,\n",
    "                                   shear_range = 0.2,\n",
    "                                   zoom_range = 0.2,\n",
    "                                   horizontal_flip = True)\n",
    "\n",
    "test_datagen = ImageDataGenerator(rescale = 1./255)"
   ]
  },
  {
   "cell_type": "code",
   "execution_count": null,
   "metadata": {
    "colab": {
     "base_uri": "https://localhost:8080/",
     "height": 35
    },
    "id": "LHqFTSMYdiF_",
    "outputId": "fe393f12-87f5-4eaf-d995-a02ba3d400cc"
   },
   "outputs": [
    {
     "data": {
      "application/vnd.google.colaboratory.intrinsic+json": {
       "type": "string"
      },
      "text/plain": [
       "'/content/drive/MyDrive/Datasets/Malaria/Train'"
      ]
     },
     "execution_count": 16,
     "metadata": {
      "tags": []
     },
     "output_type": "execute_result"
    }
   ],
   "source": [
    "train_path"
   ]
  },
  {
   "cell_type": "code",
   "execution_count": null,
   "metadata": {
    "colab": {
     "base_uri": "https://localhost:8080/"
    },
    "id": "4_xGllkBNmN3",
    "outputId": "536b2f43-06cb-408d-a94b-b76fa6a6b812"
   },
   "outputs": [
    {
     "name": "stdout",
     "output_type": "stream",
     "text": [
      "Found 434 images belonging to 2 classes.\n"
     ]
    }
   ],
   "source": [
    "training_set = train_datagen.flow_from_directory(train_path,\n",
    "                                                 target_size = (224, 224),\n",
    "                                                 batch_size = 32,\n",
    "                                                 class_mode = 'categorical')"
   ]
  },
  {
   "cell_type": "code",
   "execution_count": null,
   "metadata": {
    "colab": {
     "base_uri": "https://localhost:8080/"
    },
    "id": "f3HOw7rhaoRB",
    "outputId": "9ad7543a-b3a6-43fe-8c90-3694d72cc74f"
   },
   "outputs": [
    {
     "name": "stdout",
     "output_type": "stream",
     "text": [
      "Found 134 images belonging to 2 classes.\n"
     ]
    }
   ],
   "source": [
    "test_set = test_datagen.flow_from_directory(test_path,\n",
    "                                            target_size = (224, 224),\n",
    "                                            batch_size = 32,\n",
    "                                            class_mode = 'categorical')"
   ]
  },
  {
   "cell_type": "code",
   "execution_count": null,
   "metadata": {
    "id": "zv1IcpQufxqX"
   },
   "outputs": [],
   "source": [
    "early_stop = EarlyStopping(monitor='val_loss', mode = 'min', patience=10 )"
   ]
  },
  {
   "cell_type": "code",
   "execution_count": null,
   "metadata": {
    "colab": {
     "base_uri": "https://localhost:8080/"
    },
    "id": "c0csiSzreGbl",
    "outputId": "501475b2-62c7-4b04-d99b-e0efbd465ab0"
   },
   "outputs": [
    {
     "name": "stdout",
     "output_type": "stream",
     "text": [
      "Epoch 1/100\n",
      "14/14 [==============================] - 7s 447ms/step - loss: 0.9580 - accuracy: 0.5438 - val_loss: 1.3639 - val_accuracy: 0.3881\n",
      "Epoch 2/100\n",
      "14/14 [==============================] - 6s 441ms/step - loss: 0.6751 - accuracy: 0.6705 - val_loss: 0.5895 - val_accuracy: 0.6940\n",
      "Epoch 3/100\n",
      "14/14 [==============================] - 6s 436ms/step - loss: 0.4783 - accuracy: 0.7765 - val_loss: 0.5001 - val_accuracy: 0.7239\n",
      "Epoch 4/100\n",
      "14/14 [==============================] - 6s 439ms/step - loss: 0.3546 - accuracy: 0.8571 - val_loss: 0.5449 - val_accuracy: 0.7313\n",
      "Epoch 5/100\n",
      "14/14 [==============================] - 6s 441ms/step - loss: 0.3215 - accuracy: 0.8664 - val_loss: 0.4089 - val_accuracy: 0.7985\n",
      "Epoch 6/100\n",
      "14/14 [==============================] - 6s 438ms/step - loss: 0.2768 - accuracy: 0.8917 - val_loss: 0.3922 - val_accuracy: 0.8358\n",
      "Epoch 7/100\n",
      "14/14 [==============================] - 6s 441ms/step - loss: 0.2255 - accuracy: 0.9217 - val_loss: 0.4123 - val_accuracy: 0.7985\n",
      "Epoch 8/100\n",
      "14/14 [==============================] - 6s 439ms/step - loss: 0.2260 - accuracy: 0.9240 - val_loss: 0.3611 - val_accuracy: 0.8433\n",
      "Epoch 9/100\n",
      "14/14 [==============================] - 6s 438ms/step - loss: 0.2073 - accuracy: 0.9332 - val_loss: 0.3267 - val_accuracy: 0.8881\n",
      "Epoch 10/100\n",
      "14/14 [==============================] - 6s 446ms/step - loss: 0.2306 - accuracy: 0.9194 - val_loss: 0.3649 - val_accuracy: 0.8433\n",
      "Epoch 11/100\n",
      "14/14 [==============================] - 6s 443ms/step - loss: 0.1935 - accuracy: 0.9470 - val_loss: 0.3739 - val_accuracy: 0.8284\n",
      "Epoch 12/100\n",
      "14/14 [==============================] - 6s 439ms/step - loss: 0.1813 - accuracy: 0.9401 - val_loss: 0.3181 - val_accuracy: 0.8955\n",
      "Epoch 13/100\n",
      "14/14 [==============================] - 6s 436ms/step - loss: 0.1767 - accuracy: 0.9378 - val_loss: 0.3543 - val_accuracy: 0.8284\n",
      "Epoch 14/100\n",
      "14/14 [==============================] - 6s 442ms/step - loss: 0.1792 - accuracy: 0.9447 - val_loss: 0.4411 - val_accuracy: 0.7612\n",
      "Epoch 15/100\n",
      "14/14 [==============================] - 6s 442ms/step - loss: 0.2040 - accuracy: 0.9124 - val_loss: 0.3047 - val_accuracy: 0.8358\n",
      "Epoch 16/100\n",
      "14/14 [==============================] - 6s 437ms/step - loss: 0.1673 - accuracy: 0.9309 - val_loss: 0.2714 - val_accuracy: 0.8955\n",
      "Epoch 17/100\n",
      "14/14 [==============================] - 6s 439ms/step - loss: 0.1643 - accuracy: 0.9355 - val_loss: 0.2377 - val_accuracy: 0.9254\n",
      "Epoch 18/100\n",
      "14/14 [==============================] - 6s 437ms/step - loss: 0.1591 - accuracy: 0.9516 - val_loss: 0.3280 - val_accuracy: 0.8433\n",
      "Epoch 19/100\n",
      "14/14 [==============================] - 6s 438ms/step - loss: 0.1330 - accuracy: 0.9677 - val_loss: 0.2451 - val_accuracy: 0.9179\n",
      "Epoch 20/100\n",
      "14/14 [==============================] - 6s 448ms/step - loss: 0.2336 - accuracy: 0.9147 - val_loss: 0.3949 - val_accuracy: 0.7836\n",
      "Epoch 21/100\n",
      "14/14 [==============================] - 6s 445ms/step - loss: 0.1955 - accuracy: 0.9147 - val_loss: 0.2816 - val_accuracy: 0.8731\n",
      "Epoch 22/100\n",
      "14/14 [==============================] - 6s 436ms/step - loss: 0.1247 - accuracy: 0.9539 - val_loss: 0.4744 - val_accuracy: 0.7239\n",
      "Epoch 23/100\n",
      "14/14 [==============================] - 6s 438ms/step - loss: 0.1508 - accuracy: 0.9493 - val_loss: 0.2145 - val_accuracy: 0.9254\n",
      "Epoch 24/100\n",
      "14/14 [==============================] - 6s 436ms/step - loss: 0.2051 - accuracy: 0.9147 - val_loss: 0.2371 - val_accuracy: 0.9104\n",
      "Epoch 25/100\n",
      "14/14 [==============================] - 6s 451ms/step - loss: 0.1245 - accuracy: 0.9677 - val_loss: 0.2017 - val_accuracy: 0.9403\n",
      "Epoch 26/100\n",
      "14/14 [==============================] - 6s 441ms/step - loss: 0.1150 - accuracy: 0.9700 - val_loss: 0.2600 - val_accuracy: 0.9104\n",
      "Epoch 27/100\n",
      "14/14 [==============================] - 6s 443ms/step - loss: 0.1111 - accuracy: 0.9677 - val_loss: 0.2643 - val_accuracy: 0.9030\n",
      "Epoch 28/100\n",
      "14/14 [==============================] - 6s 439ms/step - loss: 0.1335 - accuracy: 0.9608 - val_loss: 0.3486 - val_accuracy: 0.8284\n",
      "Epoch 29/100\n",
      "14/14 [==============================] - 6s 435ms/step - loss: 0.1380 - accuracy: 0.9378 - val_loss: 0.1834 - val_accuracy: 0.9403\n",
      "Epoch 30/100\n",
      "14/14 [==============================] - 6s 440ms/step - loss: 0.0998 - accuracy: 0.9700 - val_loss: 0.1802 - val_accuracy: 0.9254\n",
      "Epoch 31/100\n",
      "14/14 [==============================] - 6s 442ms/step - loss: 0.1284 - accuracy: 0.9539 - val_loss: 0.1873 - val_accuracy: 0.9328\n",
      "Epoch 32/100\n",
      "14/14 [==============================] - 6s 436ms/step - loss: 0.0855 - accuracy: 0.9770 - val_loss: 0.5189 - val_accuracy: 0.7313\n",
      "Epoch 33/100\n",
      "14/14 [==============================] - 6s 437ms/step - loss: 0.1274 - accuracy: 0.9516 - val_loss: 0.1818 - val_accuracy: 0.9478\n",
      "Epoch 34/100\n",
      "14/14 [==============================] - 6s 438ms/step - loss: 0.1000 - accuracy: 0.9724 - val_loss: 0.2744 - val_accuracy: 0.8806\n",
      "Epoch 35/100\n",
      "14/14 [==============================] - 6s 437ms/step - loss: 0.0852 - accuracy: 0.9770 - val_loss: 0.2182 - val_accuracy: 0.9030\n",
      "Epoch 36/100\n",
      "14/14 [==============================] - 6s 441ms/step - loss: 0.0784 - accuracy: 0.9839 - val_loss: 0.2216 - val_accuracy: 0.8955\n",
      "Epoch 37/100\n",
      "14/14 [==============================] - 6s 438ms/step - loss: 0.0769 - accuracy: 0.9816 - val_loss: 0.2518 - val_accuracy: 0.8955\n",
      "Epoch 38/100\n",
      "14/14 [==============================] - 6s 438ms/step - loss: 0.1072 - accuracy: 0.9700 - val_loss: 0.2131 - val_accuracy: 0.9030\n",
      "Epoch 39/100\n",
      "14/14 [==============================] - 6s 436ms/step - loss: 0.0805 - accuracy: 0.9724 - val_loss: 0.1883 - val_accuracy: 0.9552\n",
      "Epoch 40/100\n",
      "14/14 [==============================] - 6s 441ms/step - loss: 0.0847 - accuracy: 0.9770 - val_loss: 0.4755 - val_accuracy: 0.7687\n"
     ]
    },
    {
     "data": {
      "text/plain": [
       "<tensorflow.python.keras.callbacks.History at 0x7f8ddda90450>"
      ]
     },
     "execution_count": 67,
     "metadata": {
      "tags": []
     },
     "output_type": "execute_result"
    }
   ],
   "source": [
    "model.fit(training_set, validation_data=test_set, epochs=100, callbacks=[early_stop])"
   ]
  },
  {
   "cell_type": "code",
   "execution_count": null,
   "metadata": {
    "id": "DnAccimjeSLH"
   },
   "outputs": [],
   "source": [
    "loss = pd.DataFrame(model.history.history)"
   ]
  },
  {
   "cell_type": "code",
   "execution_count": null,
   "metadata": {
    "colab": {
     "base_uri": "https://localhost:8080/",
     "height": 282
    },
    "id": "4vQdSYu_idFH",
    "outputId": "32458f51-fdd0-4d78-8c1f-195b983d140b"
   },
   "outputs": [
    {
     "data": {
      "text/plain": [
       "<matplotlib.axes._subplots.AxesSubplot at 0x7f8dde87e5d0>"
      ]
     },
     "execution_count": 69,
     "metadata": {
      "tags": []
     },
     "output_type": "execute_result"
    },
    {
     "data": {
      "image/png": "[encoded data removed]",
      "text/plain": [
       "<Figure size 432x288 with 1 Axes>"
      ]
     },
     "metadata": {
      "needs_background": "light",
      "tags": []
     },
     "output_type": "display_data"
    }
   ],
   "source": [
    "loss[['loss', 'val_loss']].plot()"
   ]
  },
  {
   "cell_type": "code",
   "execution_count": null,
   "metadata": {
    "colab": {
     "base_uri": "https://localhost:8080/",
     "height": 282
    },
    "id": "jbOb7yvZijJo",
    "outputId": "b9893908-575f-4f6a-9a8e-3b3403d51756"
   },
   "outputs": [
    {
     "data": {
      "text/plain": [
       "<matplotlib.axes._subplots.AxesSubplot at 0x7f8dde812410>"
      ]
     },
     "execution_count": 70,
     "metadata": {
      "tags": []
     },
     "output_type": "execute_result"
    },
    {
     "data": {
      "image/png": "[encoded data removed]",
      "text/plain": [
       "<Figure size 432x288 with 1 Axes>"
      ]
     },
     "metadata": {
      "needs_background": "light",
      "tags": []
     },
     "output_type": "display_data"
    }
   ],
   "source": [
    "loss[['accuracy', 'val_accuracy']].plot()"
   ]
  },
  {
   "cell_type": "code",
   "execution_count": null,
   "metadata": {
    "id": "hFno8qpQisQf"
   },
   "outputs": [],
   "source": [
    "test_pred = model.predict(test_set)"
   ]
  },
  {
   "cell_type": "code",
   "execution_count": null,
   "metadata": {
    "id": "lKdJlvZJjbpp"
   },
   "outputs": [],
   "source": [
    "predictions = np.argmax(test_pred, axis=1)"
   ]
  },
  {
   "cell_type": "code",
   "execution_count": null,
   "metadata": {
    "colab": {
     "base_uri": "https://localhost:8080/"
    },
    "id": "4vQm2vkYjwXh",
    "outputId": "5a404179-c1c3-442f-d5f8-4546eecd23af"
   },
   "outputs": [
    {
     "data": {
      "text/plain": [
       "array([0, 0, 0, 0, 0, 0, 0, 0, 0, 0, 0, 0, 0, 0, 0, 0, 0, 0, 0, 0, 0, 0,\n",
       "       0, 0, 0, 0, 0, 0, 0, 0, 0, 0, 0, 0, 0, 0, 0, 0, 0, 0, 0, 0, 0, 0,\n",
       "       0, 0, 0, 0, 0, 0, 0, 0, 0, 0, 0, 0, 0, 0, 0, 0, 0, 0, 0, 0, 0, 0,\n",
       "       0, 0, 0, 0, 0, 0, 0, 0, 0, 0, 0, 0, 0, 0, 0, 0, 0, 0, 0, 0, 0, 0,\n",
       "       0, 0, 0, 1, 1, 1, 1, 1, 1, 1, 1, 1, 1, 1, 1, 1, 1, 1, 1, 1, 1, 1,\n",
       "       1, 1, 1, 1, 1, 1, 1, 1, 1, 1, 1, 1, 1, 1, 1, 1, 1, 1, 1, 1, 1, 1,\n",
       "       1, 1], dtype=int32)"
      ]
     },
     "execution_count": 73,
     "metadata": {
      "tags": []
     },
     "output_type": "execute_result"
    }
   ],
   "source": [
    "test_set.labels"
   ]
  },
  {
   "cell_type": "code",
   "execution_count": null,
   "metadata": {
    "colab": {
     "base_uri": "https://localhost:8080/"
    },
    "id": "hKScKv7hj-aC",
    "outputId": "0a02f2fe-381c-41f6-a321-5625c52b36c2"
   },
   "outputs": [
    {
     "name": "stdout",
     "output_type": "stream",
     "text": [
      "              precision    recall  f1-score   support\n",
      "\n",
      "           0       0.62      0.41      0.49        91\n",
      "           1       0.27      0.47      0.34        43\n",
      "\n",
      "    accuracy                           0.43       134\n",
      "   macro avg       0.44      0.44      0.42       134\n",
      "weighted avg       0.51      0.43      0.44       134\n",
      "\n"
     ]
    }
   ],
   "source": [
    "print(classification_report(test_set.labels, predictions))"
   ]
  },
  {
   "cell_type": "code",
   "execution_count": null,
   "metadata": {
    "id": "H7G0PrwTkPJW"
   },
   "outputs": [],
   "source": [
    "def squeeze_excite_block(filters,input):                      \n",
    "    se = tf.keras.layers.GlobalAveragePooling2D()(input) #(batch size and channel)\n",
    "    se = tf.keras.layers.Reshape((1, filters))(se) \n",
    "    se = tf.keras.layers.Dense(filters//16, activation='relu')(se)\n",
    "    se = tf.keras.layers.Dense(filters, activation='sigmoid')(se)\n",
    "    se = tf.keras.layers.multiply([input, se])\n",
    "    return se"
   ]
  },
  {
   "cell_type": "code",
   "execution_count": null,
   "metadata": {
    "id": "EQYDiENwm0pT"
   },
   "outputs": [],
   "source": [
    "def make_model():\n",
    "        s = tf.keras.Input(shape=(224, 224, 3)) \n",
    "        x = tf.keras.layers.Conv2D(32,(3,3),activation='relu',padding='same')(s)\n",
    "        x = tf.keras.layers.Conv2D(32,(3,3),activation='relu',padding='same')(x)\n",
    "        x = tf.keras.layers.Conv2D(32,(3,3),activation='relu',padding='same')(x)\n",
    "        x = tf.keras.layers.BatchNormalization()(x)\n",
    "        x = squeeze_excite_block(32,x)\n",
    "\n",
    "        x = tf.keras.layers.Conv2D(32,(3,3),activation='relu',padding='same')(x)\n",
    "        x = tf.keras.layers.Conv2D(32,(3,3),activation='relu',padding='same')(x)\n",
    "        x = tf.keras.layers.Conv2D(32,(3,3),activation='relu',padding='same')(x)\n",
    "        x = tf.keras.layers.BatchNormalization()(x)\n",
    "        x = squeeze_excite_block(32,x)\n",
    "        x = tf.keras.layers.AveragePooling2D(2)(x)\n",
    "\n",
    "        x = tf.keras.layers.Conv2D(32,(3,3),activation='relu',padding='same')(x)\n",
    "        x = tf.keras.layers.Conv2D(32,(3,3),activation='relu',padding='same')(x)\n",
    "        x = tf.keras.layers.Conv2D(32,(3,3),activation='relu',padding='same')(x)\n",
    "        x = tf.keras.layers.BatchNormalization()(x)\n",
    "        x = squeeze_excite_block(32,x)\n",
    "        x = tf.keras.layers.AveragePooling2D(2)(x)\n",
    "\n",
    "        x = tf.keras.layers.Conv2D(32,(3,3),activation='relu',padding='same')(x)\n",
    "        x = tf.keras.layers.Conv2D(32,(3,3),activation='relu',padding='same')(x)\n",
    "        x = tf.keras.layers.Conv2D(32,(3,3),activation='relu',padding='same')(x)\n",
    "        x = tf.keras.layers.BatchNormalization()(x)\n",
    "        x = squeeze_excite_block(32,x)\n",
    "        x = tf.keras.layers.AveragePooling2D(2)(x)          \n",
    "\n",
    "\n",
    "        x = tf.keras.layers.Conv2D(32,(3,3),activation='relu',padding='same')(x)\n",
    "        x = tf.keras.layers.Conv2D(32,(3,3),activation='relu',padding='same')(x)\n",
    "        x = tf.keras.layers.Conv2D(32,(3,3),activation='relu',padding='same')(x)\n",
    "        x = tf.keras.layers.BatchNormalization()(x)\n",
    "        x = squeeze_excite_block(32,x)\n",
    "        x = tf.keras.layers.AveragePooling2D(2)(x)\n",
    "\n",
    "\n",
    "        x = tf.keras.layers.concatenate([tf.keras.layers.GlobalMaxPooling2D()(x),\n",
    "                                         tf.keras.layers.GlobalAveragePooling2D()(x)])\n",
    "\n",
    "        x = tf.keras.layers.Dense(2,activation='softmax',use_bias=False,\n",
    "                                  kernel_regularizer=tf.keras.regularizers.l1(0.00025))(x)\n",
    "        model = tf.keras.Model(inputs=s, outputs=x)\n",
    "        model.compile(optimizer=optimizers.Adam(lr=0.001), loss='categorical_crossentropy',metrics=['accuracy'])\n",
    "        return model"
   ]
  },
  {
   "cell_type": "code",
   "execution_count": null,
   "metadata": {
    "id": "hyPOxJtnm7Xp"
   },
   "outputs": [],
   "source": [
    "import tensorflow as tf"
   ]
  },
  {
   "cell_type": "code",
   "execution_count": null,
   "metadata": {
    "colab": {
     "base_uri": "https://localhost:8080/"
    },
    "id": "fSSSqD1Om2ma",
    "outputId": "f93e8302-1bd7-49d9-fc46-9b7ebf6ba42c"
   },
   "outputs": [
    {
     "name": "stderr",
     "output_type": "stream",
     "text": [
      "/usr/local/lib/python3.7/dist-packages/tensorflow/python/keras/optimizer_v2/optimizer_v2.py:375: UserWarning: The `lr` argument is deprecated, use `learning_rate` instead.\n",
      "  \"The `lr` argument is deprecated, use `learning_rate` instead.\")\n"
     ]
    },
    {
     "name": "stdout",
     "output_type": "stream",
     "text": [
      "Epoch 1/15\n",
      "14/14 [==============================] - 11s 502ms/step - loss: 0.4280 - accuracy: 0.8502\n",
      "Epoch 2/15\n",
      "14/14 [==============================] - 7s 463ms/step - loss: 0.0906 - accuracy: 0.9747\n",
      "Epoch 3/15\n",
      "14/14 [==============================] - 7s 453ms/step - loss: 0.0524 - accuracy: 0.9885\n",
      "Epoch 4/15\n",
      "14/14 [==============================] - 7s 452ms/step - loss: 0.0370 - accuracy: 0.9931\n",
      "Epoch 5/15\n",
      "14/14 [==============================] - 7s 451ms/step - loss: 0.0567 - accuracy: 0.9839\n",
      "Epoch 6/15\n",
      "14/14 [==============================] - 6s 442ms/step - loss: 0.0634 - accuracy: 0.9862\n",
      "Epoch 7/15\n",
      "14/14 [==============================] - 7s 451ms/step - loss: 0.0539 - accuracy: 0.9908\n",
      "Epoch 8/15\n",
      "14/14 [==============================] - 6s 449ms/step - loss: 0.0373 - accuracy: 0.9954\n",
      "Epoch 9/15\n",
      "14/14 [==============================] - 7s 451ms/step - loss: 0.0369 - accuracy: 0.9954\n",
      "Epoch 10/15\n",
      "14/14 [==============================] - 7s 455ms/step - loss: 0.0383 - accuracy: 0.9908\n",
      "Epoch 11/15\n",
      "14/14 [==============================] - 7s 453ms/step - loss: 0.0424 - accuracy: 0.9931\n",
      "Epoch 12/15\n",
      "14/14 [==============================] - 6s 448ms/step - loss: 0.0498 - accuracy: 0.9885\n",
      "Epoch 13/15\n",
      "14/14 [==============================] - 6s 445ms/step - loss: 0.0734 - accuracy: 0.9724\n",
      "Epoch 14/15\n",
      "14/14 [==============================] - 6s 449ms/step - loss: 0.0543 - accuracy: 0.9862\n",
      "Epoch 15/15\n",
      "14/14 [==============================] - 6s 445ms/step - loss: 0.0457 - accuracy: 0.9908\n",
      "Epoch 1/3\n",
      "14/14 [==============================] - 8s 444ms/step - loss: 0.0311 - accuracy: 0.9954\n",
      "Epoch 2/3\n",
      "14/14 [==============================] - 6s 445ms/step - loss: 0.0289 - accuracy: 0.9954\n",
      "Epoch 3/3\n",
      "14/14 [==============================] - 6s 448ms/step - loss: 0.0243 - accuracy: 0.9954\n",
      "Epoch 1/15\n",
      "14/14 [==============================] - 8s 446ms/step - loss: 0.6325 - accuracy: 0.6751\n",
      "Epoch 2/15\n",
      "14/14 [==============================] - 6s 450ms/step - loss: 0.2169 - accuracy: 0.9147\n",
      "Epoch 3/15\n",
      "14/14 [==============================] - 7s 448ms/step - loss: 0.0837 - accuracy: 0.9862\n",
      "Epoch 4/15\n",
      "14/14 [==============================] - 6s 446ms/step - loss: 0.0721 - accuracy: 0.9747\n",
      "Epoch 5/15\n",
      "14/14 [==============================] - 7s 451ms/step - loss: 0.0510 - accuracy: 0.9816\n",
      "Epoch 6/15\n",
      "14/14 [==============================] - 7s 449ms/step - loss: 0.0501 - accuracy: 0.9862\n",
      "Epoch 7/15\n",
      "14/14 [==============================] - 6s 447ms/step - loss: 0.0399 - accuracy: 0.9908\n",
      "Epoch 8/15\n",
      "14/14 [==============================] - 6s 447ms/step - loss: 0.0463 - accuracy: 0.9885\n",
      "Epoch 9/15\n",
      "14/14 [==============================] - 6s 445ms/step - loss: 0.0525 - accuracy: 0.9885\n",
      "Epoch 10/15\n",
      "14/14 [==============================] - 6s 468ms/step - loss: 0.0815 - accuracy: 0.9724\n",
      "Epoch 11/15\n",
      "14/14 [==============================] - 7s 455ms/step - loss: 0.0702 - accuracy: 0.9770\n",
      "Epoch 12/15\n",
      "14/14 [==============================] - 7s 473ms/step - loss: 0.0545 - accuracy: 0.9862\n",
      "Epoch 13/15\n",
      "14/14 [==============================] - 6s 445ms/step - loss: 0.0348 - accuracy: 0.9908\n",
      "Epoch 14/15\n",
      "14/14 [==============================] - 6s 445ms/step - loss: 0.0459 - accuracy: 0.9908\n",
      "Epoch 15/15\n",
      "14/14 [==============================] - 6s 444ms/step - loss: 0.0508 - accuracy: 0.9908\n",
      "Epoch 1/3\n",
      "14/14 [==============================] - 8s 444ms/step - loss: 0.0421 - accuracy: 0.9931\n",
      "Epoch 2/3\n",
      "14/14 [==============================] - 6s 446ms/step - loss: 0.0324 - accuracy: 0.9931\n",
      "Epoch 3/3\n",
      "14/14 [==============================] - 6s 444ms/step - loss: 0.0206 - accuracy: 0.9977\n",
      "Epoch 1/15\n",
      "14/14 [==============================] - 8s 446ms/step - loss: 0.4330 - accuracy: 0.7811\n",
      "Epoch 2/15\n",
      "14/14 [==============================] - 6s 447ms/step - loss: 0.1324 - accuracy: 0.9608\n",
      "Epoch 3/15\n",
      "14/14 [==============================] - 6s 468ms/step - loss: 0.0591 - accuracy: 0.9885\n",
      "Epoch 4/15\n",
      "14/14 [==============================] - 6s 445ms/step - loss: 0.0485 - accuracy: 0.9862\n",
      "Epoch 5/15\n",
      "14/14 [==============================] - 6s 444ms/step - loss: 0.0446 - accuracy: 0.9931\n",
      "Epoch 6/15\n",
      "14/14 [==============================] - 6s 450ms/step - loss: 0.0592 - accuracy: 0.9816\n",
      "Epoch 7/15\n",
      "14/14 [==============================] - 6s 469ms/step - loss: 0.0511 - accuracy: 0.9931\n",
      "Epoch 8/15\n",
      "14/14 [==============================] - 7s 450ms/step - loss: 0.0405 - accuracy: 0.9908\n",
      "Epoch 9/15\n",
      "14/14 [==============================] - 6s 447ms/step - loss: 0.0523 - accuracy: 0.9816\n",
      "Epoch 10/15\n",
      "14/14 [==============================] - 6s 449ms/step - loss: 0.0357 - accuracy: 0.9885\n",
      "Epoch 11/15\n",
      "14/14 [==============================] - 6s 441ms/step - loss: 0.0529 - accuracy: 0.9885\n",
      "Epoch 12/15\n",
      "14/14 [==============================] - 7s 447ms/step - loss: 0.0389 - accuracy: 0.9931\n",
      "Epoch 13/15\n",
      "14/14 [==============================] - 6s 448ms/step - loss: 0.0376 - accuracy: 0.9931\n",
      "Epoch 14/15\n",
      "14/14 [==============================] - 6s 447ms/step - loss: 0.0326 - accuracy: 0.9954\n",
      "Epoch 15/15\n",
      "14/14 [==============================] - 7s 455ms/step - loss: 0.0266 - accuracy: 0.9954\n",
      "Epoch 1/3\n",
      "14/14 [==============================] - 8s 449ms/step - loss: 0.0289 - accuracy: 0.9954\n",
      "Epoch 2/3\n",
      "14/14 [==============================] - 7s 452ms/step - loss: 0.0294 - accuracy: 0.9954\n",
      "Epoch 3/3\n",
      "14/14 [==============================] - 7s 455ms/step - loss: 0.0263 - accuracy: 0.9954\n",
      "Epoch 1/15\n",
      "14/14 [==============================] - 9s 448ms/step - loss: 0.6457 - accuracy: 0.6959\n",
      "Epoch 2/15\n",
      "14/14 [==============================] - 7s 451ms/step - loss: 0.1629 - accuracy: 0.9562\n",
      "Epoch 3/15\n",
      "14/14 [==============================] - 6s 447ms/step - loss: 0.0901 - accuracy: 0.9747\n",
      "Epoch 4/15\n",
      "14/14 [==============================] - 6s 470ms/step - loss: 0.0879 - accuracy: 0.9631\n",
      "Epoch 5/15\n",
      "14/14 [==============================] - 6s 448ms/step - loss: 0.0693 - accuracy: 0.9908\n",
      "Epoch 6/15\n",
      "14/14 [==============================] - 6s 447ms/step - loss: 0.0841 - accuracy: 0.9793\n",
      "Epoch 7/15\n",
      "14/14 [==============================] - 6s 445ms/step - loss: 0.0735 - accuracy: 0.9770\n",
      "Epoch 8/15\n",
      "14/14 [==============================] - 6s 449ms/step - loss: 0.0502 - accuracy: 0.9885\n",
      "Epoch 9/15\n",
      "14/14 [==============================] - 6s 447ms/step - loss: 0.0462 - accuracy: 0.9839\n",
      "Epoch 10/15\n",
      "14/14 [==============================] - 6s 469ms/step - loss: 0.0413 - accuracy: 0.9908\n",
      "Epoch 11/15\n",
      "14/14 [==============================] - 6s 448ms/step - loss: 0.0351 - accuracy: 0.9931\n",
      "Epoch 12/15\n",
      "14/14 [==============================] - 6s 448ms/step - loss: 0.0321 - accuracy: 0.9885\n",
      "Epoch 13/15\n",
      "14/14 [==============================] - 7s 451ms/step - loss: 0.0389 - accuracy: 0.9885\n",
      "Epoch 14/15\n",
      "14/14 [==============================] - 6s 444ms/step - loss: 0.0338 - accuracy: 0.9908\n",
      "Epoch 15/15\n",
      "14/14 [==============================] - 6s 447ms/step - loss: 0.0425 - accuracy: 0.9931\n",
      "Epoch 1/3\n",
      "14/14 [==============================] - 9s 442ms/step - loss: 0.0482 - accuracy: 0.9885\n",
      "Epoch 2/3\n",
      "14/14 [==============================] - 7s 473ms/step - loss: 0.0272 - accuracy: 0.9954\n",
      "Epoch 3/3\n",
      "14/14 [==============================] - 6s 448ms/step - loss: 0.0339 - accuracy: 0.9931\n",
      "Epoch 1/15\n",
      "14/14 [==============================] - 8s 443ms/step - loss: 0.4555 - accuracy: 0.7719\n",
      "Epoch 2/15\n",
      "14/14 [==============================] - 6s 449ms/step - loss: 0.1103 - accuracy: 0.9770\n",
      "Epoch 3/15\n",
      "14/14 [==============================] - 6s 446ms/step - loss: 0.0512 - accuracy: 0.9862\n",
      "Epoch 4/15\n",
      "14/14 [==============================] - 6s 448ms/step - loss: 0.0642 - accuracy: 0.9793\n",
      "Epoch 5/15\n",
      "14/14 [==============================] - 6s 449ms/step - loss: 0.0676 - accuracy: 0.9816\n",
      "Epoch 6/15\n",
      "14/14 [==============================] - 6s 449ms/step - loss: 0.0482 - accuracy: 0.9885\n",
      "Epoch 7/15\n",
      "14/14 [==============================] - 7s 471ms/step - loss: 0.0622 - accuracy: 0.9862\n",
      "Epoch 8/15\n",
      "14/14 [==============================] - 7s 450ms/step - loss: 0.0557 - accuracy: 0.9839\n",
      "Epoch 9/15\n",
      "14/14 [==============================] - 6s 472ms/step - loss: 0.0430 - accuracy: 0.9908\n",
      "Epoch 10/15\n",
      "14/14 [==============================] - 6s 448ms/step - loss: 0.0508 - accuracy: 0.9885\n",
      "Epoch 11/15\n",
      "14/14 [==============================] - 6s 445ms/step - loss: 0.0528 - accuracy: 0.9862\n",
      "Epoch 12/15\n",
      "14/14 [==============================] - 6s 444ms/step - loss: 0.0537 - accuracy: 0.9862\n",
      "Epoch 13/15\n",
      "14/14 [==============================] - 7s 451ms/step - loss: 0.0399 - accuracy: 0.9908\n",
      "Epoch 14/15\n",
      "14/14 [==============================] - 7s 453ms/step - loss: 0.0289 - accuracy: 0.9954\n",
      "Epoch 15/15\n",
      "14/14 [==============================] - 6s 449ms/step - loss: 0.0317 - accuracy: 0.9931\n",
      "Epoch 1/3\n",
      "14/14 [==============================] - 8s 469ms/step - loss: 0.0332 - accuracy: 0.9931\n",
      "Epoch 2/3\n",
      "14/14 [==============================] - 6s 447ms/step - loss: 0.0244 - accuracy: 0.9954\n",
      "Epoch 3/3\n",
      "14/14 [==============================] - 6s 449ms/step - loss: 0.0232 - accuracy: 0.9954\n"
     ]
    }
   ],
   "source": [
    "batch_size=32\n",
    "supermodel=[]\n",
    "for i in range(5):\n",
    "        np.random.seed(i)\n",
    "        model=make_model()                \n",
    "        model.compile(optimizer=optimizers.Adam(lr=0.001), loss='categorical_crossentropy',metrics=['accuracy'])\n",
    "        model.fit(training_set, batch_size=batch_size,shuffle=True,\n",
    "                    epochs=15,verbose=1)\n",
    "        model.compile(optimizer=optimizers.Adam(lr=0.0001), loss='categorical_crossentropy',metrics=['accuracy'])\n",
    "        model.fit(training_set , batch_size=batch_size,shuffle=True,\n",
    "                    epochs=3,verbose=1)\n",
    "        model.compile(optimizer=optimizers.Adam(lr=0.00001), loss='categorical_crossentropy',metrics=['accuracy'])\n",
    "        model.fit(training_set, batch_size=batch_size,shuffle=True,\n",
    "                     epochs=3,verbose=0)\n",
    "        model.fit(training_set, batch_size=batch_size,shuffle=True, epochs=1,verbose=0)\n",
    "        supermodel.append(model)\n"
   ]
  },
  {
   "cell_type": "code",
   "execution_count": null,
   "metadata": {
    "id": "uqugDzvIm4m_"
   },
   "outputs": [],
   "source": [
    "pred =np.asarray([a.predict(test_set) for a in supermodel])\n",
    "predictions = np.argmax(np.mean(pred,axis=0),axis=1)"
   ]
  },
  {
   "cell_type": "code",
   "execution_count": null,
   "metadata": {
    "colab": {
     "base_uri": "https://localhost:8080/"
    },
    "id": "ef3qVpPy0rid",
    "outputId": "90d8fe9f-944b-4193-baaa-ff1fbc74d30b"
   },
   "outputs": [
    {
     "name": "stdout",
     "output_type": "stream",
     "text": [
      "              precision    recall  f1-score   support\n",
      "\n",
      "           0       0.72      0.23      0.35        91\n",
      "           1       0.33      0.81      0.47        43\n",
      "\n",
      "    accuracy                           0.42       134\n",
      "   macro avg       0.53      0.52      0.41       134\n",
      "weighted avg       0.60      0.42      0.39       134\n",
      "\n"
     ]
    }
   ],
   "source": [
    "print(classification_report(test_set.labels, predictions))"
   ]
  },
  {
   "cell_type": "markdown",
   "metadata": {},
   "source": [
    "### Xception"
   ]
  },
  {
   "cell_type": "code",
   "execution_count": null,
   "metadata": {
    "id": "W7AQjY8Q1NBE"
   },
   "outputs": [],
   "source": [
    "from tensorflow.keras.applications.xception import Xception"
   ]
  },
  {
   "cell_type": "code",
   "execution_count": null,
   "metadata": {
    "id": "oANP7Sy1KnRc"
   },
   "outputs": [],
   "source": [
    "xcep = Xception(include_top=False, weights = 'imagenet', input_shape = IMAGE_SIZE + [3])"
   ]
  },
  {
   "cell_type": "code",
   "execution_count": null,
   "metadata": {
    "colab": {
     "base_uri": "https://localhost:8080/"
    },
    "id": "-53eUJIOK4ur",
    "outputId": "f6f5bd78-88be-41ca-dfb0-3de015c17527"
   },
   "outputs": [
    {
     "name": "stdout",
     "output_type": "stream",
     "text": [
      "Model: \"xception\"\n",
      "__________________________________________________________________________________________________\n",
      "Layer (type)                    Output Shape         Param #     Connected to                     \n",
      "==================================================================================================\n",
      "input_2 (InputLayer)            [(None, 224, 224, 3) 0                                            \n",
      "__________________________________________________________________________________________________\n",
      "block1_conv1 (Conv2D)           (None, 111, 111, 32) 864         input_2[0][0]                    \n",
      "__________________________________________________________________________________________________\n",
      "block1_conv1_bn (BatchNormaliza (None, 111, 111, 32) 128         block1_conv1[0][0]               \n",
      "__________________________________________________________________________________________________\n",
      "block1_conv1_act (Activation)   (None, 111, 111, 32) 0           block1_conv1_bn[0][0]            \n",
      "__________________________________________________________________________________________________\n",
      "block1_conv2 (Conv2D)           (None, 109, 109, 64) 18432       block1_conv1_act[0][0]           \n",
      "__________________________________________________________________________________________________\n",
      "block1_conv2_bn (BatchNormaliza (None, 109, 109, 64) 256         block1_conv2[0][0]               \n",
      "__________________________________________________________________________________________________\n",
      "block1_conv2_act (Activation)   (None, 109, 109, 64) 0           block1_conv2_bn[0][0]            \n",
      "__________________________________________________________________________________________________\n",
      "block2_sepconv1 (SeparableConv2 (None, 109, 109, 128 8768        block1_conv2_act[0][0]           \n",
      "__________________________________________________________________________________________________\n",
      "block2_sepconv1_bn (BatchNormal (None, 109, 109, 128 512         block2_sepconv1[0][0]            \n",
      "__________________________________________________________________________________________________\n",
      "block2_sepconv2_act (Activation (None, 109, 109, 128 0           block2_sepconv1_bn[0][0]         \n",
      "__________________________________________________________________________________________________\n",
      "block2_sepconv2 (SeparableConv2 (None, 109, 109, 128 17536       block2_sepconv2_act[0][0]        \n",
      "__________________________________________________________________________________________________\n",
      "block2_sepconv2_bn (BatchNormal (None, 109, 109, 128 512         block2_sepconv2[0][0]            \n",
      "__________________________________________________________________________________________________\n",
      "conv2d_4 (Conv2D)               (None, 55, 55, 128)  8192        block1_conv2_act[0][0]           \n",
      "__________________________________________________________________________________________________\n",
      "block2_pool (MaxPooling2D)      (None, 55, 55, 128)  0           block2_sepconv2_bn[0][0]         \n",
      "__________________________________________________________________________________________________\n",
      "batch_normalization_4 (BatchNor (None, 55, 55, 128)  512         conv2d_4[0][0]                   \n",
      "__________________________________________________________________________________________________\n",
      "add_12 (Add)                    (None, 55, 55, 128)  0           block2_pool[0][0]                \n",
      "                                                                 batch_normalization_4[0][0]      \n",
      "__________________________________________________________________________________________________\n",
      "block3_sepconv1_act (Activation (None, 55, 55, 128)  0           add_12[0][0]                     \n",
      "__________________________________________________________________________________________________\n",
      "block3_sepconv1 (SeparableConv2 (None, 55, 55, 256)  33920       block3_sepconv1_act[0][0]        \n",
      "__________________________________________________________________________________________________\n",
      "block3_sepconv1_bn (BatchNormal (None, 55, 55, 256)  1024        block3_sepconv1[0][0]            \n",
      "__________________________________________________________________________________________________\n",
      "block3_sepconv2_act (Activation (None, 55, 55, 256)  0           block3_sepconv1_bn[0][0]         \n",
      "__________________________________________________________________________________________________\n",
      "block3_sepconv2 (SeparableConv2 (None, 55, 55, 256)  67840       block3_sepconv2_act[0][0]        \n",
      "__________________________________________________________________________________________________\n",
      "block3_sepconv2_bn (BatchNormal (None, 55, 55, 256)  1024        block3_sepconv2[0][0]            \n",
      "__________________________________________________________________________________________________\n",
      "conv2d_5 (Conv2D)               (None, 28, 28, 256)  32768       add_12[0][0]                     \n",
      "__________________________________________________________________________________________________\n",
      "block3_pool (MaxPooling2D)      (None, 28, 28, 256)  0           block3_sepconv2_bn[0][0]         \n",
      "__________________________________________________________________________________________________\n",
      "batch_normalization_5 (BatchNor (None, 28, 28, 256)  1024        conv2d_5[0][0]                   \n",
      "__________________________________________________________________________________________________\n",
      "add_13 (Add)                    (None, 28, 28, 256)  0           block3_pool[0][0]                \n",
      "                                                                 batch_normalization_5[0][0]      \n",
      "__________________________________________________________________________________________________\n",
      "block4_sepconv1_act (Activation (None, 28, 28, 256)  0           add_13[0][0]                     \n",
      "__________________________________________________________________________________________________\n",
      "block4_sepconv1 (SeparableConv2 (None, 28, 28, 728)  188672      block4_sepconv1_act[0][0]        \n",
      "__________________________________________________________________________________________________\n",
      "block4_sepconv1_bn (BatchNormal (None, 28, 28, 728)  2912        block4_sepconv1[0][0]            \n",
      "__________________________________________________________________________________________________\n",
      "block4_sepconv2_act (Activation (None, 28, 28, 728)  0           block4_sepconv1_bn[0][0]         \n",
      "__________________________________________________________________________________________________\n",
      "block4_sepconv2 (SeparableConv2 (None, 28, 28, 728)  536536      block4_sepconv2_act[0][0]        \n",
      "__________________________________________________________________________________________________\n",
      "block4_sepconv2_bn (BatchNormal (None, 28, 28, 728)  2912        block4_sepconv2[0][0]            \n",
      "__________________________________________________________________________________________________\n",
      "conv2d_6 (Conv2D)               (None, 14, 14, 728)  186368      add_13[0][0]                     \n",
      "__________________________________________________________________________________________________\n",
      "block4_pool (MaxPooling2D)      (None, 14, 14, 728)  0           block4_sepconv2_bn[0][0]         \n",
      "__________________________________________________________________________________________________\n",
      "batch_normalization_6 (BatchNor (None, 14, 14, 728)  2912        conv2d_6[0][0]                   \n",
      "__________________________________________________________________________________________________\n",
      "add_14 (Add)                    (None, 14, 14, 728)  0           block4_pool[0][0]                \n",
      "                                                                 batch_normalization_6[0][0]      \n",
      "__________________________________________________________________________________________________\n",
      "block5_sepconv1_act (Activation (None, 14, 14, 728)  0           add_14[0][0]                     \n",
      "__________________________________________________________________________________________________\n",
      "block5_sepconv1 (SeparableConv2 (None, 14, 14, 728)  536536      block5_sepconv1_act[0][0]        \n",
      "__________________________________________________________________________________________________\n",
      "block5_sepconv1_bn (BatchNormal (None, 14, 14, 728)  2912        block5_sepconv1[0][0]            \n",
      "__________________________________________________________________________________________________\n",
      "block5_sepconv2_act (Activation (None, 14, 14, 728)  0           block5_sepconv1_bn[0][0]         \n",
      "__________________________________________________________________________________________________\n",
      "block5_sepconv2 (SeparableConv2 (None, 14, 14, 728)  536536      block5_sepconv2_act[0][0]        \n",
      "__________________________________________________________________________________________________\n",
      "block5_sepconv2_bn (BatchNormal (None, 14, 14, 728)  2912        block5_sepconv2[0][0]            \n",
      "__________________________________________________________________________________________________\n",
      "block5_sepconv3_act (Activation (None, 14, 14, 728)  0           block5_sepconv2_bn[0][0]         \n",
      "__________________________________________________________________________________________________\n",
      "block5_sepconv3 (SeparableConv2 (None, 14, 14, 728)  536536      block5_sepconv3_act[0][0]        \n",
      "__________________________________________________________________________________________________\n",
      "block5_sepconv3_bn (BatchNormal (None, 14, 14, 728)  2912        block5_sepconv3[0][0]            \n",
      "__________________________________________________________________________________________________\n",
      "add_15 (Add)                    (None, 14, 14, 728)  0           block5_sepconv3_bn[0][0]         \n",
      "                                                                 add_14[0][0]                     \n",
      "__________________________________________________________________________________________________\n",
      "block6_sepconv1_act (Activation (None, 14, 14, 728)  0           add_15[0][0]                     \n",
      "__________________________________________________________________________________________________\n",
      "block6_sepconv1 (SeparableConv2 (None, 14, 14, 728)  536536      block6_sepconv1_act[0][0]        \n",
      "__________________________________________________________________________________________________\n",
      "block6_sepconv1_bn (BatchNormal (None, 14, 14, 728)  2912        block6_sepconv1[0][0]            \n",
      "__________________________________________________________________________________________________\n",
      "block6_sepconv2_act (Activation (None, 14, 14, 728)  0           block6_sepconv1_bn[0][0]         \n",
      "__________________________________________________________________________________________________\n",
      "block6_sepconv2 (SeparableConv2 (None, 14, 14, 728)  536536      block6_sepconv2_act[0][0]        \n",
      "__________________________________________________________________________________________________\n",
      "block6_sepconv2_bn (BatchNormal (None, 14, 14, 728)  2912        block6_sepconv2[0][0]            \n",
      "__________________________________________________________________________________________________\n",
      "block6_sepconv3_act (Activation (None, 14, 14, 728)  0           block6_sepconv2_bn[0][0]         \n",
      "__________________________________________________________________________________________________\n",
      "block6_sepconv3 (SeparableConv2 (None, 14, 14, 728)  536536      block6_sepconv3_act[0][0]        \n",
      "__________________________________________________________________________________________________\n",
      "block6_sepconv3_bn (BatchNormal (None, 14, 14, 728)  2912        block6_sepconv3[0][0]            \n",
      "__________________________________________________________________________________________________\n",
      "add_16 (Add)                    (None, 14, 14, 728)  0           block6_sepconv3_bn[0][0]         \n",
      "                                                                 add_15[0][0]                     \n",
      "__________________________________________________________________________________________________\n",
      "block7_sepconv1_act (Activation (None, 14, 14, 728)  0           add_16[0][0]                     \n",
      "__________________________________________________________________________________________________\n",
      "block7_sepconv1 (SeparableConv2 (None, 14, 14, 728)  536536      block7_sepconv1_act[0][0]        \n",
      "__________________________________________________________________________________________________\n",
      "block7_sepconv1_bn (BatchNormal (None, 14, 14, 728)  2912        block7_sepconv1[0][0]            \n",
      "__________________________________________________________________________________________________\n",
      "block7_sepconv2_act (Activation (None, 14, 14, 728)  0           block7_sepconv1_bn[0][0]         \n",
      "__________________________________________________________________________________________________\n",
      "block7_sepconv2 (SeparableConv2 (None, 14, 14, 728)  536536      block7_sepconv2_act[0][0]        \n",
      "__________________________________________________________________________________________________\n",
      "block7_sepconv2_bn (BatchNormal (None, 14, 14, 728)  2912        block7_sepconv2[0][0]            \n",
      "__________________________________________________________________________________________________\n",
      "block7_sepconv3_act (Activation (None, 14, 14, 728)  0           block7_sepconv2_bn[0][0]         \n",
      "__________________________________________________________________________________________________\n",
      "block7_sepconv3 (SeparableConv2 (None, 14, 14, 728)  536536      block7_sepconv3_act[0][0]        \n",
      "__________________________________________________________________________________________________\n",
      "block7_sepconv3_bn (BatchNormal (None, 14, 14, 728)  2912        block7_sepconv3[0][0]            \n",
      "__________________________________________________________________________________________________\n",
      "add_17 (Add)                    (None, 14, 14, 728)  0           block7_sepconv3_bn[0][0]         \n",
      "                                                                 add_16[0][0]                     \n",
      "__________________________________________________________________________________________________\n",
      "block8_sepconv1_act (Activation (None, 14, 14, 728)  0           add_17[0][0]                     \n",
      "__________________________________________________________________________________________________\n",
      "block8_sepconv1 (SeparableConv2 (None, 14, 14, 728)  536536      block8_sepconv1_act[0][0]        \n",
      "__________________________________________________________________________________________________\n",
      "block8_sepconv1_bn (BatchNormal (None, 14, 14, 728)  2912        block8_sepconv1[0][0]            \n",
      "__________________________________________________________________________________________________\n",
      "block8_sepconv2_act (Activation (None, 14, 14, 728)  0           block8_sepconv1_bn[0][0]         \n",
      "__________________________________________________________________________________________________\n",
      "block8_sepconv2 (SeparableConv2 (None, 14, 14, 728)  536536      block8_sepconv2_act[0][0]        \n",
      "__________________________________________________________________________________________________\n",
      "block8_sepconv2_bn (BatchNormal (None, 14, 14, 728)  2912        block8_sepconv2[0][0]            \n",
      "__________________________________________________________________________________________________\n",
      "block8_sepconv3_act (Activation (None, 14, 14, 728)  0           block8_sepconv2_bn[0][0]         \n",
      "__________________________________________________________________________________________________\n",
      "block8_sepconv3 (SeparableConv2 (None, 14, 14, 728)  536536      block8_sepconv3_act[0][0]        \n",
      "__________________________________________________________________________________________________\n",
      "block8_sepconv3_bn (BatchNormal (None, 14, 14, 728)  2912        block8_sepconv3[0][0]            \n",
      "__________________________________________________________________________________________________\n",
      "add_18 (Add)                    (None, 14, 14, 728)  0           block8_sepconv3_bn[0][0]         \n",
      "                                                                 add_17[0][0]                     \n",
      "__________________________________________________________________________________________________\n",
      "block9_sepconv1_act (Activation (None, 14, 14, 728)  0           add_18[0][0]                     \n",
      "__________________________________________________________________________________________________\n",
      "block9_sepconv1 (SeparableConv2 (None, 14, 14, 728)  536536      block9_sepconv1_act[0][0]        \n",
      "__________________________________________________________________________________________________\n",
      "block9_sepconv1_bn (BatchNormal (None, 14, 14, 728)  2912        block9_sepconv1[0][0]            \n",
      "__________________________________________________________________________________________________\n",
      "block9_sepconv2_act (Activation (None, 14, 14, 728)  0           block9_sepconv1_bn[0][0]         \n",
      "__________________________________________________________________________________________________\n",
      "block9_sepconv2 (SeparableConv2 (None, 14, 14, 728)  536536      block9_sepconv2_act[0][0]        \n",
      "__________________________________________________________________________________________________\n",
      "block9_sepconv2_bn (BatchNormal (None, 14, 14, 728)  2912        block9_sepconv2[0][0]            \n",
      "__________________________________________________________________________________________________\n",
      "block9_sepconv3_act (Activation (None, 14, 14, 728)  0           block9_sepconv2_bn[0][0]         \n",
      "__________________________________________________________________________________________________\n",
      "block9_sepconv3 (SeparableConv2 (None, 14, 14, 728)  536536      block9_sepconv3_act[0][0]        \n",
      "__________________________________________________________________________________________________\n",
      "block9_sepconv3_bn (BatchNormal (None, 14, 14, 728)  2912        block9_sepconv3[0][0]            \n",
      "__________________________________________________________________________________________________\n",
      "add_19 (Add)                    (None, 14, 14, 728)  0           block9_sepconv3_bn[0][0]         \n",
      "                                                                 add_18[0][0]                     \n",
      "__________________________________________________________________________________________________\n",
      "block10_sepconv1_act (Activatio (None, 14, 14, 728)  0           add_19[0][0]                     \n",
      "__________________________________________________________________________________________________\n",
      "block10_sepconv1 (SeparableConv (None, 14, 14, 728)  536536      block10_sepconv1_act[0][0]       \n",
      "__________________________________________________________________________________________________\n",
      "block10_sepconv1_bn (BatchNorma (None, 14, 14, 728)  2912        block10_sepconv1[0][0]           \n",
      "__________________________________________________________________________________________________\n",
      "block10_sepconv2_act (Activatio (None, 14, 14, 728)  0           block10_sepconv1_bn[0][0]        \n",
      "__________________________________________________________________________________________________\n",
      "block10_sepconv2 (SeparableConv (None, 14, 14, 728)  536536      block10_sepconv2_act[0][0]       \n",
      "__________________________________________________________________________________________________\n",
      "block10_sepconv2_bn (BatchNorma (None, 14, 14, 728)  2912        block10_sepconv2[0][0]           \n",
      "__________________________________________________________________________________________________\n",
      "block10_sepconv3_act (Activatio (None, 14, 14, 728)  0           block10_sepconv2_bn[0][0]        \n",
      "__________________________________________________________________________________________________\n",
      "block10_sepconv3 (SeparableConv (None, 14, 14, 728)  536536      block10_sepconv3_act[0][0]       \n",
      "__________________________________________________________________________________________________\n",
      "block10_sepconv3_bn (BatchNorma (None, 14, 14, 728)  2912        block10_sepconv3[0][0]           \n",
      "__________________________________________________________________________________________________\n",
      "add_20 (Add)                    (None, 14, 14, 728)  0           block10_sepconv3_bn[0][0]        \n",
      "                                                                 add_19[0][0]                     \n",
      "__________________________________________________________________________________________________\n",
      "block11_sepconv1_act (Activatio (None, 14, 14, 728)  0           add_20[0][0]                     \n",
      "__________________________________________________________________________________________________\n",
      "block11_sepconv1 (SeparableConv (None, 14, 14, 728)  536536      block11_sepconv1_act[0][0]       \n",
      "__________________________________________________________________________________________________\n",
      "block11_sepconv1_bn (BatchNorma (None, 14, 14, 728)  2912        block11_sepconv1[0][0]           \n",
      "__________________________________________________________________________________________________\n",
      "block11_sepconv2_act (Activatio (None, 14, 14, 728)  0           block11_sepconv1_bn[0][0]        \n",
      "__________________________________________________________________________________________________\n",
      "block11_sepconv2 (SeparableConv (None, 14, 14, 728)  536536      block11_sepconv2_act[0][0]       \n",
      "__________________________________________________________________________________________________\n",
      "block11_sepconv2_bn (BatchNorma (None, 14, 14, 728)  2912        block11_sepconv2[0][0]           \n",
      "__________________________________________________________________________________________________\n",
      "block11_sepconv3_act (Activatio (None, 14, 14, 728)  0           block11_sepconv2_bn[0][0]        \n",
      "__________________________________________________________________________________________________\n",
      "block11_sepconv3 (SeparableConv (None, 14, 14, 728)  536536      block11_sepconv3_act[0][0]       \n",
      "__________________________________________________________________________________________________\n",
      "block11_sepconv3_bn (BatchNorma (None, 14, 14, 728)  2912        block11_sepconv3[0][0]           \n",
      "__________________________________________________________________________________________________\n",
      "add_21 (Add)                    (None, 14, 14, 728)  0           block11_sepconv3_bn[0][0]        \n",
      "                                                                 add_20[0][0]                     \n",
      "__________________________________________________________________________________________________\n",
      "block12_sepconv1_act (Activatio (None, 14, 14, 728)  0           add_21[0][0]                     \n",
      "__________________________________________________________________________________________________\n",
      "block12_sepconv1 (SeparableConv (None, 14, 14, 728)  536536      block12_sepconv1_act[0][0]       \n",
      "__________________________________________________________________________________________________\n",
      "block12_sepconv1_bn (BatchNorma (None, 14, 14, 728)  2912        block12_sepconv1[0][0]           \n",
      "__________________________________________________________________________________________________\n",
      "block12_sepconv2_act (Activatio (None, 14, 14, 728)  0           block12_sepconv1_bn[0][0]        \n",
      "__________________________________________________________________________________________________\n",
      "block12_sepconv2 (SeparableConv (None, 14, 14, 728)  536536      block12_sepconv2_act[0][0]       \n",
      "__________________________________________________________________________________________________\n",
      "block12_sepconv2_bn (BatchNorma (None, 14, 14, 728)  2912        block12_sepconv2[0][0]           \n",
      "__________________________________________________________________________________________________\n",
      "block12_sepconv3_act (Activatio (None, 14, 14, 728)  0           block12_sepconv2_bn[0][0]        \n",
      "__________________________________________________________________________________________________\n",
      "block12_sepconv3 (SeparableConv (None, 14, 14, 728)  536536      block12_sepconv3_act[0][0]       \n",
      "__________________________________________________________________________________________________\n",
      "block12_sepconv3_bn (BatchNorma (None, 14, 14, 728)  2912        block12_sepconv3[0][0]           \n",
      "__________________________________________________________________________________________________\n",
      "add_22 (Add)                    (None, 14, 14, 728)  0           block12_sepconv3_bn[0][0]        \n",
      "                                                                 add_21[0][0]                     \n",
      "__________________________________________________________________________________________________\n",
      "block13_sepconv1_act (Activatio (None, 14, 14, 728)  0           add_22[0][0]                     \n",
      "__________________________________________________________________________________________________\n",
      "block13_sepconv1 (SeparableConv (None, 14, 14, 728)  536536      block13_sepconv1_act[0][0]       \n",
      "__________________________________________________________________________________________________\n",
      "block13_sepconv1_bn (BatchNorma (None, 14, 14, 728)  2912        block13_sepconv1[0][0]           \n",
      "__________________________________________________________________________________________________\n",
      "block13_sepconv2_act (Activatio (None, 14, 14, 728)  0           block13_sepconv1_bn[0][0]        \n",
      "__________________________________________________________________________________________________\n",
      "block13_sepconv2 (SeparableConv (None, 14, 14, 1024) 752024      block13_sepconv2_act[0][0]       \n",
      "__________________________________________________________________________________________________\n",
      "block13_sepconv2_bn (BatchNorma (None, 14, 14, 1024) 4096        block13_sepconv2[0][0]           \n",
      "__________________________________________________________________________________________________\n",
      "conv2d_7 (Conv2D)               (None, 7, 7, 1024)   745472      add_22[0][0]                     \n",
      "__________________________________________________________________________________________________\n",
      "block13_pool (MaxPooling2D)     (None, 7, 7, 1024)   0           block13_sepconv2_bn[0][0]        \n",
      "__________________________________________________________________________________________________\n",
      "batch_normalization_7 (BatchNor (None, 7, 7, 1024)   4096        conv2d_7[0][0]                   \n",
      "__________________________________________________________________________________________________\n",
      "add_23 (Add)                    (None, 7, 7, 1024)   0           block13_pool[0][0]               \n",
      "                                                                 batch_normalization_7[0][0]      \n",
      "__________________________________________________________________________________________________\n",
      "block14_sepconv1 (SeparableConv (None, 7, 7, 1536)   1582080     add_23[0][0]                     \n",
      "__________________________________________________________________________________________________\n",
      "block14_sepconv1_bn (BatchNorma (None, 7, 7, 1536)   6144        block14_sepconv1[0][0]           \n",
      "__________________________________________________________________________________________________\n",
      "block14_sepconv1_act (Activatio (None, 7, 7, 1536)   0           block14_sepconv1_bn[0][0]        \n",
      "__________________________________________________________________________________________________\n",
      "block14_sepconv2 (SeparableConv (None, 7, 7, 2048)   3159552     block14_sepconv1_act[0][0]       \n",
      "__________________________________________________________________________________________________\n",
      "block14_sepconv2_bn (BatchNorma (None, 7, 7, 2048)   8192        block14_sepconv2[0][0]           \n",
      "__________________________________________________________________________________________________\n",
      "block14_sepconv2_act (Activatio (None, 7, 7, 2048)   0           block14_sepconv2_bn[0][0]        \n",
      "==================================================================================================\n",
      "Total params: 20,861,480\n",
      "Trainable params: 20,806,952\n",
      "Non-trainable params: 54,528\n",
      "__________________________________________________________________________________________________\n"
     ]
    }
   ],
   "source": [
    "xcep.summary()"
   ]
  },
  {
   "cell_type": "code",
   "execution_count": null,
   "metadata": {
    "id": "yJGFXt7vLOgo"
   },
   "outputs": [],
   "source": [
    "for layers in xcep.layers:\n",
    "  layers.trainable = False"
   ]
  },
  {
   "cell_type": "code",
   "execution_count": null,
   "metadata": {
    "id": "ohw5KLJNLkHy"
   },
   "outputs": [],
   "source": [
    "x = Flatten()(xcep.output)"
   ]
  },
  {
   "cell_type": "code",
   "execution_count": null,
   "metadata": {
    "id": "c6qvgVNcMAcQ"
   },
   "outputs": [],
   "source": []
  },
  {
   "cell_type": "code",
   "execution_count": null,
   "metadata": {
    "id": "S88biyTuLuYb"
   },
   "outputs": [],
   "source": [
    "prediction = Dense(2, activation = 'softmax')(x)\n"
   ]
  },
  {
   "cell_type": "code",
   "execution_count": null,
   "metadata": {
    "id": "q60SXEzfMCJS"
   },
   "outputs": [],
   "source": [
    "model = Model(inputs = xcep.input, outputs = prediction)"
   ]
  },
  {
   "cell_type": "code",
   "execution_count": null,
   "metadata": {
    "colab": {
     "base_uri": "https://localhost:8080/"
    },
    "id": "Df6-twMnMJpL",
    "outputId": "78704eea-5be5-497c-cb8e-385f16bae83d"
   },
   "outputs": [
    {
     "name": "stdout",
     "output_type": "stream",
     "text": [
      "Model: \"model_2\"\n",
      "__________________________________________________________________________________________________\n",
      "Layer (type)                    Output Shape         Param #     Connected to                     \n",
      "==================================================================================================\n",
      "input_4 (InputLayer)            [(None, 224, 224, 3) 0                                            \n",
      "__________________________________________________________________________________________________\n",
      "block1_conv1 (Conv2D)           (None, 111, 111, 32) 864         input_4[0][0]                    \n",
      "__________________________________________________________________________________________________\n",
      "block1_conv1_bn (BatchNormaliza (None, 111, 111, 32) 128         block1_conv1[0][0]               \n",
      "__________________________________________________________________________________________________\n",
      "block1_conv1_act (Activation)   (None, 111, 111, 32) 0           block1_conv1_bn[0][0]            \n",
      "__________________________________________________________________________________________________\n",
      "block1_conv2 (Conv2D)           (None, 109, 109, 64) 18432       block1_conv1_act[0][0]           \n",
      "__________________________________________________________________________________________________\n",
      "block1_conv2_bn (BatchNormaliza (None, 109, 109, 64) 256         block1_conv2[0][0]               \n",
      "__________________________________________________________________________________________________\n",
      "block1_conv2_act (Activation)   (None, 109, 109, 64) 0           block1_conv2_bn[0][0]            \n",
      "__________________________________________________________________________________________________\n",
      "block2_sepconv1 (SeparableConv2 (None, 109, 109, 128 8768        block1_conv2_act[0][0]           \n",
      "__________________________________________________________________________________________________\n",
      "block2_sepconv1_bn (BatchNormal (None, 109, 109, 128 512         block2_sepconv1[0][0]            \n",
      "__________________________________________________________________________________________________\n",
      "block2_sepconv2_act (Activation (None, 109, 109, 128 0           block2_sepconv1_bn[0][0]         \n",
      "__________________________________________________________________________________________________\n",
      "block2_sepconv2 (SeparableConv2 (None, 109, 109, 128 17536       block2_sepconv2_act[0][0]        \n",
      "__________________________________________________________________________________________________\n",
      "block2_sepconv2_bn (BatchNormal (None, 109, 109, 128 512         block2_sepconv2[0][0]            \n",
      "__________________________________________________________________________________________________\n",
      "conv2d_12 (Conv2D)              (None, 55, 55, 128)  8192        block1_conv2_act[0][0]           \n",
      "__________________________________________________________________________________________________\n",
      "block2_pool (MaxPooling2D)      (None, 55, 55, 128)  0           block2_sepconv2_bn[0][0]         \n",
      "__________________________________________________________________________________________________\n",
      "batch_normalization_12 (BatchNo (None, 55, 55, 128)  512         conv2d_12[0][0]                  \n",
      "__________________________________________________________________________________________________\n",
      "add_36 (Add)                    (None, 55, 55, 128)  0           block2_pool[0][0]                \n",
      "                                                                 batch_normalization_12[0][0]     \n",
      "__________________________________________________________________________________________________\n",
      "block3_sepconv1_act (Activation (None, 55, 55, 128)  0           add_36[0][0]                     \n",
      "__________________________________________________________________________________________________\n",
      "block3_sepconv1 (SeparableConv2 (None, 55, 55, 256)  33920       block3_sepconv1_act[0][0]        \n",
      "__________________________________________________________________________________________________\n",
      "block3_sepconv1_bn (BatchNormal (None, 55, 55, 256)  1024        block3_sepconv1[0][0]            \n",
      "__________________________________________________________________________________________________\n",
      "block3_sepconv2_act (Activation (None, 55, 55, 256)  0           block3_sepconv1_bn[0][0]         \n",
      "__________________________________________________________________________________________________\n",
      "block3_sepconv2 (SeparableConv2 (None, 55, 55, 256)  67840       block3_sepconv2_act[0][0]        \n",
      "__________________________________________________________________________________________________\n",
      "block3_sepconv2_bn (BatchNormal (None, 55, 55, 256)  1024        block3_sepconv2[0][0]            \n",
      "__________________________________________________________________________________________________\n",
      "conv2d_13 (Conv2D)              (None, 28, 28, 256)  32768       add_36[0][0]                     \n",
      "__________________________________________________________________________________________________\n",
      "block3_pool (MaxPooling2D)      (None, 28, 28, 256)  0           block3_sepconv2_bn[0][0]         \n",
      "__________________________________________________________________________________________________\n",
      "batch_normalization_13 (BatchNo (None, 28, 28, 256)  1024        conv2d_13[0][0]                  \n",
      "__________________________________________________________________________________________________\n",
      "add_37 (Add)                    (None, 28, 28, 256)  0           block3_pool[0][0]                \n",
      "                                                                 batch_normalization_13[0][0]     \n",
      "__________________________________________________________________________________________________\n",
      "block4_sepconv1_act (Activation (None, 28, 28, 256)  0           add_37[0][0]                     \n",
      "__________________________________________________________________________________________________\n",
      "block4_sepconv1 (SeparableConv2 (None, 28, 28, 728)  188672      block4_sepconv1_act[0][0]        \n",
      "__________________________________________________________________________________________________\n",
      "block4_sepconv1_bn (BatchNormal (None, 28, 28, 728)  2912        block4_sepconv1[0][0]            \n",
      "__________________________________________________________________________________________________\n",
      "block4_sepconv2_act (Activation (None, 28, 28, 728)  0           block4_sepconv1_bn[0][0]         \n",
      "__________________________________________________________________________________________________\n",
      "block4_sepconv2 (SeparableConv2 (None, 28, 28, 728)  536536      block4_sepconv2_act[0][0]        \n",
      "__________________________________________________________________________________________________\n",
      "block4_sepconv2_bn (BatchNormal (None, 28, 28, 728)  2912        block4_sepconv2[0][0]            \n",
      "__________________________________________________________________________________________________\n",
      "conv2d_14 (Conv2D)              (None, 14, 14, 728)  186368      add_37[0][0]                     \n",
      "__________________________________________________________________________________________________\n",
      "block4_pool (MaxPooling2D)      (None, 14, 14, 728)  0           block4_sepconv2_bn[0][0]         \n",
      "__________________________________________________________________________________________________\n",
      "batch_normalization_14 (BatchNo (None, 14, 14, 728)  2912        conv2d_14[0][0]                  \n",
      "__________________________________________________________________________________________________\n",
      "add_38 (Add)                    (None, 14, 14, 728)  0           block4_pool[0][0]                \n",
      "                                                                 batch_normalization_14[0][0]     \n",
      "__________________________________________________________________________________________________\n",
      "block5_sepconv1_act (Activation (None, 14, 14, 728)  0           add_38[0][0]                     \n",
      "__________________________________________________________________________________________________\n",
      "block5_sepconv1 (SeparableConv2 (None, 14, 14, 728)  536536      block5_sepconv1_act[0][0]        \n",
      "__________________________________________________________________________________________________\n",
      "block5_sepconv1_bn (BatchNormal (None, 14, 14, 728)  2912        block5_sepconv1[0][0]            \n",
      "__________________________________________________________________________________________________\n",
      "block5_sepconv2_act (Activation (None, 14, 14, 728)  0           block5_sepconv1_bn[0][0]         \n",
      "__________________________________________________________________________________________________\n",
      "block5_sepconv2 (SeparableConv2 (None, 14, 14, 728)  536536      block5_sepconv2_act[0][0]        \n",
      "__________________________________________________________________________________________________\n",
      "block5_sepconv2_bn (BatchNormal (None, 14, 14, 728)  2912        block5_sepconv2[0][0]            \n",
      "__________________________________________________________________________________________________\n",
      "block5_sepconv3_act (Activation (None, 14, 14, 728)  0           block5_sepconv2_bn[0][0]         \n",
      "__________________________________________________________________________________________________\n",
      "block5_sepconv3 (SeparableConv2 (None, 14, 14, 728)  536536      block5_sepconv3_act[0][0]        \n",
      "__________________________________________________________________________________________________\n",
      "block5_sepconv3_bn (BatchNormal (None, 14, 14, 728)  2912        block5_sepconv3[0][0]            \n",
      "__________________________________________________________________________________________________\n",
      "add_39 (Add)                    (None, 14, 14, 728)  0           block5_sepconv3_bn[0][0]         \n",
      "                                                                 add_38[0][0]                     \n",
      "__________________________________________________________________________________________________\n",
      "block6_sepconv1_act (Activation (None, 14, 14, 728)  0           add_39[0][0]                     \n",
      "__________________________________________________________________________________________________\n",
      "block6_sepconv1 (SeparableConv2 (None, 14, 14, 728)  536536      block6_sepconv1_act[0][0]        \n",
      "__________________________________________________________________________________________________\n",
      "block6_sepconv1_bn (BatchNormal (None, 14, 14, 728)  2912        block6_sepconv1[0][0]            \n",
      "__________________________________________________________________________________________________\n",
      "block6_sepconv2_act (Activation (None, 14, 14, 728)  0           block6_sepconv1_bn[0][0]         \n",
      "__________________________________________________________________________________________________\n",
      "block6_sepconv2 (SeparableConv2 (None, 14, 14, 728)  536536      block6_sepconv2_act[0][0]        \n",
      "__________________________________________________________________________________________________\n",
      "block6_sepconv2_bn (BatchNormal (None, 14, 14, 728)  2912        block6_sepconv2[0][0]            \n",
      "__________________________________________________________________________________________________\n",
      "block6_sepconv3_act (Activation (None, 14, 14, 728)  0           block6_sepconv2_bn[0][0]         \n",
      "__________________________________________________________________________________________________\n",
      "block6_sepconv3 (SeparableConv2 (None, 14, 14, 728)  536536      block6_sepconv3_act[0][0]        \n",
      "__________________________________________________________________________________________________\n",
      "block6_sepconv3_bn (BatchNormal (None, 14, 14, 728)  2912        block6_sepconv3[0][0]            \n",
      "__________________________________________________________________________________________________\n",
      "add_40 (Add)                    (None, 14, 14, 728)  0           block6_sepconv3_bn[0][0]         \n",
      "                                                                 add_39[0][0]                     \n",
      "__________________________________________________________________________________________________\n",
      "block7_sepconv1_act (Activation (None, 14, 14, 728)  0           add_40[0][0]                     \n",
      "__________________________________________________________________________________________________\n",
      "block7_sepconv1 (SeparableConv2 (None, 14, 14, 728)  536536      block7_sepconv1_act[0][0]        \n",
      "__________________________________________________________________________________________________\n",
      "block7_sepconv1_bn (BatchNormal (None, 14, 14, 728)  2912        block7_sepconv1[0][0]            \n",
      "__________________________________________________________________________________________________\n",
      "block7_sepconv2_act (Activation (None, 14, 14, 728)  0           block7_sepconv1_bn[0][0]         \n",
      "__________________________________________________________________________________________________\n",
      "block7_sepconv2 (SeparableConv2 (None, 14, 14, 728)  536536      block7_sepconv2_act[0][0]        \n",
      "__________________________________________________________________________________________________\n",
      "block7_sepconv2_bn (BatchNormal (None, 14, 14, 728)  2912        block7_sepconv2[0][0]            \n",
      "__________________________________________________________________________________________________\n",
      "block7_sepconv3_act (Activation (None, 14, 14, 728)  0           block7_sepconv2_bn[0][0]         \n",
      "__________________________________________________________________________________________________\n",
      "block7_sepconv3 (SeparableConv2 (None, 14, 14, 728)  536536      block7_sepconv3_act[0][0]        \n",
      "__________________________________________________________________________________________________\n",
      "block7_sepconv3_bn (BatchNormal (None, 14, 14, 728)  2912        block7_sepconv3[0][0]            \n",
      "__________________________________________________________________________________________________\n",
      "add_41 (Add)                    (None, 14, 14, 728)  0           block7_sepconv3_bn[0][0]         \n",
      "                                                                 add_40[0][0]                     \n",
      "__________________________________________________________________________________________________\n",
      "block8_sepconv1_act (Activation (None, 14, 14, 728)  0           add_41[0][0]                     \n",
      "__________________________________________________________________________________________________\n",
      "block8_sepconv1 (SeparableConv2 (None, 14, 14, 728)  536536      block8_sepconv1_act[0][0]        \n",
      "__________________________________________________________________________________________________\n",
      "block8_sepconv1_bn (BatchNormal (None, 14, 14, 728)  2912        block8_sepconv1[0][0]            \n",
      "__________________________________________________________________________________________________\n",
      "block8_sepconv2_act (Activation (None, 14, 14, 728)  0           block8_sepconv1_bn[0][0]         \n",
      "__________________________________________________________________________________________________\n",
      "block8_sepconv2 (SeparableConv2 (None, 14, 14, 728)  536536      block8_sepconv2_act[0][0]        \n",
      "__________________________________________________________________________________________________\n",
      "block8_sepconv2_bn (BatchNormal (None, 14, 14, 728)  2912        block8_sepconv2[0][0]            \n",
      "__________________________________________________________________________________________________\n",
      "block8_sepconv3_act (Activation (None, 14, 14, 728)  0           block8_sepconv2_bn[0][0]         \n",
      "__________________________________________________________________________________________________\n",
      "block8_sepconv3 (SeparableConv2 (None, 14, 14, 728)  536536      block8_sepconv3_act[0][0]        \n",
      "__________________________________________________________________________________________________\n",
      "block8_sepconv3_bn (BatchNormal (None, 14, 14, 728)  2912        block8_sepconv3[0][0]            \n",
      "__________________________________________________________________________________________________\n",
      "add_42 (Add)                    (None, 14, 14, 728)  0           block8_sepconv3_bn[0][0]         \n",
      "                                                                 add_41[0][0]                     \n",
      "__________________________________________________________________________________________________\n",
      "block9_sepconv1_act (Activation (None, 14, 14, 728)  0           add_42[0][0]                     \n",
      "__________________________________________________________________________________________________\n",
      "block9_sepconv1 (SeparableConv2 (None, 14, 14, 728)  536536      block9_sepconv1_act[0][0]        \n",
      "__________________________________________________________________________________________________\n",
      "block9_sepconv1_bn (BatchNormal (None, 14, 14, 728)  2912        block9_sepconv1[0][0]            \n",
      "__________________________________________________________________________________________________\n",
      "block9_sepconv2_act (Activation (None, 14, 14, 728)  0           block9_sepconv1_bn[0][0]         \n",
      "__________________________________________________________________________________________________\n",
      "block9_sepconv2 (SeparableConv2 (None, 14, 14, 728)  536536      block9_sepconv2_act[0][0]        \n",
      "__________________________________________________________________________________________________\n",
      "block9_sepconv2_bn (BatchNormal (None, 14, 14, 728)  2912        block9_sepconv2[0][0]            \n",
      "__________________________________________________________________________________________________\n",
      "block9_sepconv3_act (Activation (None, 14, 14, 728)  0           block9_sepconv2_bn[0][0]         \n",
      "__________________________________________________________________________________________________\n",
      "block9_sepconv3 (SeparableConv2 (None, 14, 14, 728)  536536      block9_sepconv3_act[0][0]        \n",
      "__________________________________________________________________________________________________\n",
      "block9_sepconv3_bn (BatchNormal (None, 14, 14, 728)  2912        block9_sepconv3[0][0]            \n",
      "__________________________________________________________________________________________________\n",
      "add_43 (Add)                    (None, 14, 14, 728)  0           block9_sepconv3_bn[0][0]         \n",
      "                                                                 add_42[0][0]                     \n",
      "__________________________________________________________________________________________________\n",
      "block10_sepconv1_act (Activatio (None, 14, 14, 728)  0           add_43[0][0]                     \n",
      "__________________________________________________________________________________________________\n",
      "block10_sepconv1 (SeparableConv (None, 14, 14, 728)  536536      block10_sepconv1_act[0][0]       \n",
      "__________________________________________________________________________________________________\n",
      "block10_sepconv1_bn (BatchNorma (None, 14, 14, 728)  2912        block10_sepconv1[0][0]           \n",
      "__________________________________________________________________________________________________\n",
      "block10_sepconv2_act (Activatio (None, 14, 14, 728)  0           block10_sepconv1_bn[0][0]        \n",
      "__________________________________________________________________________________________________\n",
      "block10_sepconv2 (SeparableConv (None, 14, 14, 728)  536536      block10_sepconv2_act[0][0]       \n",
      "__________________________________________________________________________________________________\n",
      "block10_sepconv2_bn (BatchNorma (None, 14, 14, 728)  2912        block10_sepconv2[0][0]           \n",
      "__________________________________________________________________________________________________\n",
      "block10_sepconv3_act (Activatio (None, 14, 14, 728)  0           block10_sepconv2_bn[0][0]        \n",
      "__________________________________________________________________________________________________\n",
      "block10_sepconv3 (SeparableConv (None, 14, 14, 728)  536536      block10_sepconv3_act[0][0]       \n",
      "__________________________________________________________________________________________________\n",
      "block10_sepconv3_bn (BatchNorma (None, 14, 14, 728)  2912        block10_sepconv3[0][0]           \n",
      "__________________________________________________________________________________________________\n",
      "add_44 (Add)                    (None, 14, 14, 728)  0           block10_sepconv3_bn[0][0]        \n",
      "                                                                 add_43[0][0]                     \n",
      "__________________________________________________________________________________________________\n",
      "block11_sepconv1_act (Activatio (None, 14, 14, 728)  0           add_44[0][0]                     \n",
      "__________________________________________________________________________________________________\n",
      "block11_sepconv1 (SeparableConv (None, 14, 14, 728)  536536      block11_sepconv1_act[0][0]       \n",
      "__________________________________________________________________________________________________\n",
      "block11_sepconv1_bn (BatchNorma (None, 14, 14, 728)  2912        block11_sepconv1[0][0]           \n",
      "__________________________________________________________________________________________________\n",
      "block11_sepconv2_act (Activatio (None, 14, 14, 728)  0           block11_sepconv1_bn[0][0]        \n",
      "__________________________________________________________________________________________________\n",
      "block11_sepconv2 (SeparableConv (None, 14, 14, 728)  536536      block11_sepconv2_act[0][0]       \n",
      "__________________________________________________________________________________________________\n",
      "block11_sepconv2_bn (BatchNorma (None, 14, 14, 728)  2912        block11_sepconv2[0][0]           \n",
      "__________________________________________________________________________________________________\n",
      "block11_sepconv3_act (Activatio (None, 14, 14, 728)  0           block11_sepconv2_bn[0][0]        \n",
      "__________________________________________________________________________________________________\n",
      "block11_sepconv3 (SeparableConv (None, 14, 14, 728)  536536      block11_sepconv3_act[0][0]       \n",
      "__________________________________________________________________________________________________\n",
      "block11_sepconv3_bn (BatchNorma (None, 14, 14, 728)  2912        block11_sepconv3[0][0]           \n",
      "__________________________________________________________________________________________________\n",
      "add_45 (Add)                    (None, 14, 14, 728)  0           block11_sepconv3_bn[0][0]        \n",
      "                                                                 add_44[0][0]                     \n",
      "__________________________________________________________________________________________________\n",
      "block12_sepconv1_act (Activatio (None, 14, 14, 728)  0           add_45[0][0]                     \n",
      "__________________________________________________________________________________________________\n",
      "block12_sepconv1 (SeparableConv (None, 14, 14, 728)  536536      block12_sepconv1_act[0][0]       \n",
      "__________________________________________________________________________________________________\n",
      "block12_sepconv1_bn (BatchNorma (None, 14, 14, 728)  2912        block12_sepconv1[0][0]           \n",
      "__________________________________________________________________________________________________\n",
      "block12_sepconv2_act (Activatio (None, 14, 14, 728)  0           block12_sepconv1_bn[0][0]        \n",
      "__________________________________________________________________________________________________\n",
      "block12_sepconv2 (SeparableConv (None, 14, 14, 728)  536536      block12_sepconv2_act[0][0]       \n",
      "__________________________________________________________________________________________________\n",
      "block12_sepconv2_bn (BatchNorma (None, 14, 14, 728)  2912        block12_sepconv2[0][0]           \n",
      "__________________________________________________________________________________________________\n",
      "block12_sepconv3_act (Activatio (None, 14, 14, 728)  0           block12_sepconv2_bn[0][0]        \n",
      "__________________________________________________________________________________________________\n",
      "block12_sepconv3 (SeparableConv (None, 14, 14, 728)  536536      block12_sepconv3_act[0][0]       \n",
      "__________________________________________________________________________________________________\n",
      "block12_sepconv3_bn (BatchNorma (None, 14, 14, 728)  2912        block12_sepconv3[0][0]           \n",
      "__________________________________________________________________________________________________\n",
      "add_46 (Add)                    (None, 14, 14, 728)  0           block12_sepconv3_bn[0][0]        \n",
      "                                                                 add_45[0][0]                     \n",
      "__________________________________________________________________________________________________\n",
      "block13_sepconv1_act (Activatio (None, 14, 14, 728)  0           add_46[0][0]                     \n",
      "__________________________________________________________________________________________________\n",
      "block13_sepconv1 (SeparableConv (None, 14, 14, 728)  536536      block13_sepconv1_act[0][0]       \n",
      "__________________________________________________________________________________________________\n",
      "block13_sepconv1_bn (BatchNorma (None, 14, 14, 728)  2912        block13_sepconv1[0][0]           \n",
      "__________________________________________________________________________________________________\n",
      "block13_sepconv2_act (Activatio (None, 14, 14, 728)  0           block13_sepconv1_bn[0][0]        \n",
      "__________________________________________________________________________________________________\n",
      "block13_sepconv2 (SeparableConv (None, 14, 14, 1024) 752024      block13_sepconv2_act[0][0]       \n",
      "__________________________________________________________________________________________________\n",
      "block13_sepconv2_bn (BatchNorma (None, 14, 14, 1024) 4096        block13_sepconv2[0][0]           \n",
      "__________________________________________________________________________________________________\n",
      "conv2d_15 (Conv2D)              (None, 7, 7, 1024)   745472      add_46[0][0]                     \n",
      "__________________________________________________________________________________________________\n",
      "block13_pool (MaxPooling2D)     (None, 7, 7, 1024)   0           block13_sepconv2_bn[0][0]        \n",
      "__________________________________________________________________________________________________\n",
      "batch_normalization_15 (BatchNo (None, 7, 7, 1024)   4096        conv2d_15[0][0]                  \n",
      "__________________________________________________________________________________________________\n",
      "add_47 (Add)                    (None, 7, 7, 1024)   0           block13_pool[0][0]               \n",
      "                                                                 batch_normalization_15[0][0]     \n",
      "__________________________________________________________________________________________________\n",
      "block14_sepconv1 (SeparableConv (None, 7, 7, 1536)   1582080     add_47[0][0]                     \n",
      "__________________________________________________________________________________________________\n",
      "block14_sepconv1_bn (BatchNorma (None, 7, 7, 1536)   6144        block14_sepconv1[0][0]           \n",
      "__________________________________________________________________________________________________\n",
      "block14_sepconv1_act (Activatio (None, 7, 7, 1536)   0           block14_sepconv1_bn[0][0]        \n",
      "__________________________________________________________________________________________________\n",
      "block14_sepconv2 (SeparableConv (None, 7, 7, 2048)   3159552     block14_sepconv1_act[0][0]       \n",
      "__________________________________________________________________________________________________\n",
      "block14_sepconv2_bn (BatchNorma (None, 7, 7, 2048)   8192        block14_sepconv2[0][0]           \n",
      "__________________________________________________________________________________________________\n",
      "block14_sepconv2_act (Activatio (None, 7, 7, 2048)   0           block14_sepconv2_bn[0][0]        \n",
      "__________________________________________________________________________________________________\n",
      "flatten_2 (Flatten)             (None, 100352)       0           block14_sepconv2_act[0][0]       \n",
      "__________________________________________________________________________________________________\n",
      "dense_3 (Dense)                 (None, 128)          12845184    flatten_2[0][0]                  \n",
      "__________________________________________________________________________________________________\n",
      "dropout (Dropout)               (None, 128)          0           dense_3[0][0]                    \n",
      "__________________________________________________________________________________________________\n",
      "dense_4 (Dense)                 (None, 2)            258         dropout[0][0]                    \n",
      "==================================================================================================\n",
      "Total params: 33,706,922\n",
      "Trainable params: 12,845,442\n",
      "Non-trainable params: 20,861,480\n",
      "__________________________________________________________________________________________________\n"
     ]
    }
   ],
   "source": [
    "model.summary()"
   ]
  },
  {
   "cell_type": "code",
   "execution_count": null,
   "metadata": {
    "colab": {
     "base_uri": "https://localhost:8080/"
    },
    "id": "kxJI4yDxNIqB",
    "outputId": "750f573b-5aeb-4310-9079-025cf58dc0ff"
   },
   "outputs": [
    {
     "name": "stderr",
     "output_type": "stream",
     "text": [
      "/usr/local/lib/python3.7/dist-packages/tensorflow/python/keras/optimizer_v2/optimizer_v2.py:375: UserWarning: The `lr` argument is deprecated, use `learning_rate` instead.\n",
      "  \"The `lr` argument is deprecated, use `learning_rate` instead.\")\n"
     ]
    }
   ],
   "source": [
    " model.compile(optimizer=optimizers.Adam(lr=0.001), loss='categorical_crossentropy',metrics=['accuracy'])"
   ]
  },
  {
   "cell_type": "code",
   "execution_count": null,
   "metadata": {
    "colab": {
     "base_uri": "https://localhost:8080/"
    },
    "id": "xo-v8LHaMiyK",
    "outputId": "333a2d8c-8871-4b02-bc62-29352b04184e"
   },
   "outputs": [
    {
     "name": "stdout",
     "output_type": "stream",
     "text": [
      "Epoch 1/100\n",
      "14/14 [==============================] - 9s 470ms/step - loss: 0.9398 - accuracy: 0.8641 - val_loss: 0.6359 - val_accuracy: 0.9254\n",
      "Epoch 2/100\n",
      "14/14 [==============================] - 6s 422ms/step - loss: 0.7850 - accuracy: 0.9078 - val_loss: 0.6969 - val_accuracy: 0.9328\n",
      "Epoch 3/100\n",
      "14/14 [==============================] - 6s 438ms/step - loss: 0.6351 - accuracy: 0.9378 - val_loss: 0.4768 - val_accuracy: 0.9478\n",
      "Epoch 4/100\n",
      "14/14 [==============================] - 6s 418ms/step - loss: 0.2537 - accuracy: 0.9654 - val_loss: 0.3768 - val_accuracy: 0.9403\n",
      "Epoch 5/100\n",
      "14/14 [==============================] - 6s 415ms/step - loss: 0.1733 - accuracy: 0.9724 - val_loss: 0.1940 - val_accuracy: 0.9478\n",
      "Epoch 6/100\n",
      "14/14 [==============================] - 6s 421ms/step - loss: 0.1326 - accuracy: 0.9747 - val_loss: 0.2609 - val_accuracy: 0.9254\n",
      "Epoch 7/100\n",
      "14/14 [==============================] - 6s 418ms/step - loss: 0.1745 - accuracy: 0.9677 - val_loss: 0.0981 - val_accuracy: 0.9776\n",
      "Epoch 8/100\n",
      "14/14 [==============================] - 6s 419ms/step - loss: 0.2722 - accuracy: 0.9585 - val_loss: 0.2756 - val_accuracy: 0.9254\n",
      "Epoch 9/100\n",
      "14/14 [==============================] - 6s 418ms/step - loss: 0.1092 - accuracy: 0.9747 - val_loss: 0.1131 - val_accuracy: 0.9776\n",
      "Epoch 10/100\n",
      "14/14 [==============================] - 6s 414ms/step - loss: 0.1957 - accuracy: 0.9747 - val_loss: 0.1459 - val_accuracy: 0.9776\n",
      "Epoch 11/100\n",
      "14/14 [==============================] - 6s 417ms/step - loss: 0.0587 - accuracy: 0.9839 - val_loss: 0.5554 - val_accuracy: 0.9478\n",
      "Epoch 12/100\n",
      "14/14 [==============================] - 6s 419ms/step - loss: 0.0975 - accuracy: 0.9793 - val_loss: 0.4586 - val_accuracy: 0.9552\n",
      "Epoch 13/100\n",
      "14/14 [==============================] - 6s 419ms/step - loss: 0.1623 - accuracy: 0.9839 - val_loss: 0.1061 - val_accuracy: 0.9776\n",
      "Epoch 14/100\n",
      "14/14 [==============================] - 6s 419ms/step - loss: 0.0795 - accuracy: 0.9839 - val_loss: 0.1467 - val_accuracy: 0.9627\n",
      "Epoch 15/100\n",
      "14/14 [==============================] - 6s 418ms/step - loss: 0.0471 - accuracy: 0.9908 - val_loss: 0.1514 - val_accuracy: 0.9552\n",
      "Epoch 16/100\n",
      "14/14 [==============================] - 6s 416ms/step - loss: 0.0413 - accuracy: 0.9839 - val_loss: 0.1169 - val_accuracy: 0.9701\n",
      "Epoch 17/100\n",
      "14/14 [==============================] - 6s 418ms/step - loss: 0.1190 - accuracy: 0.9747 - val_loss: 0.0509 - val_accuracy: 0.9925\n",
      "Epoch 18/100\n",
      "14/14 [==============================] - 6s 419ms/step - loss: 0.2252 - accuracy: 0.9631 - val_loss: 0.1560 - val_accuracy: 0.9701\n",
      "Epoch 19/100\n",
      "14/14 [==============================] - 6s 416ms/step - loss: 0.0584 - accuracy: 0.9908 - val_loss: 0.5378 - val_accuracy: 0.9627\n",
      "Epoch 20/100\n",
      "14/14 [==============================] - 6s 423ms/step - loss: 0.1504 - accuracy: 0.9724 - val_loss: 0.2385 - val_accuracy: 0.9478\n",
      "Epoch 21/100\n",
      "14/14 [==============================] - 6s 416ms/step - loss: 0.0916 - accuracy: 0.9793 - val_loss: 0.1640 - val_accuracy: 0.9552\n",
      "Epoch 22/100\n",
      "14/14 [==============================] - 6s 415ms/step - loss: 0.0786 - accuracy: 0.9839 - val_loss: 0.6405 - val_accuracy: 0.9627\n",
      "Epoch 23/100\n",
      "14/14 [==============================] - 6s 421ms/step - loss: 0.1674 - accuracy: 0.9747 - val_loss: 0.6970 - val_accuracy: 0.9552\n",
      "Epoch 24/100\n",
      "14/14 [==============================] - 6s 421ms/step - loss: 0.1953 - accuracy: 0.9816 - val_loss: 0.4202 - val_accuracy: 0.9552\n",
      "Epoch 25/100\n",
      "14/14 [==============================] - 6s 419ms/step - loss: 0.0725 - accuracy: 0.9908 - val_loss: 0.3222 - val_accuracy: 0.9478\n",
      "Epoch 26/100\n",
      "14/14 [==============================] - 6s 420ms/step - loss: 0.1050 - accuracy: 0.9839 - val_loss: 0.2521 - val_accuracy: 0.9627\n",
      "Epoch 27/100\n",
      "14/14 [==============================] - 6s 422ms/step - loss: 0.0434 - accuracy: 0.9931 - val_loss: 0.2224 - val_accuracy: 0.9701\n"
     ]
    },
    {
     "data": {
      "text/plain": [
       "<tensorflow.python.keras.callbacks.History at 0x7f8d6d007fd0>"
      ]
     },
     "execution_count": 66,
     "metadata": {
      "tags": []
     },
     "output_type": "execute_result"
    }
   ],
   "source": [
    "model.fit(training_set, validation_data=test_set, epochs=100, callbacks=[early_stop])"
   ]
  },
  {
   "cell_type": "code",
   "execution_count": null,
   "metadata": {
    "id": "UMZ18AZAM-1S"
   },
   "outputs": [],
   "source": [
    "loss =  pd.DataFrame(model.history.history)"
   ]
  },
  {
   "cell_type": "code",
   "execution_count": null,
   "metadata": {
    "colab": {
     "base_uri": "https://localhost:8080/",
     "height": 282
    },
    "id": "vCIBqaNKP_M7",
    "outputId": "f50b7c06-4f0f-4f7c-c73f-adea58e4eb7d"
   },
   "outputs": [
    {
     "data": {
      "text/plain": [
       "<matplotlib.axes._subplots.AxesSubplot at 0x7f8afa47ae90>"
      ]
     },
     "execution_count": 68,
     "metadata": {
      "tags": []
     },
     "output_type": "execute_result"
    },
    {
     "data": {
      "image/png": "[encoded data removed]",
      "text/plain": [
       "<Figure size 432x288 with 1 Axes>"
      ]
     },
     "metadata": {
      "needs_background": "light",
      "tags": []
     },
     "output_type": "display_data"
    }
   ],
   "source": [
    "loss[['accuracy', 'val_accuracy']].plot()"
   ]
  },
  {
   "cell_type": "code",
   "execution_count": null,
   "metadata": {
    "colab": {
     "base_uri": "https://localhost:8080/",
     "height": 282
    },
    "id": "7cuGMIl7Qv9K",
    "outputId": "15a82cd8-edf0-4510-8270-6fc6598359d9"
   },
   "outputs": [
    {
     "data": {
      "text/plain": [
       "<matplotlib.axes._subplots.AxesSubplot at 0x7f8af93d7990>"
      ]
     },
     "execution_count": 69,
     "metadata": {
      "tags": []
     },
     "output_type": "execute_result"
    },
    {
     "data": {
      "image/png": "[encoded data removed]",
      "text/plain": [
       "<Figure size 432x288 with 1 Axes>"
      ]
     },
     "metadata": {
      "needs_background": "light",
      "tags": []
     },
     "output_type": "display_data"
    }
   ],
   "source": [
    "loss[['loss', 'val_loss']].plot()"
   ]
  },
  {
   "cell_type": "code",
   "execution_count": null,
   "metadata": {
    "id": "lpgrT6TPQ6-a"
   },
   "outputs": [],
   "source": [
    "test_pred = model.predict(test_set)"
   ]
  },
  {
   "cell_type": "code",
   "execution_count": null,
   "metadata": {
    "colab": {
     "base_uri": "https://localhost:8080/"
    },
    "id": "PnBR_WGdSPiO",
    "outputId": "a14f0683-6d8d-4261-94ab-56cc22a33d77"
   },
   "outputs": [
    {
     "data": {
      "text/plain": [
       "array([[1.00000000e+00, 3.81280632e-19],\n",
       "       [1.00000000e+00, 1.41600122e-20],\n",
       "       [1.00000000e+00, 8.32457381e-10],\n",
       "       [1.00000000e+00, 2.66924735e-37],\n",
       "       [1.00000000e+00, 0.00000000e+00],\n",
       "       [2.40541434e-18, 1.00000000e+00],\n",
       "       [1.00000000e+00, 0.00000000e+00],\n",
       "       [1.51408251e-16, 1.00000000e+00],\n",
       "       [1.00000000e+00, 5.38890243e-37],\n",
       "       [1.00000000e+00, 0.00000000e+00],\n",
       "       [1.00000000e+00, 0.00000000e+00],\n",
       "       [1.00000000e+00, 6.58295022e-23],\n",
       "       [1.93902142e-02, 9.80609834e-01],\n",
       "       [1.00000000e+00, 2.47203400e-29],\n",
       "       [1.00000000e+00, 1.01498828e-23],\n",
       "       [1.00000000e+00, 9.42234924e-29],\n",
       "       [1.00000000e+00, 0.00000000e+00],\n",
       "       [1.00000000e+00, 0.00000000e+00],\n",
       "       [9.99764383e-01, 2.35589119e-04],\n",
       "       [1.00000000e+00, 2.12353483e-23],\n",
       "       [5.54726783e-13, 1.00000000e+00],\n",
       "       [8.63247915e-05, 9.99913692e-01],\n",
       "       [4.13049719e-07, 9.99999642e-01],\n",
       "       [1.00000000e+00, 1.92651050e-26],\n",
       "       [4.88975006e-11, 1.00000000e+00],\n",
       "       [1.00000000e+00, 0.00000000e+00],\n",
       "       [1.00000000e+00, 0.00000000e+00],\n",
       "       [1.00000000e+00, 1.13354902e-10],\n",
       "       [1.00000000e+00, 1.27298117e-34],\n",
       "       [1.00000000e+00, 2.02038682e-15],\n",
       "       [1.00000000e+00, 5.39348299e-09],\n",
       "       [1.00000000e+00, 2.40613922e-33],\n",
       "       [1.00000000e+00, 4.43822562e-20],\n",
       "       [1.00000000e+00, 7.29061422e-37],\n",
       "       [1.00000000e+00, 0.00000000e+00],\n",
       "       [4.48173603e-17, 1.00000000e+00],\n",
       "       [2.09659338e-05, 9.99979019e-01],\n",
       "       [1.00000000e+00, 0.00000000e+00],\n",
       "       [1.00000000e+00, 0.00000000e+00],\n",
       "       [9.31056023e-01, 6.89439774e-02],\n",
       "       [1.00000000e+00, 3.42797314e-20],\n",
       "       [1.00000000e+00, 4.72288375e-34],\n",
       "       [1.00000000e+00, 3.00423100e-37],\n",
       "       [1.00000000e+00, 0.00000000e+00],\n",
       "       [1.00000000e+00, 2.24183554e-11],\n",
       "       [1.00000000e+00, 0.00000000e+00],\n",
       "       [1.00000000e+00, 0.00000000e+00],\n",
       "       [4.95655898e-15, 1.00000000e+00],\n",
       "       [4.36503544e-09, 1.00000000e+00],\n",
       "       [1.00000000e+00, 9.13674455e-28],\n",
       "       [1.00000000e+00, 0.00000000e+00],\n",
       "       [3.46324377e-05, 9.99965310e-01],\n",
       "       [1.00000000e+00, 6.54694843e-20],\n",
       "       [8.09399978e-20, 1.00000000e+00],\n",
       "       [1.00000000e+00, 3.95291112e-27],\n",
       "       [4.29292676e-18, 1.00000000e+00],\n",
       "       [1.00000000e+00, 2.10229258e-19],\n",
       "       [1.00000000e+00, 0.00000000e+00],\n",
       "       [1.00000000e+00, 0.00000000e+00],\n",
       "       [1.48160115e-08, 1.00000000e+00],\n",
       "       [1.00000000e+00, 0.00000000e+00],\n",
       "       [1.00000000e+00, 8.92744212e-13],\n",
       "       [7.65871307e-13, 1.00000000e+00],\n",
       "       [1.00000000e+00, 0.00000000e+00],\n",
       "       [1.00000000e+00, 4.91973586e-21],\n",
       "       [1.00000000e+00, 0.00000000e+00],\n",
       "       [1.16421148e-01, 8.83578837e-01],\n",
       "       [2.35843545e-04, 9.99764144e-01],\n",
       "       [1.00000000e+00, 4.66255583e-27],\n",
       "       [1.00000000e+00, 2.52866061e-09],\n",
       "       [1.00000000e+00, 8.70582655e-25],\n",
       "       [5.69176428e-17, 1.00000000e+00],\n",
       "       [2.49882632e-11, 1.00000000e+00],\n",
       "       [1.00000000e+00, 6.58086641e-38],\n",
       "       [1.00000000e+00, 2.97636608e-28],\n",
       "       [3.89559218e-12, 1.00000000e+00],\n",
       "       [1.00000000e+00, 0.00000000e+00],\n",
       "       [1.00000000e+00, 0.00000000e+00],\n",
       "       [2.18803737e-22, 1.00000000e+00],\n",
       "       [6.30312172e-07, 9.99999404e-01],\n",
       "       [1.00000000e+00, 8.85407632e-37],\n",
       "       [1.00000000e+00, 6.79333984e-31],\n",
       "       [1.00000000e+00, 9.54583556e-27],\n",
       "       [1.00000000e+00, 2.05274718e-19],\n",
       "       [1.00000000e+00, 3.94444550e-27],\n",
       "       [9.71559544e-09, 1.00000000e+00],\n",
       "       [9.99956012e-01, 4.39982468e-05],\n",
       "       [3.93670680e-18, 1.00000000e+00],\n",
       "       [1.00000000e+00, 7.38588147e-20],\n",
       "       [1.00000000e+00, 1.97275625e-38],\n",
       "       [7.90097087e-16, 1.00000000e+00],\n",
       "       [2.62465380e-18, 1.00000000e+00],\n",
       "       [1.00000000e+00, 2.96861203e-34],\n",
       "       [1.00000000e+00, 4.36878628e-34],\n",
       "       [9.79582787e-01, 2.04171911e-02],\n",
       "       [1.00000000e+00, 1.45451461e-22],\n",
       "       [1.00000000e+00, 7.43812848e-36],\n",
       "       [3.80416226e-04, 9.99619603e-01],\n",
       "       [1.00000000e+00, 3.15560024e-35],\n",
       "       [4.16891105e-10, 1.00000000e+00],\n",
       "       [1.00000000e+00, 8.32397231e-32],\n",
       "       [1.00000000e+00, 1.26483779e-29],\n",
       "       [4.01308153e-10, 1.00000000e+00],\n",
       "       [5.38532383e-08, 1.00000000e+00],\n",
       "       [1.00000000e+00, 6.08125977e-34],\n",
       "       [7.44614184e-01, 2.55385846e-01],\n",
       "       [2.50625401e-22, 1.00000000e+00],\n",
       "       [9.82910110e-14, 1.00000000e+00],\n",
       "       [1.00000000e+00, 0.00000000e+00],\n",
       "       [6.77676595e-11, 1.00000000e+00],\n",
       "       [1.00000000e+00, 2.94416294e-26],\n",
       "       [8.20100302e-21, 1.00000000e+00],\n",
       "       [1.00000000e+00, 2.43671846e-14],\n",
       "       [1.00000000e+00, 1.71470593e-23],\n",
       "       [1.00000000e+00, 0.00000000e+00],\n",
       "       [1.00000000e+00, 0.00000000e+00],\n",
       "       [1.00000000e+00, 1.73436540e-27],\n",
       "       [1.00000000e+00, 0.00000000e+00],\n",
       "       [6.23850989e-16, 1.00000000e+00],\n",
       "       [9.36579661e-15, 1.00000000e+00],\n",
       "       [1.02443255e-01, 8.97556722e-01],\n",
       "       [4.86555962e-07, 9.99999523e-01],\n",
       "       [1.00000000e+00, 1.93596979e-11],\n",
       "       [8.98156827e-07, 9.99999046e-01],\n",
       "       [1.64598634e-03, 9.98354077e-01],\n",
       "       [1.00000000e+00, 7.42617910e-32],\n",
       "       [1.00000000e+00, 7.47854384e-32],\n",
       "       [1.00000000e+00, 0.00000000e+00],\n",
       "       [1.00000000e+00, 5.79003466e-14],\n",
       "       [1.00000000e+00, 5.21899894e-30],\n",
       "       [1.00000000e+00, 0.00000000e+00],\n",
       "       [5.04293098e-07, 9.99999523e-01],\n",
       "       [1.89046008e-18, 1.00000000e+00],\n",
       "       [1.00000000e+00, 0.00000000e+00]], dtype=float32)"
      ]
     },
     "execution_count": 71,
     "metadata": {
      "tags": []
     },
     "output_type": "execute_result"
    }
   ],
   "source": [
    "test_pred"
   ]
  },
  {
   "cell_type": "code",
   "execution_count": null,
   "metadata": {
    "id": "TKM3pZPDR19d"
   },
   "outputs": [],
   "source": [
    "test_pred_cls = np.argmax(test_pred, axis = 1)"
   ]
  },
  {
   "cell_type": "code",
   "execution_count": null,
   "metadata": {
    "colab": {
     "base_uri": "https://localhost:8080/"
    },
    "id": "fAx1ydGuVFYi",
    "outputId": "635d5122-a1cc-4179-e6e1-4a90c6ea5f71"
   },
   "outputs": [
    {
     "name": "stdout",
     "output_type": "stream",
     "text": [
      "5/5 [==============================] - 1s 104ms/step - loss: 0.2224 - accuracy: 0.9701\n"
     ]
    },
    {
     "data": {
      "text/plain": [
       "[0.22240526974201202, 0.9701492786407471]"
      ]
     },
     "execution_count": 74,
     "metadata": {
      "tags": []
     },
     "output_type": "execute_result"
    }
   ],
   "source": [
    "model.evaluate(test_set)"
   ]
  },
  {
   "cell_type": "code",
   "execution_count": null,
   "metadata": {
    "colab": {
     "base_uri": "https://localhost:8080/"
    },
    "id": "YGrLZ6o3RsWe",
    "outputId": "93adfae9-1c37-4f54-b89c-23aad9e0d4df"
   },
   "outputs": [
    {
     "name": "stdout",
     "output_type": "stream",
     "text": [
      "              precision    recall  f1-score   support\n",
      "\n",
      "           0       0.71      0.71      0.71        91\n",
      "           1       0.40      0.40      0.40        43\n",
      "\n",
      "    accuracy                           0.61       134\n",
      "   macro avg       0.55      0.55      0.55       134\n",
      "weighted avg       0.61      0.61      0.61       134\n",
      "\n"
     ]
    }
   ],
   "source": [
    "print(classification_report(test_set.labels, test_pred_cls))"
   ]
  },
  {
   "cell_type": "code",
   "execution_count": null,
   "metadata": {
    "id": "eVnYXY1fRzYO"
   },
   "outputs": [],
   "source": []
  }
 ],
 "metadata": {
  "colab": {
   "collapsed_sections": [],
   "name": "Malaria Prediction.ipynb",
   "provenance": []
  },
  "kernelspec": {
   "display_name": "Python 3",
   "language": "python",
   "name": "python3"
  },
  "language_info": {
   "codemirror_mode": {
    "name": "ipython",
    "version": 3
   },
   "file_extension": ".py",
   "mimetype": "text/x-python",
   "name": "python",
   "nbconvert_exporter": "python",
   "pygments_lexer": "ipython3",
   "version": "3.8.5"
  }
 },
 "nbformat": 4,
 "nbformat_minor": 1
}
