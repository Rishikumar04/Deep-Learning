{
 "cells": [
  {
   "cell_type": "markdown",
   "metadata": {},
   "source": [
    "#### Basic ANN"
   ]
  },
  {
   "cell_type": "code",
   "execution_count": 1,
   "metadata": {},
   "outputs": [],
   "source": [
    "from numpy import loadtxt\n",
    "from keras.models import Sequential\n",
    "from keras.layers import Dense\n",
    "import pandas as pd"
   ]
  },
  {
   "cell_type": "code",
   "execution_count": 2,
   "metadata": {},
   "outputs": [],
   "source": [
    "#Importing Data\n",
    "dataset = loadtxt('pima-indians-diabetes.data.csv',delimiter=',')"
   ]
  },
  {
   "cell_type": "code",
   "execution_count": 4,
   "metadata": {},
   "outputs": [
    {
     "data": {
      "text/plain": [
       "array([[  6.   , 148.   ,  72.   , ...,   0.627,  50.   ,   1.   ],\n",
       "       [  1.   ,  85.   ,  66.   , ...,   0.351,  31.   ,   0.   ],\n",
       "       [  8.   , 183.   ,  64.   , ...,   0.672,  32.   ,   1.   ],\n",
       "       ...,\n",
       "       [  5.   , 121.   ,  72.   , ...,   0.245,  30.   ,   0.   ],\n",
       "       [  1.   , 126.   ,  60.   , ...,   0.349,  47.   ,   1.   ],\n",
       "       [  1.   ,  93.   ,  70.   , ...,   0.315,  23.   ,   0.   ]])"
      ]
     },
     "execution_count": 4,
     "metadata": {},
     "output_type": "execute_result"
    }
   ],
   "source": [
    "dataset"
   ]
  },
  {
   "cell_type": "code",
   "execution_count": 26,
   "metadata": {},
   "outputs": [],
   "source": [
    "#Split it into (X) and output (y) variables \n",
    "X = dataset[:, 0:8]\n",
    "y = dataset[:,8]"
   ]
  },
  {
   "cell_type": "code",
   "execution_count": 27,
   "metadata": {},
   "outputs": [],
   "source": [
    "#Build single layer neural network\n",
    "model = Sequential()\n",
    "\n",
    "#Add Layer\n",
    "model.add(Dense(8, input_dim = 8, activation = 'linear'))#input layer should not be taken as the count for number of hidden layer\n",
    "\n",
    "model.add(Dense(8, activation = 'relu')) #Hidden layer\n",
    "\n",
    "model.add(Dense(1, activation = 'sigmoid')) #Output layer"
   ]
  },
  {
   "cell_type": "code",
   "execution_count": 28,
   "metadata": {},
   "outputs": [],
   "source": [
    "#Compile model\n",
    "model.compile(loss = 'binary_crossentropy', metrics = ['accuracy'], optimizer = 'adam')\n"
   ]
  },
  {
   "cell_type": "code",
   "execution_count": 29,
   "metadata": {},
   "outputs": [
    {
     "name": "stdout",
     "output_type": "stream",
     "text": [
      "Epoch 1/30\n",
      "77/77 [==============================] - 1s 1ms/step - loss: 12.7564 - accuracy: 0.3547\n",
      "Epoch 2/30\n",
      "77/77 [==============================] - 0s 2ms/step - loss: 1.3470 - accuracy: 0.4201\n",
      "Epoch 3/30\n",
      "77/77 [==============================] - 0s 1ms/step - loss: 1.0393 - accuracy: 0.4937\n",
      "Epoch 4/30\n",
      "77/77 [==============================] - 0s 2ms/step - loss: 0.9169 - accuracy: 0.5295\n",
      "Epoch 5/30\n",
      "77/77 [==============================] - 0s 2ms/step - loss: 0.9018 - accuracy: 0.5619\n",
      "Epoch 6/30\n",
      "77/77 [==============================] - 0s 1ms/step - loss: 0.8222 - accuracy: 0.6169\n",
      "Epoch 7/30\n",
      "77/77 [==============================] - 0s 1ms/step - loss: 0.7810 - accuracy: 0.6193\n",
      "Epoch 8/30\n",
      "77/77 [==============================] - 0s 1ms/step - loss: 0.7141 - accuracy: 0.6483\n",
      "Epoch 9/30\n",
      "77/77 [==============================] - 0s 1ms/step - loss: 0.7049 - accuracy: 0.6247\n",
      "Epoch 10/30\n",
      "77/77 [==============================] - 0s 1ms/step - loss: 0.6893 - accuracy: 0.6709\n",
      "Epoch 11/30\n",
      "77/77 [==============================] - 0s 2ms/step - loss: 0.6766 - accuracy: 0.6564\n",
      "Epoch 12/30\n",
      "77/77 [==============================] - 0s 1ms/step - loss: 0.6466 - accuracy: 0.6821\n",
      "Epoch 13/30\n",
      "77/77 [==============================] - 0s 2ms/step - loss: 0.6630 - accuracy: 0.6824\n",
      "Epoch 14/30\n",
      "77/77 [==============================] - 0s 1ms/step - loss: 0.6247 - accuracy: 0.6945\n",
      "Epoch 15/30\n",
      "77/77 [==============================] - 0s 2ms/step - loss: 0.7119 - accuracy: 0.6108\n",
      "Epoch 16/30\n",
      "77/77 [==============================] - 0s 1ms/step - loss: 0.5959 - accuracy: 0.7186\n",
      "Epoch 17/30\n",
      "77/77 [==============================] - 0s 2ms/step - loss: 0.6405 - accuracy: 0.6479\n",
      "Epoch 18/30\n",
      "77/77 [==============================] - 0s 2ms/step - loss: 0.6428 - accuracy: 0.6550\n",
      "Epoch 19/30\n",
      "77/77 [==============================] - 0s 2ms/step - loss: 0.6025 - accuracy: 0.6822\n",
      "Epoch 20/30\n",
      "77/77 [==============================] - 0s 2ms/step - loss: 0.6560 - accuracy: 0.6781\n",
      "Epoch 21/30\n",
      "77/77 [==============================] - 0s 2ms/step - loss: 0.6016 - accuracy: 0.6951\n",
      "Epoch 22/30\n",
      "77/77 [==============================] - 0s 2ms/step - loss: 0.5819 - accuracy: 0.7128\n",
      "Epoch 23/30\n",
      "77/77 [==============================] - 0s 2ms/step - loss: 0.6328 - accuracy: 0.6761\n",
      "Epoch 24/30\n",
      "77/77 [==============================] - 0s 2ms/step - loss: 0.6011 - accuracy: 0.6883\n",
      "Epoch 25/30\n",
      "77/77 [==============================] - 0s 3ms/step - loss: 0.5919 - accuracy: 0.7181\n",
      "Epoch 26/30\n",
      "77/77 [==============================] - 0s 2ms/step - loss: 0.6130 - accuracy: 0.6802\n",
      "Epoch 27/30\n",
      "77/77 [==============================] - 0s 2ms/step - loss: 0.5730 - accuracy: 0.7290\n",
      "Epoch 28/30\n",
      "77/77 [==============================] - 0s 2ms/step - loss: 0.5720 - accuracy: 0.7139\n",
      "Epoch 29/30\n",
      "77/77 [==============================] - 0s 3ms/step - loss: 0.5886 - accuracy: 0.6924\n",
      "Epoch 30/30\n",
      "77/77 [==============================] - 0s 2ms/step - loss: 0.5758 - accuracy: 0.7112\n"
     ]
    },
    {
     "data": {
      "text/plain": [
       "<keras.callbacks.History at 0x7faea2e724f0>"
      ]
     },
     "execution_count": 29,
     "metadata": {},
     "output_type": "execute_result"
    }
   ],
   "source": [
    "#Fit the model\n",
    "model.fit(X, y, epochs = 30, batch_size = 10)"
   ]
  },
  {
   "cell_type": "code",
   "execution_count": 30,
   "metadata": {},
   "outputs": [
    {
     "data": {
      "text/plain": [
       "<AxesSubplot:>"
      ]
     },
     "execution_count": 30,
     "metadata": {},
     "output_type": "execute_result"
    },
    {
     "data": {
      "image/png": "[encoded data removed]",
      "text/plain": [
       "<Figure size 432x288 with 1 Axes>"
      ]
     },
     "metadata": {
      "needs_background": "light"
     },
     "output_type": "display_data"
    }
   ],
   "source": [
    "pd.DataFrame(model.history.history).plot()"
   ]
  },
  {
   "cell_type": "code",
   "execution_count": 31,
   "metadata": {},
   "outputs": [
    {
     "name": "stdout",
     "output_type": "stream",
     "text": [
      "24/24 [==============================] - 0s 1ms/step - loss: 0.5817 - accuracy: 0.7083\n",
      "Accuracy: 70.83\n"
     ]
    }
   ],
   "source": [
    "_,accuracy = model.evaluate(X,y)\n",
    "print(\"Accuracy: %.2f\" % (accuracy*100))"
   ]
  },
  {
   "cell_type": "code",
   "execution_count": 32,
   "metadata": {},
   "outputs": [],
   "source": [
    "#Make probalitiy predictions with the model \n",
    "predictions = model.predict(X)\n",
    "#round your predictions \n",
    "round_ = [round(x[0]) for x in predictions]"
   ]
  },
  {
   "cell_type": "code",
   "execution_count": 33,
   "metadata": {},
   "outputs": [
    {
     "name": "stderr",
     "output_type": "stream",
     "text": [
      "/Applications/anaconda3/lib/python3.8/site-packages/keras/engine/sequential.py:450: UserWarning: `model.predict_classes()` is deprecated and will be removed after 2021-01-01. Please use instead:* `np.argmax(model.predict(x), axis=-1)`,   if your model does multi-class classification   (e.g. if it uses a `softmax` last-layer activation).* `(model.predict(x) > 0.5).astype(\"int32\")`,   if your model does binary classification   (e.g. if it uses a `sigmoid` last-layer activation).\n",
      "  warnings.warn('`model.predict_classes()` is deprecated and '\n"
     ]
    }
   ],
   "source": [
    "#Make the model predict classes \n",
    "predictions = model.predict_classes(X)"
   ]
  },
  {
   "cell_type": "code",
   "execution_count": 35,
   "metadata": {},
   "outputs": [
    {
     "name": "stdout",
     "output_type": "stream",
     "text": [
      "[6.0, 148.0, 72.0, 35.0, 0.0, 33.6, 0.627, 50.0] ------> 1 (expected 1)\n",
      "[1.0, 85.0, 66.0, 29.0, 0.0, 26.6, 0.351, 31.0] ------> 0 (expected 0)\n",
      "[8.0, 183.0, 64.0, 0.0, 0.0, 23.3, 0.672, 32.0] ------> 1 (expected 1)\n",
      "[1.0, 89.0, 66.0, 23.0, 94.0, 28.1, 0.167, 21.0] ------> 0 (expected 0)\n",
      "[0.0, 137.0, 40.0, 35.0, 168.0, 43.1, 2.288, 33.0] ------> 1 (expected 1)\n"
     ]
    }
   ],
   "source": [
    "for i in range(5):\n",
    "  print(\"%s ------> %d (expected %d)\" % (X[i].tolist(),predictions[i],y[i]))"
   ]
  }
 ],
 "metadata": {
  "kernelspec": {
   "display_name": "Python 3",
   "language": "python",
   "name": "python3"
  },
  "language_info": {
   "codemirror_mode": {
    "name": "ipython",
    "version": 3
   },
   "file_extension": ".py",
   "mimetype": "text/x-python",
   "name": "python",
   "nbconvert_exporter": "python",
   "pygments_lexer": "ipython3",
   "version": "3.8.5"
  }
 },
 "nbformat": 4,
 "nbformat_minor": 4
}
